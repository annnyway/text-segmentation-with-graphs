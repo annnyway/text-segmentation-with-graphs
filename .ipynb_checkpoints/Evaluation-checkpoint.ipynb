{
 "cells": [
  {
   "cell_type": "code",
   "execution_count": 1,
   "metadata": {},
   "outputs": [],
   "source": [
    "import gensim\n",
    "from gensim.models import KeyedVectors"
   ]
  },
  {
   "cell_type": "code",
   "execution_count": 2,
   "metadata": {},
   "outputs": [],
   "source": [
    "import functions as f "
   ]
  },
  {
   "cell_type": "code",
   "execution_count": 3,
   "metadata": {},
   "outputs": [],
   "source": [
    "model = gensim.models.KeyedVectors.load('/Users/isupovand/Downloads/187/model.model')"
   ]
  },
  {
   "cell_type": "code",
   "execution_count": 5,
   "metadata": {},
   "outputs": [],
   "source": [
    "import os"
   ]
  },
  {
   "cell_type": "code",
   "execution_count": 6,
   "metadata": {},
   "outputs": [],
   "source": [
    "path = './texts/exam'\n",
    "\n",
    "files = []\n",
    "for filename in os.listdir(path):\n",
    "    files.append(filename)"
   ]
  },
  {
   "cell_type": "code",
   "execution_count": 7,
   "metadata": {},
   "outputs": [
    {
     "data": {
      "text/plain": [
       "['.DS_Store',\n",
       " '01.txt',\n",
       " '02.txt',\n",
       " '03.txt',\n",
       " '04.txt',\n",
       " '05.txt',\n",
       " '06.txt',\n",
       " '07.txt',\n",
       " '08.txt',\n",
       " '09.txt',\n",
       " '10.txt']"
      ]
     },
     "execution_count": 7,
     "metadata": {},
     "output_type": "execute_result"
    }
   ],
   "source": [
    "files"
   ]
  },
  {
   "cell_type": "code",
   "execution_count": 8,
   "metadata": {},
   "outputs": [],
   "source": [
    "import pandas as pd"
   ]
  },
  {
   "cell_type": "markdown",
   "metadata": {},
   "source": [
    "## Tau = 4"
   ]
  },
  {
   "cell_type": "code",
   "execution_count": 17,
   "metadata": {},
   "outputs": [
    {
     "name": "stdout",
     "output_type": "stream",
     "text": [
      "Lemmatizing sentences\n"
     ]
    },
    {
     "data": {
      "application/vnd.jupyter.widget-view+json": {
       "model_id": "676ec86962d74d708bf242f25e155ed9",
       "version_major": 2,
       "version_minor": 0
      },
      "text/plain": [
       "HBox(children=(IntProgress(value=0, max=24), HTML(value='')))"
      ]
     },
     "metadata": {},
     "output_type": "display_data"
    },
    {
     "name": "stdout",
     "output_type": "stream",
     "text": [
      "\n",
      "Lemmatizing sentences\n"
     ]
    },
    {
     "data": {
      "application/vnd.jupyter.widget-view+json": {
       "model_id": "426c32f28fb84c7197d4e24d5a8f6c07",
       "version_major": 2,
       "version_minor": 0
      },
      "text/plain": [
       "HBox(children=(IntProgress(value=0, max=22), HTML(value='')))"
      ]
     },
     "metadata": {},
     "output_type": "display_data"
    },
    {
     "name": "stdout",
     "output_type": "stream",
     "text": [
      "\n",
      "Lemmatizing sentences\n"
     ]
    },
    {
     "data": {
      "application/vnd.jupyter.widget-view+json": {
       "model_id": "94fea507b09d4b33a1817ddc8cefaf1c",
       "version_major": 2,
       "version_minor": 0
      },
      "text/plain": [
       "HBox(children=(IntProgress(value=0, max=23), HTML(value='')))"
      ]
     },
     "metadata": {},
     "output_type": "display_data"
    },
    {
     "name": "stdout",
     "output_type": "stream",
     "text": [
      "\n",
      "Lemmatizing sentences\n"
     ]
    },
    {
     "data": {
      "application/vnd.jupyter.widget-view+json": {
       "model_id": "f0d754e9878445c9b21325a55029f582",
       "version_major": 2,
       "version_minor": 0
      },
      "text/plain": [
       "HBox(children=(IntProgress(value=0, max=27), HTML(value='')))"
      ]
     },
     "metadata": {},
     "output_type": "display_data"
    },
    {
     "name": "stdout",
     "output_type": "stream",
     "text": [
      "\n",
      "Lemmatizing sentences\n"
     ]
    },
    {
     "data": {
      "application/vnd.jupyter.widget-view+json": {
       "model_id": "2bbe7026b67949ab823c7e202aea1960",
       "version_major": 2,
       "version_minor": 0
      },
      "text/plain": [
       "HBox(children=(IntProgress(value=0, max=20), HTML(value='')))"
      ]
     },
     "metadata": {},
     "output_type": "display_data"
    },
    {
     "name": "stdout",
     "output_type": "stream",
     "text": [
      "\n",
      "Lemmatizing sentences\n"
     ]
    },
    {
     "data": {
      "application/vnd.jupyter.widget-view+json": {
       "model_id": "092a347e16cb469eb3355895a438883d",
       "version_major": 2,
       "version_minor": 0
      },
      "text/plain": [
       "HBox(children=(IntProgress(value=0, max=20), HTML(value='')))"
      ]
     },
     "metadata": {},
     "output_type": "display_data"
    },
    {
     "name": "stdout",
     "output_type": "stream",
     "text": [
      "\n",
      "Lemmatizing sentences\n"
     ]
    },
    {
     "data": {
      "application/vnd.jupyter.widget-view+json": {
       "model_id": "ebed8ae770c545bb9b20988d3635fb7a",
       "version_major": 2,
       "version_minor": 0
      },
      "text/plain": [
       "HBox(children=(IntProgress(value=0, max=18), HTML(value='')))"
      ]
     },
     "metadata": {},
     "output_type": "display_data"
    },
    {
     "name": "stdout",
     "output_type": "stream",
     "text": [
      "\n"
     ]
    }
   ],
   "source": [
    "results = []\n",
    "for text in files[1:8]:\n",
    "    sents, real_paragraphs, pred_segment_indices, pred_paragraphs = f.segmentize_bipartite_subgraphs('./texts/exam/' + text, \n",
    "                                                    model=model,\n",
    "                                                    tau=4)\n",
    "    gold_idx = f.gold_segment_indices(real_paragraphs)\n",
    "    k = int(0.5*len(sents)/len(real_paragraphs))\n",
    "    results.append(f.evaluate(gold_idx, pred_segment_indices, k))"
   ]
  },
  {
   "cell_type": "code",
   "execution_count": 18,
   "metadata": {},
   "outputs": [
    {
     "data": {
      "text/plain": [
       "[{'pk': 0.5652173913043478, 'windowdiff': 0.6086956521739131},\n",
       " {'pk': 0.4090909090909091, 'windowdiff': 0.4090909090909091},\n",
       " {'pk': 0.5454545454545454, 'windowdiff': 0.5909090909090909},\n",
       " {'pk': 0.4230769230769231, 'windowdiff': 0.46153846153846156},\n",
       " {'pk': 0.42105263157894735, 'windowdiff': 0.47368421052631576},\n",
       " {'pk': 0.631578947368421, 'windowdiff': 0.7894736842105263},\n",
       " {'pk': 0.5, 'windowdiff': 0.5}]"
      ]
     },
     "execution_count": 18,
     "metadata": {},
     "output_type": "execute_result"
    }
   ],
   "source": [
    "results"
   ]
  },
  {
   "cell_type": "code",
   "execution_count": 19,
   "metadata": {},
   "outputs": [
    {
     "data": {
      "text/html": [
       "<div>\n",
       "<style scoped>\n",
       "    .dataframe tbody tr th:only-of-type {\n",
       "        vertical-align: middle;\n",
       "    }\n",
       "\n",
       "    .dataframe tbody tr th {\n",
       "        vertical-align: top;\n",
       "    }\n",
       "\n",
       "    .dataframe thead th {\n",
       "        text-align: right;\n",
       "    }\n",
       "</style>\n",
       "<table border=\"1\" class=\"dataframe\">\n",
       "  <thead>\n",
       "    <tr style=\"text-align: right;\">\n",
       "      <th></th>\n",
       "      <th>pk</th>\n",
       "      <th>windowdiff</th>\n",
       "    </tr>\n",
       "  </thead>\n",
       "  <tbody>\n",
       "    <tr>\n",
       "      <td>0</td>\n",
       "      <td>0.565217</td>\n",
       "      <td>0.608696</td>\n",
       "    </tr>\n",
       "    <tr>\n",
       "      <td>1</td>\n",
       "      <td>0.409091</td>\n",
       "      <td>0.409091</td>\n",
       "    </tr>\n",
       "    <tr>\n",
       "      <td>2</td>\n",
       "      <td>0.545455</td>\n",
       "      <td>0.590909</td>\n",
       "    </tr>\n",
       "    <tr>\n",
       "      <td>3</td>\n",
       "      <td>0.423077</td>\n",
       "      <td>0.461538</td>\n",
       "    </tr>\n",
       "    <tr>\n",
       "      <td>4</td>\n",
       "      <td>0.421053</td>\n",
       "      <td>0.473684</td>\n",
       "    </tr>\n",
       "    <tr>\n",
       "      <td>5</td>\n",
       "      <td>0.631579</td>\n",
       "      <td>0.789474</td>\n",
       "    </tr>\n",
       "    <tr>\n",
       "      <td>6</td>\n",
       "      <td>0.500000</td>\n",
       "      <td>0.500000</td>\n",
       "    </tr>\n",
       "  </tbody>\n",
       "</table>\n",
       "</div>"
      ],
      "text/plain": [
       "         pk  windowdiff\n",
       "0  0.565217    0.608696\n",
       "1  0.409091    0.409091\n",
       "2  0.545455    0.590909\n",
       "3  0.423077    0.461538\n",
       "4  0.421053    0.473684\n",
       "5  0.631579    0.789474\n",
       "6  0.500000    0.500000"
      ]
     },
     "execution_count": 19,
     "metadata": {},
     "output_type": "execute_result"
    }
   ],
   "source": [
    "pd.DataFrame(index=range(7), \n",
    "             data=[results[0].values(), results[1].values(), results[2].values(), \n",
    "                   results[3].values(), results[4].values(), results[5].values(), results[6].values()],\n",
    "            columns=results[0].keys())"
   ]
  },
  {
   "cell_type": "markdown",
   "metadata": {},
   "source": [
    "## Tau = 3"
   ]
  },
  {
   "cell_type": "code",
   "execution_count": 75,
   "metadata": {},
   "outputs": [
    {
     "name": "stdout",
     "output_type": "stream",
     "text": [
      "Lemmatizing sentences\n"
     ]
    },
    {
     "data": {
      "application/vnd.jupyter.widget-view+json": {
       "model_id": "94c451ec94044ecc84da8891cf8a3fa2",
       "version_major": 2,
       "version_minor": 0
      },
      "text/plain": [
       "HBox(children=(IntProgress(value=0, max=24), HTML(value='')))"
      ]
     },
     "metadata": {},
     "output_type": "display_data"
    },
    {
     "name": "stdout",
     "output_type": "stream",
     "text": [
      "\n",
      "Изначальный текст  5  Предсказание  8\n",
      "Lemmatizing sentences\n"
     ]
    },
    {
     "data": {
      "application/vnd.jupyter.widget-view+json": {
       "model_id": "049ffee0131e448da40e8bc2de1a95fc",
       "version_major": 2,
       "version_minor": 0
      },
      "text/plain": [
       "HBox(children=(IntProgress(value=0, max=22), HTML(value='')))"
      ]
     },
     "metadata": {},
     "output_type": "display_data"
    },
    {
     "name": "stdout",
     "output_type": "stream",
     "text": [
      "\n",
      "Изначальный текст  6  Предсказание  8\n",
      "Lemmatizing sentences\n"
     ]
    },
    {
     "data": {
      "application/vnd.jupyter.widget-view+json": {
       "model_id": "07b880f177234241856aa07462365050",
       "version_major": 2,
       "version_minor": 0
      },
      "text/plain": [
       "HBox(children=(IntProgress(value=0, max=23), HTML(value='')))"
      ]
     },
     "metadata": {},
     "output_type": "display_data"
    },
    {
     "name": "stdout",
     "output_type": "stream",
     "text": [
      "\n",
      "Изначальный текст  5  Предсказание  7\n",
      "Lemmatizing sentences\n"
     ]
    },
    {
     "data": {
      "application/vnd.jupyter.widget-view+json": {
       "model_id": "b7be9bc5fa5c4cad90cba29d93037822",
       "version_major": 2,
       "version_minor": 0
      },
      "text/plain": [
       "HBox(children=(IntProgress(value=0, max=27), HTML(value='')))"
      ]
     },
     "metadata": {},
     "output_type": "display_data"
    },
    {
     "name": "stdout",
     "output_type": "stream",
     "text": [
      "\n",
      "Изначальный текст  5  Предсказание  7\n",
      "Lemmatizing sentences\n"
     ]
    },
    {
     "data": {
      "application/vnd.jupyter.widget-view+json": {
       "model_id": "385f401443524de0b7c54158be144818",
       "version_major": 2,
       "version_minor": 0
      },
      "text/plain": [
       "HBox(children=(IntProgress(value=0, max=20), HTML(value='')))"
      ]
     },
     "metadata": {},
     "output_type": "display_data"
    },
    {
     "name": "stdout",
     "output_type": "stream",
     "text": [
      "\n",
      "Изначальный текст  4  Предсказание  2\n",
      "Lemmatizing sentences\n"
     ]
    },
    {
     "data": {
      "application/vnd.jupyter.widget-view+json": {
       "model_id": "6f8e1d65047a4f04848474ecc96fb80e",
       "version_major": 2,
       "version_minor": 0
      },
      "text/plain": [
       "HBox(children=(IntProgress(value=0, max=20), HTML(value='')))"
      ]
     },
     "metadata": {},
     "output_type": "display_data"
    },
    {
     "name": "stdout",
     "output_type": "stream",
     "text": [
      "\n",
      "Изначальный текст  5  Предсказание  5\n",
      "Lemmatizing sentences\n"
     ]
    },
    {
     "data": {
      "application/vnd.jupyter.widget-view+json": {
       "model_id": "fb00f3118d75452cb7ad7f9cf4e69b5e",
       "version_major": 2,
       "version_minor": 0
      },
      "text/plain": [
       "HBox(children=(IntProgress(value=0, max=18), HTML(value='')))"
      ]
     },
     "metadata": {},
     "output_type": "display_data"
    },
    {
     "name": "stdout",
     "output_type": "stream",
     "text": [
      "\n",
      "Изначальный текст  5  Предсказание  5\n"
     ]
    }
   ],
   "source": [
    "results_1 = []\n",
    "real = []\n",
    "pred = []\n",
    "for text in files[1:8]:\n",
    "    sents, real_paragraphs, pred_segment_indices, pred_paragraphs = f.segmentize_bipartite_subgraphs('./texts/exam/' + text, \n",
    "                                                    model=model,\n",
    "                                                    tau=3)\n",
    "    gold_idx = f.gold_segment_indices(real_paragraphs)\n",
    "    k = int(0.5*len(sents)/len(real_paragraphs))\n",
    "    results_1.append(f.evaluate(gold_idx, pred_segment_indices, k))\n",
    "    print('Изначальный текст ', len(real_paragraphs), ' Предсказание ', len(pred_paragraphs) )\n",
    "    real.append(real_paragraphs)\n",
    "    pred.append(pred_paragraphs)"
   ]
  },
  {
   "cell_type": "code",
   "execution_count": 76,
   "metadata": {},
   "outputs": [
    {
     "data": {
      "text/plain": [
       "[{'pk': 0.34782608695652173, 'windowdiff': 0.391304347826087},\n",
       " {'pk': 0.45454545454545453, 'windowdiff': 0.45454545454545453},\n",
       " {'pk': 0.36363636363636365, 'windowdiff': 0.36363636363636365},\n",
       " {'pk': 0.4230769230769231, 'windowdiff': 0.46153846153846156},\n",
       " {'pk': 0.2631578947368421, 'windowdiff': 0.2631578947368421},\n",
       " {'pk': 0.42105263157894735, 'windowdiff': 0.5263157894736842},\n",
       " {'pk': 0.4444444444444444, 'windowdiff': 0.4444444444444444}]"
      ]
     },
     "execution_count": 76,
     "metadata": {},
     "output_type": "execute_result"
    }
   ],
   "source": [
    "results_1"
   ]
  },
  {
   "cell_type": "code",
   "execution_count": 77,
   "metadata": {},
   "outputs": [
    {
     "data": {
      "text/html": [
       "<div>\n",
       "<style scoped>\n",
       "    .dataframe tbody tr th:only-of-type {\n",
       "        vertical-align: middle;\n",
       "    }\n",
       "\n",
       "    .dataframe tbody tr th {\n",
       "        vertical-align: top;\n",
       "    }\n",
       "\n",
       "    .dataframe thead th {\n",
       "        text-align: right;\n",
       "    }\n",
       "</style>\n",
       "<table border=\"1\" class=\"dataframe\">\n",
       "  <thead>\n",
       "    <tr style=\"text-align: right;\">\n",
       "      <th></th>\n",
       "      <th>pk</th>\n",
       "      <th>windowdiff</th>\n",
       "    </tr>\n",
       "  </thead>\n",
       "  <tbody>\n",
       "    <tr>\n",
       "      <td>0</td>\n",
       "      <td>0.347826</td>\n",
       "      <td>0.391304</td>\n",
       "    </tr>\n",
       "    <tr>\n",
       "      <td>1</td>\n",
       "      <td>0.454545</td>\n",
       "      <td>0.454545</td>\n",
       "    </tr>\n",
       "    <tr>\n",
       "      <td>2</td>\n",
       "      <td>0.363636</td>\n",
       "      <td>0.363636</td>\n",
       "    </tr>\n",
       "    <tr>\n",
       "      <td>3</td>\n",
       "      <td>0.423077</td>\n",
       "      <td>0.461538</td>\n",
       "    </tr>\n",
       "    <tr>\n",
       "      <td>4</td>\n",
       "      <td>0.263158</td>\n",
       "      <td>0.263158</td>\n",
       "    </tr>\n",
       "    <tr>\n",
       "      <td>5</td>\n",
       "      <td>0.421053</td>\n",
       "      <td>0.526316</td>\n",
       "    </tr>\n",
       "    <tr>\n",
       "      <td>6</td>\n",
       "      <td>0.444444</td>\n",
       "      <td>0.444444</td>\n",
       "    </tr>\n",
       "  </tbody>\n",
       "</table>\n",
       "</div>"
      ],
      "text/plain": [
       "         pk  windowdiff\n",
       "0  0.347826    0.391304\n",
       "1  0.454545    0.454545\n",
       "2  0.363636    0.363636\n",
       "3  0.423077    0.461538\n",
       "4  0.263158    0.263158\n",
       "5  0.421053    0.526316\n",
       "6  0.444444    0.444444"
      ]
     },
     "execution_count": 77,
     "metadata": {},
     "output_type": "execute_result"
    }
   ],
   "source": [
    "pd.DataFrame(index=range(7), \n",
    "             data=[results_1[0].values(), results_1[1].values(), results_1[2].values(), \n",
    "                   results_1[3].values(), results_1[4].values(), results_1[5].values(), results_1[6].values()],\n",
    "            columns=results_1[0].keys())"
   ]
  },
  {
   "cell_type": "markdown",
   "metadata": {},
   "source": [
    "## Tau = 2.5"
   ]
  },
  {
   "cell_type": "code",
   "execution_count": 78,
   "metadata": {},
   "outputs": [
    {
     "name": "stdout",
     "output_type": "stream",
     "text": [
      "Lemmatizing sentences\n"
     ]
    },
    {
     "data": {
      "application/vnd.jupyter.widget-view+json": {
       "model_id": "7aca4db09ffc44a7874aef737e7c5ce9",
       "version_major": 2,
       "version_minor": 0
      },
      "text/plain": [
       "HBox(children=(IntProgress(value=0, max=24), HTML(value='')))"
      ]
     },
     "metadata": {},
     "output_type": "display_data"
    },
    {
     "name": "stdout",
     "output_type": "stream",
     "text": [
      "\n",
      "Изначальный текст  5  Предсказание  7\n",
      "Lemmatizing sentences\n"
     ]
    },
    {
     "data": {
      "application/vnd.jupyter.widget-view+json": {
       "model_id": "73d8fb92d8834f8faaa3081fb9cd71cb",
       "version_major": 2,
       "version_minor": 0
      },
      "text/plain": [
       "HBox(children=(IntProgress(value=0, max=22), HTML(value='')))"
      ]
     },
     "metadata": {},
     "output_type": "display_data"
    },
    {
     "name": "stdout",
     "output_type": "stream",
     "text": [
      "\n",
      "Изначальный текст  6  Предсказание  3\n",
      "Lemmatizing sentences\n"
     ]
    },
    {
     "data": {
      "application/vnd.jupyter.widget-view+json": {
       "model_id": "10ad382191d84ccab2109158dc272bd5",
       "version_major": 2,
       "version_minor": 0
      },
      "text/plain": [
       "HBox(children=(IntProgress(value=0, max=23), HTML(value='')))"
      ]
     },
     "metadata": {},
     "output_type": "display_data"
    },
    {
     "name": "stdout",
     "output_type": "stream",
     "text": [
      "\n",
      "Изначальный текст  5  Предсказание  4\n",
      "Lemmatizing sentences\n"
     ]
    },
    {
     "data": {
      "application/vnd.jupyter.widget-view+json": {
       "model_id": "e9cbf75adf0c485699492d61e2c9e512",
       "version_major": 2,
       "version_minor": 0
      },
      "text/plain": [
       "HBox(children=(IntProgress(value=0, max=27), HTML(value='')))"
      ]
     },
     "metadata": {},
     "output_type": "display_data"
    },
    {
     "name": "stdout",
     "output_type": "stream",
     "text": [
      "\n",
      "Изначальный текст  5  Предсказание  4\n",
      "Lemmatizing sentences\n"
     ]
    },
    {
     "data": {
      "application/vnd.jupyter.widget-view+json": {
       "model_id": "a55f2499b7e54ee98c7ab02742d9f876",
       "version_major": 2,
       "version_minor": 0
      },
      "text/plain": [
       "HBox(children=(IntProgress(value=0, max=20), HTML(value='')))"
      ]
     },
     "metadata": {},
     "output_type": "display_data"
    },
    {
     "name": "stdout",
     "output_type": "stream",
     "text": [
      "\n",
      "Изначальный текст  4  Предсказание  2\n",
      "Lemmatizing sentences\n"
     ]
    },
    {
     "data": {
      "application/vnd.jupyter.widget-view+json": {
       "model_id": "b1d64e181a7e4e7da69329a9a3b811fe",
       "version_major": 2,
       "version_minor": 0
      },
      "text/plain": [
       "HBox(children=(IntProgress(value=0, max=20), HTML(value='')))"
      ]
     },
     "metadata": {},
     "output_type": "display_data"
    },
    {
     "name": "stdout",
     "output_type": "stream",
     "text": [
      "\n",
      "Изначальный текст  5  Предсказание  4\n",
      "Lemmatizing sentences\n"
     ]
    },
    {
     "data": {
      "application/vnd.jupyter.widget-view+json": {
       "model_id": "9180fdb39b1e47669220823ca576ca75",
       "version_major": 2,
       "version_minor": 0
      },
      "text/plain": [
       "HBox(children=(IntProgress(value=0, max=18), HTML(value='')))"
      ]
     },
     "metadata": {},
     "output_type": "display_data"
    },
    {
     "name": "stdout",
     "output_type": "stream",
     "text": [
      "\n",
      "Изначальный текст  5  Предсказание  3\n"
     ]
    }
   ],
   "source": [
    "results_22 = []\n",
    "real = []\n",
    "pred = []\n",
    "for text in files[1:8]:\n",
    "    sents, real_paragraphs, pred_segment_indices, pred_paragraphs = f.segmentize_bipartite_subgraphs('./texts/exam/' + text, \n",
    "                                                    model=model,\n",
    "                                                    tau=2.5)\n",
    "    gold_idx = f.gold_segment_indices(real_paragraphs)\n",
    "    k = int(0.5*len(sents)/len(real_paragraphs))\n",
    "    results_22.append(f.evaluate(gold_idx, pred_segment_indices, k))\n",
    "    print('Изначальный текст ', len(real_paragraphs), ' Предсказание ', len(pred_paragraphs) )\n",
    "    real.append(real_paragraphs)\n",
    "    pred.append(pred_paragraphs)"
   ]
  },
  {
   "cell_type": "code",
   "execution_count": 79,
   "metadata": {},
   "outputs": [
    {
     "data": {
      "text/html": [
       "<div>\n",
       "<style scoped>\n",
       "    .dataframe tbody tr th:only-of-type {\n",
       "        vertical-align: middle;\n",
       "    }\n",
       "\n",
       "    .dataframe tbody tr th {\n",
       "        vertical-align: top;\n",
       "    }\n",
       "\n",
       "    .dataframe thead th {\n",
       "        text-align: right;\n",
       "    }\n",
       "</style>\n",
       "<table border=\"1\" class=\"dataframe\">\n",
       "  <thead>\n",
       "    <tr style=\"text-align: right;\">\n",
       "      <th></th>\n",
       "      <th>pk</th>\n",
       "      <th>windowdiff</th>\n",
       "    </tr>\n",
       "  </thead>\n",
       "  <tbody>\n",
       "    <tr>\n",
       "      <td>0</td>\n",
       "      <td>0.434783</td>\n",
       "      <td>0.478261</td>\n",
       "    </tr>\n",
       "    <tr>\n",
       "      <td>1</td>\n",
       "      <td>0.227273</td>\n",
       "      <td>0.227273</td>\n",
       "    </tr>\n",
       "    <tr>\n",
       "      <td>2</td>\n",
       "      <td>0.454545</td>\n",
       "      <td>0.500000</td>\n",
       "    </tr>\n",
       "    <tr>\n",
       "      <td>3</td>\n",
       "      <td>0.307692</td>\n",
       "      <td>0.346154</td>\n",
       "    </tr>\n",
       "    <tr>\n",
       "      <td>4</td>\n",
       "      <td>0.263158</td>\n",
       "      <td>0.263158</td>\n",
       "    </tr>\n",
       "    <tr>\n",
       "      <td>5</td>\n",
       "      <td>0.526316</td>\n",
       "      <td>0.578947</td>\n",
       "    </tr>\n",
       "    <tr>\n",
       "      <td>6</td>\n",
       "      <td>0.333333</td>\n",
       "      <td>0.333333</td>\n",
       "    </tr>\n",
       "  </tbody>\n",
       "</table>\n",
       "</div>"
      ],
      "text/plain": [
       "         pk  windowdiff\n",
       "0  0.434783    0.478261\n",
       "1  0.227273    0.227273\n",
       "2  0.454545    0.500000\n",
       "3  0.307692    0.346154\n",
       "4  0.263158    0.263158\n",
       "5  0.526316    0.578947\n",
       "6  0.333333    0.333333"
      ]
     },
     "execution_count": 79,
     "metadata": {},
     "output_type": "execute_result"
    }
   ],
   "source": [
    "pd.DataFrame(index=range(7), \n",
    "             data=[results_22[0].values(), results_22[1].values(), results_22[2].values(), \n",
    "                   results_22[3].values(), results_22[4].values(), results_22[5].values(), results_22[6].values()],\n",
    "            columns=results_22[0].keys())"
   ]
  },
  {
   "cell_type": "code",
   "execution_count": null,
   "metadata": {},
   "outputs": [],
   "source": []
  },
  {
   "cell_type": "markdown",
   "metadata": {},
   "source": [
    "## Tau = 2"
   ]
  },
  {
   "cell_type": "code",
   "execution_count": 74,
   "metadata": {},
   "outputs": [
    {
     "name": "stdout",
     "output_type": "stream",
     "text": [
      "Lemmatizing sentences\n"
     ]
    },
    {
     "data": {
      "application/vnd.jupyter.widget-view+json": {
       "model_id": "85534ccfc0074dbe94ece38d45c45226",
       "version_major": 2,
       "version_minor": 0
      },
      "text/plain": [
       "HBox(children=(IntProgress(value=0, max=24), HTML(value='')))"
      ]
     },
     "metadata": {},
     "output_type": "display_data"
    },
    {
     "name": "stdout",
     "output_type": "stream",
     "text": [
      "\n",
      "Изначальный текст  5  Предсказание  2\n",
      "Lemmatizing sentences\n"
     ]
    },
    {
     "data": {
      "application/vnd.jupyter.widget-view+json": {
       "model_id": "6fc990747c2f4856a8bf2f29c4399f07",
       "version_major": 2,
       "version_minor": 0
      },
      "text/plain": [
       "HBox(children=(IntProgress(value=0, max=22), HTML(value='')))"
      ]
     },
     "metadata": {},
     "output_type": "display_data"
    },
    {
     "name": "stdout",
     "output_type": "stream",
     "text": [
      "\n",
      "Изначальный текст  6  Предсказание  2\n",
      "Lemmatizing sentences\n"
     ]
    },
    {
     "data": {
      "application/vnd.jupyter.widget-view+json": {
       "model_id": "718765b1ad644c14b77e9ebc98990395",
       "version_major": 2,
       "version_minor": 0
      },
      "text/plain": [
       "HBox(children=(IntProgress(value=0, max=23), HTML(value='')))"
      ]
     },
     "metadata": {},
     "output_type": "display_data"
    },
    {
     "name": "stdout",
     "output_type": "stream",
     "text": [
      "\n",
      "Изначальный текст  5  Предсказание  1\n",
      "Lemmatizing sentences\n"
     ]
    },
    {
     "data": {
      "application/vnd.jupyter.widget-view+json": {
       "model_id": "3c099dfd5e984d5193bd98a4c3cd68d4",
       "version_major": 2,
       "version_minor": 0
      },
      "text/plain": [
       "HBox(children=(IntProgress(value=0, max=27), HTML(value='')))"
      ]
     },
     "metadata": {},
     "output_type": "display_data"
    },
    {
     "name": "stdout",
     "output_type": "stream",
     "text": [
      "\n",
      "Изначальный текст  5  Предсказание  3\n",
      "Lemmatizing sentences\n"
     ]
    },
    {
     "data": {
      "application/vnd.jupyter.widget-view+json": {
       "model_id": "6b034234ee7c45f6a24fee2208275d44",
       "version_major": 2,
       "version_minor": 0
      },
      "text/plain": [
       "HBox(children=(IntProgress(value=0, max=20), HTML(value='')))"
      ]
     },
     "metadata": {},
     "output_type": "display_data"
    },
    {
     "name": "stdout",
     "output_type": "stream",
     "text": [
      "\n",
      "Изначальный текст  4  Предсказание  1\n",
      "Lemmatizing sentences\n"
     ]
    },
    {
     "data": {
      "application/vnd.jupyter.widget-view+json": {
       "model_id": "999b8010b6854250a8ce6734667d27a1",
       "version_major": 2,
       "version_minor": 0
      },
      "text/plain": [
       "HBox(children=(IntProgress(value=0, max=20), HTML(value='')))"
      ]
     },
     "metadata": {},
     "output_type": "display_data"
    },
    {
     "name": "stdout",
     "output_type": "stream",
     "text": [
      "\n",
      "Изначальный текст  5  Предсказание  4\n",
      "Lemmatizing sentences\n"
     ]
    },
    {
     "data": {
      "application/vnd.jupyter.widget-view+json": {
       "model_id": "df04b41119d24329928a9793417f5f8b",
       "version_major": 2,
       "version_minor": 0
      },
      "text/plain": [
       "HBox(children=(IntProgress(value=0, max=18), HTML(value='')))"
      ]
     },
     "metadata": {},
     "output_type": "display_data"
    },
    {
     "name": "stdout",
     "output_type": "stream",
     "text": [
      "\n",
      "Изначальный текст  5  Предсказание  1\n"
     ]
    }
   ],
   "source": [
    "results_2 = []\n",
    "real = []\n",
    "pred = []\n",
    "for text in files[1:8]:\n",
    "    sents, real_paragraphs, pred_segment_indices, pred_paragraphs = f.segmentize_bipartite_subgraphs('./texts/exam/' + text, \n",
    "                                                    model=model,\n",
    "                                                    tau=2)\n",
    "    gold_idx = f.gold_segment_indices(real_paragraphs)\n",
    "    k = int(0.5*len(sents)/len(real_paragraphs))\n",
    "    results_2.append(f.evaluate(gold_idx, pred_segment_indices, k))\n",
    "    print('Изначальный текст ', len(real_paragraphs), ' Предсказание ', len(pred_paragraphs) )\n",
    "    real.append(real_paragraphs)\n",
    "    pred.append(pred_paragraphs)"
   ]
  },
  {
   "cell_type": "code",
   "execution_count": 24,
   "metadata": {},
   "outputs": [
    {
     "data": {
      "text/plain": [
       "[{'pk': 0.34782608695652173, 'windowdiff': 0.391304347826087},\n",
       " {'pk': 0.18181818181818182, 'windowdiff': 0.18181818181818182},\n",
       " {'pk': 0.3181818181818182, 'windowdiff': 0.36363636363636365},\n",
       " {'pk': 0.23076923076923078, 'windowdiff': 0.2692307692307692},\n",
       " {'pk': 0.2631578947368421, 'windowdiff': 0.2631578947368421},\n",
       " {'pk': 0.5263157894736842, 'windowdiff': 0.5789473684210527},\n",
       " {'pk': 0.2222222222222222, 'windowdiff': 0.2222222222222222}]"
      ]
     },
     "execution_count": 24,
     "metadata": {},
     "output_type": "execute_result"
    }
   ],
   "source": [
    "results_2"
   ]
  },
  {
   "cell_type": "code",
   "execution_count": 73,
   "metadata": {},
   "outputs": [
    {
     "name": "stdout",
     "output_type": "stream",
     "text": [
      "['Автор в данном тексте поднимает проблему двуличия людей.', 'Раскрывая данную проблему, автор рассказывает небольшую историю из жизни Жени Каштановой, которая хотела остаться работать в родном совхозе, а учиться заочно.', 'О своем решении Женя решила сообщить отцу директору совхоза.', 'Но то, что она услышала в ответ, потрясло ее до глубины души, а отца она увидела совсем с иной стороны.', 'Отец говорил дочери: «Мне — директору, хозяину — нужно, чтобы молодёжь осталась в совхозе, ведь это — сила нашего хозяйства, его молодая кровь, молодая мысль, это — его будущее.', 'Я обязан думать о будущем моего хозяйства, если даже меня самого здесь не будет».', 'Но дальше Женя не поверила свои ушам, отец говорил, что работать утятницей не самое лучшее занятие для нее – его дочери, он хотел убедить Женю в том, что она должна учиться на педагога, а впоследствии стать директором школы, то есть заниматься чистым трудом, а не возиться в пыли, грязи и навозе.', 'Женя, услышав это сидела, будто громом пораженная, «бледная, с неподвижным, словно застывшим взглядом».', 'Она вдруг поняла, насколько двуличным может быть ее отец.', '«Чувство неслыханного разочарования оглушило её, как удар…Он разговаривал с ней сейчас, как самый последний мещанин!. .Но он дал право выбора именно ей, не запретил, не настоял на своей воле, а сказал думать ещё!».', 'Хочется верить, что отец смирится с выбором дочери, но двуличным быть вряд ли перестанет.', 'Воронкова в данном тексте пишет о двуличии людей, считает, что оно проявляется в том, как человек говорит, в том, что человек говорит людям не то, что думает на самом деле.', 'Неискренность человека отталкивает людей от него.', 'С позицией автора я согласна.', 'Порой родители решаются на безнравственные поступки ради счастья своих детей.', 'По большому счету, отец Жени был лицемерным лишь отчасти.', 'Он занимает ответственный пост, испытывает на себе все тяготы сельскохозяйственных работ, поэтому с высоты своего опыта пытается указать дочери верный путь, скорее всего, он знает, что работа учителя – это тоже не простой труд.', 'Но сделал отец это слишком уж неумело, поэтому дочь поняла, что сейчас отец лицемерит, ведет себя двулично.', 'Единственный судья отца – жизнь все постепенно расставит на свои места.', 'Хочется верить, что Женя выучится заочно и будет работать вместе с отцом, а может и займет его место, но этот нравственный жизненный урок она запомнит надолго.', 'Хорошо, что она узнала о лицемерии и двуличности близких людей уже став совершеннолетней.']\n",
      "['Это для нее будет неплохим роком, которых в жизни ее будет еще немало.', 'Все мы рано или поздно встречаемся с безнравственностью, ложью, манипулированием, и главное, не эмоционально реагировать на отрицательное, а достойно выйти из создавшегося положения.', 'Таким образом, лицемерие и двуличие еще долго будут жить среди людей, но лекарством от них всегда будут чистая совесть и вера в правду.']\n",
      "\n",
      "['Лишь преданность друзей — сокровище владык, Оно прекраснее, чем все богатства мира, - считал Пьер де Ронсар. ….также в данном тексте говорит о покорном и верном отношении слуг к хозяевам и поднимает проблему преданности людям.', 'Раскрывая данную проблему, автор рассказывает историю времен Ивана Грозного.', 'События развиваются в доме боярина Никиты Филимоныча Крутоярского.', 'Сам барин был брошен в темницу, а его семья подвергалась гонениям.', 'Молодой холоп сообщает хозяевам: «Спасайтесь!', '(13)Хозяина нашего в тюрьму бросили!', '(14)А сейчас за тобой и боярышней поганые опричники сюда явятся с самим злодеем Малютою во главе!».', 'Одной из самых преданных служанок хозяевам оказалась.', 'Матреша, чтобы дать возможность своим господам скрыться, помогает боярыне с дочерью собраться и уехать, а себя выдает за их дочь Уленьку.', 'Верная служанка искренне защищает хозяев и делает практически невозможное.', 'Самоотверженный поступок Матреши состоял и в том, она смогла расположить к себе грозного Малюту Скуратова.', 'Впоследствии он освободил ее хозяина из темницы.', 'Преданность Матреши заслуживает уважения, потом она отправилась вместе с хозяевами в ссылку «и не раз скрашивала им тяжёлые дни весёлой шуткой да звонкой песней».', 'Позиция автора состоит в том, что преданность близким людям проявляется в готовности помогать им в трудных ситуациях, ограждать их от неприятностей, рисковать ради них жизнью, следовать за ними всюду.', 'С позицией трудно не согласиться.', 'Каждый человек будет стремиться помогать близким тогда, когда им тяжело.', 'В жизни можно найти большое количество примеров того, что семья ради здоровья одного из ее членов жертвует всем: временем, деньгами, жильем.', 'Представьте себе горе матери, ребенок которой болен раком.', 'Чтобы дитя выздоровело, родители порой продают собственное жилье и оплачивают лечение ребенка.', 'В большинстве случаев семья выигрывает, ей удается вырвать жизнь ребенка из цепких лап смерти.', 'И тогда жизнь продолжается, пусть теперь она сложная, бедная, но члены семьи остаются вместе.']\n",
      "['Таким образом, преданность и умение жертвовать собой ради ближнего – это великая сила.']\n",
      "\n",
      "['Гиппократ писал: «Из всех наук, без сомнения, медицина самая благородная».', 'Врач вряд ли сможет убивать, его миссия спасать и лечить.', 'Об этом и говорит в данном тексте Борис Пастернак и поднимает проблему врачебного долга в условиях войны.', 'Раскрывая данную проблему, автор рассказывает историю времен гражданской войны в России.', 'Он ведет повествование от имени доктора Живаго, который находился на поле боя.', '«По международной конвенции о Красном Кресте военные врачи и служащие санитарных частей не имеют права вооружённо участвовать в боевых действиях воюющих».', 'Как же повел себя доктор Живаго, оказавших в самом центре военных действий?', 'Пастернак пишет, что « доктору против воли пришлось нарушить… правило.', 'Завязавшаяся стычка застала его на поле и заставила разделить судьбу сражающихся и отстреливаться».', 'Но Живаго все-таки нашел выход из создавшейся ситуации.', 'Он всматривался в лица молодых белогвардейцев, которые падали как подкошенные под пулями партизан, искренне сочувствовал молодым бойцам, жизнь которых уже закончилась так и не начавшись.', 'Потом автор показывает доктора, в котором помимо жалости и сострадания есть чувство долга и ответственности: «Однако созерцать и пребывать в бездействии среди кипевшей кругом борьбы не на жизнь, а на смерть было немыслимо и выше человеческих сил».', 'Но и долг врача не мог разрешить ему стрелять по живым людям, поэтому «он стал стрелять в цель по обгорелому дереву».', 'Очень скоро командование дало приказ отступить, и Живаго стал заниматься ранеными.', 'Так долг и миссия врача проявились на поле боя, настоящий доктор будет исполнен своим долгом до конца своих дней, поэтому именно так повел себя на поле боя военный врач.', 'Позиция автора в данном тексте проста и понятна: врач не должен принимать участия в военных действиях.', 'Его долг — спасать раненых независимо от того, на какой из противоборствующих сторон они воевали.', 'Примеров самоотверженного поведения врачей и медсестер во время войны великое множество.', 'Все знают, какой подвиг совершали сестры милосердия.', 'Лев Толстой в «Севастопольских рассказах» рассказывает о подвиге врачебного долга врачей и ста двадцати медсестер, которые работали в осажденном Севастополе, причем 17 из них погибли при исполнении служебных обязанностей.', 'В годы Великой Отечественной войны тысячи врачей и медицинских сестер спасали жизни советских воинов.', 'Их оружием были шприцы и скальпели, а не винтовки и гранаты, но именно благодаря самоотверженной работе медиков солдаты выздоравливали и снова шли в бой.', 'Таким образом, врач - это не только профессия, это служение и преданность людям, умение сохранить себя и свое лицо в самых, казалось, безвыходных ситуациях.']\n",
      "\n",
      "['Константин Георгиевич Паустовский — известный русский писатель, классик отечественной литературы.', 'В данном тексте он задается вопросом: « Как учитель может влиять на формирование личности ученика, его интересов и увлечений?».', 'Отвечая на данный вопрос, Константин Георгиевич рассказывает историю из жизни учителя географии.', 'Учитель показывал ученикам запечатанные сургучом бутылки с наклейками, в которых была налита мутная желтая вода.', 'На наклейках были написаны названия морей.', 'Ученики «приставали к учителю географии Черпунову, чтобы он разрешил …. попробовать воду из Мёртвого моря….».', 'Ученикам « хотелось узнать, действительно ли она такая солёная.', 'Но пробовать воду Черпунов не позволял».', 'Именно так учитель старался разбудить воображение учеников.', 'Автор продолжает рассказ и говорит о том, что у учителя географии и дома был музей.', 'И когда Черпунов пригласил автора посмотреть музей, то в воображении героя он представлялся «как царство удивительных вещей», где хранились: «пуговица румынского солдата», «засушенный жук-богомол», «венок из стеклянных, бледно окрашенных листьев, цветов и гроздьев винограда», «портрет на стене», «звёздный глобус», «старые карты с «розой ветров», «чучела колибри с длинными, как маленькие шила, клювами».', 'Все экспонаты музея надолго запомнились герою.']\n",
      "['Получается все, что делал учитель, было полезным для учеников и развивало их.', 'Позиция автора в данном тексте такова: любовь учителя к предмету, его увлечённость и стремление заинтересовать детей, разбудить их воображение помогает в формировании личности ученика, его интересов и увлечений.', 'С позицией автора трудно не согласиться.']\n",
      "['Настоящие учителя всегда кажутся нам чудаковатыми, странными людьми.', 'Они совершают порой трудные для восприятия учеников поступки: собирают коллекции, читают стихи и поэмы наизусть, воспроизводят по памяти доказательства самых трудных теорем.', 'Но именно такие учителя, которых многие считают себе на уме, надолго запоминаются ученикам.', 'Знания, приобретенные с ними, сохраняются в памяти всю жизнь.', 'Вообще самые талантливые учителя Василий Ушинский, Антон Макаренко, Шалва Амонашвили, Анатолий Шаталов не только хорошо знали свой предмет, но и отдавали жизнь образованию.', 'В произведениях литературы также есть большое количество примеров того, что учителя стремились развивать учеников, взаимодействовать с ними, чтобы их интерес к учебе возрастал.', 'Это и Харлампий Диогенович из рассказа «Тринадцатый подвиг Геракла», который «Смехом… закалял наши лукавые детские души и приучал нас относиться к собственной персоне с достаточным чувством юмора».', 'Героиня рассказа Валентина Распутина «Уроки французского» Лидия Михайловна, учительница французского языка, сумела рассмотреть голодного и очень способного мальчика, хитростью помогала ему едой и деньгами.', 'Признавалась, что с детства вела себя не по правилам, приносила много проблем родителям.', 'По её словам, человек стареет, когда перестаёт быть ребёнком.', 'Словесник из рассказа Ивана Шмелева «Как я стал писателем» Федор Владимирович Цветков читал стихи наизусть, стремился развить в учениках любовь к слову, разрешал писать сочинения на свободные темы.', 'Таким образом, талант учителя – это не просто талант, а энергия, которая заставляет учеников развиваться, постигать новое и неизведанное.']\n",
      "\n",
      "['Животные тоже способны на проявление таких качеств как смелость, решимость, самопожертвование.', 'Свидетелями подобных фактов часто становятся писатели, охотники, орнитологи, биологи, которые наблюдают за животными в дикой природе.', 'Так писатель Мамин-Сибиряк, постоянно наблюдавший за живой природой, описывавший интересные случаи из жизни животных, поднимает в данном тексте проблему проявления сострадания.', 'Раскрывая данную проблему автор, рассказывает историю из жизни деда Емели и внука Гришутки.', 'Гришутка тяжело болел уже долго, и все время просил у деда добыть ему олененочка.', 'Деду было жаль внучка, и он пообещал принести олененка из леса.', 'Долго бродил Емеля по лесу, отчаялся уже найти мать с олененком, но на четвертый день удалось опытному охотнику выйти на след оленихи.', 'Но убить оленя и забрать теленка не так-то просто: «старик хотел прицелиться в оленя, он осторожно перебежал несколько сажен далее и опять остановился….', 'Опять медленное подкрадывание, и опять олень скрылся, как только Емеля хотел стрелять».', 'Это происходило потому, что олениха спрятала олененка и уводила охотника с собакой все дальше в сторону.', '«Благородное животное десять раз рисковало жизнью, стараясь отвести охотника от спрятавшегося оленёнка; старый Емеля и сердился, и удивлялся смелости своей жертвы».', 'Долго продолжалась борьба матери за жизнь детеныша, но доверчивый олененок в какой-то момент вышел из укрытия и стоял на самом видном месте, охотник увидел его и мог застрелить.', 'Но тут сердце Емели дрогнуло, ему вспомнилось, как мать маленького Гришутки накрыла сына своим телом в лесу и тем самым спасла от волков, но погибла сама.', 'Емеля не смог убить ни оленя, ни олененка, потому что был поражен смелости, находчивости и самоотверженности животного.', 'Позиция автора данного текста проста и понятна: человек испытывает сострадание, когда видит пример великодушия и готовность к самопожертвованию, когда он сам уже прошел тяжкие испытания.', 'Я согласна с позиций автора, потому что ежедневно общаясь с природой и ее обитателями становишься лучше, внимательнее, наблюдательнее.', 'Так и старый Емеля пережил в жизни много испытаний и душевных тревог, пережил смерть дочери и стал воспитывать внука.', 'Именно поэтому он уважительно отнесся к желанию животного защитить свое потомство.', 'В мире довольно большое количество историй о взаимоотношениях человека и животного мира.', 'Имеют место быть истории настоящих Маугли, когда детям помогали выжить дикие животные, также есть истории, когда человек спасает детенышей диких животных, оставшихся без матери.']\n",
      "\n",
      "['Александр Грин — русский писатель-прозаик и поэт, представитель неоромантизма, автор философско - психологических, с элементами символической фантастики, произведений.', 'В данном тексте автор поднимает проблему милосердия по отношению к преступникам.', 'Раскрывая данную проблему, автор рассказывает историю о том, как герой приехал в Одессу, чтобы совершить кругосветное плавание.', 'Но перед этим с героем произошел случай, который показал ему, что он находится «среди простых, грешных людей».']\n",
      "['«В казарму привезли раненого».', 'Молодого матроса товарищ ударил ножом в спину из-за угла.']\n",
      "['«Рана была не опасна».', 'Доктор разговаривал с раненым, он пришел по просьбе обидчика.', '«Доктор, стараясь не быть назойливым, осторожно и мягко пытался внушить раненому сострадание к судьбе обидчика».', 'Однако матрос не испытывал жалости к обидчику и его семье и решил наказать товарища по закону.', 'Позиция автора в данном тексте такова: преступник, раскаявшийся в содеянном, заслуживает прощения.', 'С позицией автора трудно не согласиться.']\n",
      "['Милосердие и закон не могут идти в ногу.', 'Однако сколько преступников впоследствии раскаиваются, судят себя судом собственной совести и наказывают себя сильнее, нежели годы тюремного заключения.', 'Нравственность диктует нам правила, в которых мы должны милосердно относиться к преступникам, тем более, если в результате содеянного другой человек пострадал не сильно и у него есть возможность простить нападавшего.', 'Подтверждение этому есть в произведениях русской литературы.', 'Родион Раскольников, герой романа Федора Достоевского «Преступление и наказание» совершив убийство, страдает от мук совести, но не мог раскаяться до тех пор, пока с ним не поговорила Соня Мармеладова.', 'Именно она уговорила Родиона пойти на площадь, встать на колени и признаться в грехе убийства.', 'Она милосердно отнеслась к преступнику Раскольникову, потому что была верующей.', 'Таким образом, каждый человек должен уметь сострадать и прощать ближнего, как бы тяжело это не было.']\n",
      "\n",
      "['Что составляет нашу национальную гордость?', 'Какое значение для судьбы страны имеют открытия в разных областях науки и техники?', 'Этими вопросами задается Константин Паустовский в данном тексте.', 'Отвечая на поставленные вопросы, автор описывает воспоминания из детства , когда герой стал свидетелем первого полета авиатора Уточкина в небо.', 'Тогда в Киеве некоторые плакали при виде полета человека, взлетевшего в небо.', 'Почему автор вспоминает этот факт?', 'Он считает, что первый полет Уточкина является частью закономерности открытий, которая была выстроена людьми, стремящимися в небо.', 'Паустовский пишет, что поколение людей, живших в двадцатом веке – это счастливое поколение первооткрывателей, почти во всех областях науки и техники.', 'Прежде всего, он говорит о покорении космоса, он считает, что люди совершили «невиданный скачок от этого идиллического андерсеновского полёта до могучих воздушных кораблей и, наконец, порыв, полёт, уход в космос, в те пространства Вселенной, где человек соприкасается с вечностью».', 'И при этом он говорит, что «нам не свойственно хвастовство, но очень свойственна сдержанная вера в своих людей, в гений русского народа и ещё больше — в гений человечества».', 'Получается, что русские люди, пройдя через страдания, переживания, лишения, сделали величайшие открытия, которые теперь являются национальной гордостью всего нашего народа.', 'Поэтому позиция автора данного текста состоит в следующем: нашу национальную гордость составляют величайшие мирные победы в истории человечества, среди которых полёт Юрия Гагарина в космос.', 'Я совершенно согласна с позицией автора.', 'Русские люди – самые самоотверженные люди в мире.', 'Несмотря на беды, лишения и невзгоды они всегда добиваются поставленных целей.', 'Многие крупные открытия, такие как полет в космос, изобретение радио, мощной военной техники и другие, сделали русские ученые.', 'Пытливый ум, громадная работоспособность позволили русским ученым совершать мировые открытия, доказать всему миру, что настоящее счастье – это счастье открытий, великого труда во имя будущего, смелость и находчивость.', 'Таким образом, мы постоянно испытываем гордость за наших ученых, способных совершать все новые и новые открытия.']\n",
      "\n"
     ]
    }
   ],
   "source": [
    "for element in pred:\n",
    "    for el in element:\n",
    "        print(el)\n",
    "    print()"
   ]
  },
  {
   "cell_type": "code",
   "execution_count": 25,
   "metadata": {},
   "outputs": [
    {
     "data": {
      "text/html": [
       "<div>\n",
       "<style scoped>\n",
       "    .dataframe tbody tr th:only-of-type {\n",
       "        vertical-align: middle;\n",
       "    }\n",
       "\n",
       "    .dataframe tbody tr th {\n",
       "        vertical-align: top;\n",
       "    }\n",
       "\n",
       "    .dataframe thead th {\n",
       "        text-align: right;\n",
       "    }\n",
       "</style>\n",
       "<table border=\"1\" class=\"dataframe\">\n",
       "  <thead>\n",
       "    <tr style=\"text-align: right;\">\n",
       "      <th></th>\n",
       "      <th>pk</th>\n",
       "      <th>windowdiff</th>\n",
       "    </tr>\n",
       "  </thead>\n",
       "  <tbody>\n",
       "    <tr>\n",
       "      <td>0</td>\n",
       "      <td>0.347826</td>\n",
       "      <td>0.391304</td>\n",
       "    </tr>\n",
       "    <tr>\n",
       "      <td>1</td>\n",
       "      <td>0.181818</td>\n",
       "      <td>0.181818</td>\n",
       "    </tr>\n",
       "    <tr>\n",
       "      <td>2</td>\n",
       "      <td>0.318182</td>\n",
       "      <td>0.363636</td>\n",
       "    </tr>\n",
       "    <tr>\n",
       "      <td>3</td>\n",
       "      <td>0.230769</td>\n",
       "      <td>0.269231</td>\n",
       "    </tr>\n",
       "    <tr>\n",
       "      <td>4</td>\n",
       "      <td>0.263158</td>\n",
       "      <td>0.263158</td>\n",
       "    </tr>\n",
       "    <tr>\n",
       "      <td>5</td>\n",
       "      <td>0.526316</td>\n",
       "      <td>0.578947</td>\n",
       "    </tr>\n",
       "    <tr>\n",
       "      <td>6</td>\n",
       "      <td>0.222222</td>\n",
       "      <td>0.222222</td>\n",
       "    </tr>\n",
       "  </tbody>\n",
       "</table>\n",
       "</div>"
      ],
      "text/plain": [
       "         pk  windowdiff\n",
       "0  0.347826    0.391304\n",
       "1  0.181818    0.181818\n",
       "2  0.318182    0.363636\n",
       "3  0.230769    0.269231\n",
       "4  0.263158    0.263158\n",
       "5  0.526316    0.578947\n",
       "6  0.222222    0.222222"
      ]
     },
     "execution_count": 25,
     "metadata": {},
     "output_type": "execute_result"
    }
   ],
   "source": [
    "pd.DataFrame(index=range(7), \n",
    "             data=[results_2[0].values(), results_2[1].values(), results_2[2].values(), \n",
    "                   results_2[3].values(), results_2[4].values(), results_2[5].values(), results_2[6].values()],\n",
    "            columns=results_2[0].keys())"
   ]
  },
  {
   "cell_type": "markdown",
   "metadata": {},
   "source": [
    "## Tau = 1"
   ]
  },
  {
   "cell_type": "code",
   "execution_count": 59,
   "metadata": {},
   "outputs": [
    {
     "name": "stdout",
     "output_type": "stream",
     "text": [
      "Lemmatizing sentences\n"
     ]
    },
    {
     "data": {
      "application/vnd.jupyter.widget-view+json": {
       "model_id": "f915b815b3e145659c1c9647def4f9f5",
       "version_major": 2,
       "version_minor": 0
      },
      "text/plain": [
       "HBox(children=(IntProgress(value=0, max=24), HTML(value='')))"
      ]
     },
     "metadata": {},
     "output_type": "display_data"
    },
    {
     "name": "stdout",
     "output_type": "stream",
     "text": [
      "\n",
      "Lemmatizing sentences\n"
     ]
    },
    {
     "data": {
      "application/vnd.jupyter.widget-view+json": {
       "model_id": "694d80f9c8204de29245db279b260dea",
       "version_major": 2,
       "version_minor": 0
      },
      "text/plain": [
       "HBox(children=(IntProgress(value=0, max=22), HTML(value='')))"
      ]
     },
     "metadata": {},
     "output_type": "display_data"
    },
    {
     "name": "stdout",
     "output_type": "stream",
     "text": [
      "\n",
      "Lemmatizing sentences\n"
     ]
    },
    {
     "data": {
      "application/vnd.jupyter.widget-view+json": {
       "model_id": "006c2400b01d427ea31e8348ca5ee72b",
       "version_major": 2,
       "version_minor": 0
      },
      "text/plain": [
       "HBox(children=(IntProgress(value=0, max=23), HTML(value='')))"
      ]
     },
     "metadata": {},
     "output_type": "display_data"
    },
    {
     "name": "stdout",
     "output_type": "stream",
     "text": [
      "\n",
      "Lemmatizing sentences\n"
     ]
    },
    {
     "data": {
      "application/vnd.jupyter.widget-view+json": {
       "model_id": "795c770c654f4ba5b34e1c185fab5ba4",
       "version_major": 2,
       "version_minor": 0
      },
      "text/plain": [
       "HBox(children=(IntProgress(value=0, max=27), HTML(value='')))"
      ]
     },
     "metadata": {},
     "output_type": "display_data"
    },
    {
     "name": "stdout",
     "output_type": "stream",
     "text": [
      "\n",
      "Lemmatizing sentences\n"
     ]
    },
    {
     "data": {
      "application/vnd.jupyter.widget-view+json": {
       "model_id": "d68f13990d824b94b226ee831148dd31",
       "version_major": 2,
       "version_minor": 0
      },
      "text/plain": [
       "HBox(children=(IntProgress(value=0, max=20), HTML(value='')))"
      ]
     },
     "metadata": {},
     "output_type": "display_data"
    },
    {
     "name": "stdout",
     "output_type": "stream",
     "text": [
      "\n",
      "Lemmatizing sentences\n"
     ]
    },
    {
     "data": {
      "application/vnd.jupyter.widget-view+json": {
       "model_id": "c58f257cc8294f7ab1877d7aa06e8ffe",
       "version_major": 2,
       "version_minor": 0
      },
      "text/plain": [
       "HBox(children=(IntProgress(value=0, max=20), HTML(value='')))"
      ]
     },
     "metadata": {},
     "output_type": "display_data"
    },
    {
     "name": "stdout",
     "output_type": "stream",
     "text": [
      "\n",
      "Lemmatizing sentences\n"
     ]
    },
    {
     "data": {
      "application/vnd.jupyter.widget-view+json": {
       "model_id": "7f43339f49f344609138819b4184f65a",
       "version_major": 2,
       "version_minor": 0
      },
      "text/plain": [
       "HBox(children=(IntProgress(value=0, max=18), HTML(value='')))"
      ]
     },
     "metadata": {},
     "output_type": "display_data"
    },
    {
     "name": "stdout",
     "output_type": "stream",
     "text": [
      "\n"
     ]
    }
   ],
   "source": [
    "results_3 = []\n",
    "real = []\n",
    "pred = []\n",
    "for text in files[1:8]:\n",
    "    sents, real_paragraphs, pred_segment_indices, pred_paragraphs = f.segmentize_bipartite_subgraphs('./texts/exam/' + text, \n",
    "                                                    model=model,\n",
    "                                                    tau=1)\n",
    "    gold_idx = f.gold_segment_indices(real_paragraphs)\n",
    "    k = int(0.5*len(sents)/len(real_paragraphs))\n",
    "    results_3.append(f.evaluate(gold_idx, pred_segment_indices, k))\n",
    "    real.append(real_paragraphs)\n",
    "    pred.append(pred_paragraphs)"
   ]
  },
  {
   "cell_type": "code",
   "execution_count": 27,
   "metadata": {},
   "outputs": [
    {
     "data": {
      "text/plain": [
       "[{'pk': 0.2608695652173913, 'windowdiff': 0.30434782608695654},\n",
       " {'pk': 0.22727272727272727, 'windowdiff': 0.22727272727272727},\n",
       " {'pk': 0.3181818181818182, 'windowdiff': 0.36363636363636365},\n",
       " {'pk': 0.23076923076923078, 'windowdiff': 0.2692307692307692},\n",
       " {'pk': 0.2631578947368421, 'windowdiff': 0.2631578947368421},\n",
       " {'pk': 0.3157894736842105, 'windowdiff': 0.3684210526315789},\n",
       " {'pk': 0.2222222222222222, 'windowdiff': 0.2222222222222222}]"
      ]
     },
     "execution_count": 27,
     "metadata": {},
     "output_type": "execute_result"
    }
   ],
   "source": [
    "results_3"
   ]
  },
  {
   "cell_type": "code",
   "execution_count": 60,
   "metadata": {},
   "outputs": [
    {
     "name": "stdout",
     "output_type": "stream",
     "text": [
      "['Автор в данном тексте поднимает проблему двуличия людей.', 'Раскрывая данную проблему, автор рассказывает небольшую историю из жизни Жени Каштановой, которая хотела остаться работать в родном совхозе, а учиться заочно.', 'О своем решении Женя решила сообщить отцу директору совхоза.', 'Но то, что она услышала в ответ, потрясло ее до глубины души, а отца она увидела совсем с иной стороны.', 'Отец говорил дочери: «Мне — директору, хозяину — нужно, чтобы молодёжь осталась в совхозе, ведь это — сила нашего хозяйства, его молодая кровь, молодая мысль, это — его будущее.', 'Я обязан думать о будущем моего хозяйства, если даже меня самого здесь не будет».', 'Но дальше Женя не поверила свои ушам, отец говорил, что работать утятницей не самое лучшее занятие для нее – его дочери, он хотел убедить Женю в том, что она должна учиться на педагога, а впоследствии стать директором школы, то есть заниматься чистым трудом, а не возиться в пыли, грязи и навозе.', 'Женя, услышав это сидела, будто громом пораженная, «бледная, с неподвижным, словно застывшим взглядом».', 'Она вдруг поняла, насколько двуличным может быть ее отец.', '«Чувство неслыханного разочарования оглушило её, как удар…Он разговаривал с ней сейчас, как самый последний мещанин!. .Но он дал право выбора именно ей, не запретил, не настоял на своей воле, а сказал думать ещё!».', 'Хочется верить, что отец смирится с выбором дочери, но двуличным быть вряд ли перестанет.', 'Воронкова в данном тексте пишет о двуличии людей, считает, что оно проявляется в том, как человек говорит, в том, что человек говорит людям не то, что думает на самом деле.', 'Неискренность человека отталкивает людей от него.', 'С позицией автора я согласна.', 'Порой родители решаются на безнравственные поступки ради счастья своих детей.', 'По большому счету, отец Жени был лицемерным лишь отчасти.', 'Он занимает ответственный пост, испытывает на себе все тяготы сельскохозяйственных работ, поэтому с высоты своего опыта пытается указать дочери верный путь, скорее всего, он знает, что работа учителя – это тоже не простой труд.', 'Но сделал отец это слишком уж неумело, поэтому дочь поняла, что сейчас отец лицемерит, ведет себя двулично.', 'Единственный судья отца – жизнь все постепенно расставит на свои места.', 'Хочется верить, что Женя выучится заочно и будет работать вместе с отцом, а может и займет его место, но этот нравственный жизненный урок она запомнит надолго.', 'Хорошо, что она узнала о лицемерии и двуличности близких людей уже став совершеннолетней.', 'Это для нее будет неплохим роком, которых в жизни ее будет еще немало.', 'Все мы рано или поздно встречаемся с безнравственностью, ложью, манипулированием, и главное, не эмоционально реагировать на отрицательное, а достойно выйти из создавшегося положения.', 'Таким образом, лицемерие и двуличие еще долго будут жить среди людей, но лекарством от них всегда будут чистая совесть и вера в правду.']\n",
      "\n",
      "['Лишь преданность друзей — сокровище владык, Оно прекраснее, чем все богатства мира, - считал Пьер де Ронсар. ….также в данном тексте говорит о покорном и верном отношении слуг к хозяевам и поднимает проблему преданности людям.', 'Раскрывая данную проблему, автор рассказывает историю времен Ивана Грозного.', 'События развиваются в доме боярина Никиты Филимоныча Крутоярского.', 'Сам барин был брошен в темницу, а его семья подвергалась гонениям.', 'Молодой холоп сообщает хозяевам: «Спасайтесь!', '(13)Хозяина нашего в тюрьму бросили!', '(14)А сейчас за тобой и боярышней поганые опричники сюда явятся с самим злодеем Малютою во главе!».', 'Одной из самых преданных служанок хозяевам оказалась.', 'Матреша, чтобы дать возможность своим господам скрыться, помогает боярыне с дочерью собраться и уехать, а себя выдает за их дочь Уленьку.', 'Верная служанка искренне защищает хозяев и делает практически невозможное.', 'Самоотверженный поступок Матреши состоял и в том, она смогла расположить к себе грозного Малюту Скуратова.', 'Впоследствии он освободил ее хозяина из темницы.', 'Преданность Матреши заслуживает уважения, потом она отправилась вместе с хозяевами в ссылку «и не раз скрашивала им тяжёлые дни весёлой шуткой да звонкой песней».', 'Позиция автора состоит в том, что преданность близким людям проявляется в готовности помогать им в трудных ситуациях, ограждать их от неприятностей, рисковать ради них жизнью, следовать за ними всюду.', 'С позицией трудно не согласиться.', 'Каждый человек будет стремиться помогать близким тогда, когда им тяжело.', 'В жизни можно найти большое количество примеров того, что семья ради здоровья одного из ее членов жертвует всем: временем, деньгами, жильем.', 'Представьте себе горе матери, ребенок которой болен раком.', 'Чтобы дитя выздоровело, родители порой продают собственное жилье и оплачивают лечение ребенка.', 'В большинстве случаев семья выигрывает, ей удается вырвать жизнь ребенка из цепких лап смерти.', 'И тогда жизнь продолжается, пусть теперь она сложная, бедная, но члены семьи остаются вместе.', 'Таким образом, преданность и умение жертвовать собой ради ближнего – это великая сила.']\n",
      "\n",
      "['Гиппократ писал: «Из всех наук, без сомнения, медицина самая благородная».', 'Врач вряд ли сможет убивать, его миссия спасать и лечить.', 'Об этом и говорит в данном тексте Борис Пастернак и поднимает проблему врачебного долга в условиях войны.', 'Раскрывая данную проблему, автор рассказывает историю времен гражданской войны в России.', 'Он ведет повествование от имени доктора Живаго, который находился на поле боя.', '«По международной конвенции о Красном Кресте военные врачи и служащие санитарных частей не имеют права вооружённо участвовать в боевых действиях воюющих».', 'Как же повел себя доктор Живаго, оказавших в самом центре военных действий?', 'Пастернак пишет, что « доктору против воли пришлось нарушить… правило.', 'Завязавшаяся стычка застала его на поле и заставила разделить судьбу сражающихся и отстреливаться».', 'Но Живаго все-таки нашел выход из создавшейся ситуации.', 'Он всматривался в лица молодых белогвардейцев, которые падали как подкошенные под пулями партизан, искренне сочувствовал молодым бойцам, жизнь которых уже закончилась так и не начавшись.', 'Потом автор показывает доктора, в котором помимо жалости и сострадания есть чувство долга и ответственности: «Однако созерцать и пребывать в бездействии среди кипевшей кругом борьбы не на жизнь, а на смерть было немыслимо и выше человеческих сил».', 'Но и долг врача не мог разрешить ему стрелять по живым людям, поэтому «он стал стрелять в цель по обгорелому дереву».', 'Очень скоро командование дало приказ отступить, и Живаго стал заниматься ранеными.', 'Так долг и миссия врача проявились на поле боя, настоящий доктор будет исполнен своим долгом до конца своих дней, поэтому именно так повел себя на поле боя военный врач.', 'Позиция автора в данном тексте проста и понятна: врач не должен принимать участия в военных действиях.', 'Его долг — спасать раненых независимо от того, на какой из противоборствующих сторон они воевали.', 'Примеров самоотверженного поведения врачей и медсестер во время войны великое множество.', 'Все знают, какой подвиг совершали сестры милосердия.', 'Лев Толстой в «Севастопольских рассказах» рассказывает о подвиге врачебного долга врачей и ста двадцати медсестер, которые работали в осажденном Севастополе, причем 17 из них погибли при исполнении служебных обязанностей.', 'В годы Великой Отечественной войны тысячи врачей и медицинских сестер спасали жизни советских воинов.', 'Их оружием были шприцы и скальпели, а не винтовки и гранаты, но именно благодаря самоотверженной работе медиков солдаты выздоравливали и снова шли в бой.', 'Таким образом, врач - это не только профессия, это служение и преданность людям, умение сохранить себя и свое лицо в самых, казалось, безвыходных ситуациях.']\n",
      "\n",
      "['Константин Георгиевич Паустовский — известный русский писатель, классик отечественной литературы.', 'В данном тексте он задается вопросом: « Как учитель может влиять на формирование личности ученика, его интересов и увлечений?».', 'Отвечая на данный вопрос, Константин Георгиевич рассказывает историю из жизни учителя географии.', 'Учитель показывал ученикам запечатанные сургучом бутылки с наклейками, в которых была налита мутная желтая вода.', 'На наклейках были написаны названия морей.', 'Ученики «приставали к учителю географии Черпунову, чтобы он разрешил …. попробовать воду из Мёртвого моря….».', 'Ученикам « хотелось узнать, действительно ли она такая солёная.', 'Но пробовать воду Черпунов не позволял».', 'Именно так учитель старался разбудить воображение учеников.', 'Автор продолжает рассказ и говорит о том, что у учителя географии и дома был музей.', 'И когда Черпунов пригласил автора посмотреть музей, то в воображении героя он представлялся «как царство удивительных вещей», где хранились: «пуговица румынского солдата», «засушенный жук-богомол», «венок из стеклянных, бледно окрашенных листьев, цветов и гроздьев винограда», «портрет на стене», «звёздный глобус», «старые карты с «розой ветров», «чучела колибри с длинными, как маленькие шила, клювами».', 'Все экспонаты музея надолго запомнились герою.', 'Получается все, что делал учитель, было полезным для учеников и развивало их.', 'Позиция автора в данном тексте такова: любовь учителя к предмету, его увлечённость и стремление заинтересовать детей, разбудить их воображение помогает в формировании личности ученика, его интересов и увлечений.', 'С позицией автора трудно не согласиться.', 'Настоящие учителя всегда кажутся нам чудаковатыми, странными людьми.', 'Они совершают порой трудные для восприятия учеников поступки: собирают коллекции, читают стихи и поэмы наизусть, воспроизводят по памяти доказательства самых трудных теорем.', 'Но именно такие учителя, которых многие считают себе на уме, надолго запоминаются ученикам.', 'Знания, приобретенные с ними, сохраняются в памяти всю жизнь.', 'Вообще самые талантливые учителя Василий Ушинский, Антон Макаренко, Шалва Амонашвили, Анатолий Шаталов не только хорошо знали свой предмет, но и отдавали жизнь образованию.', 'В произведениях литературы также есть большое количество примеров того, что учителя стремились развивать учеников, взаимодействовать с ними, чтобы их интерес к учебе возрастал.', 'Это и Харлампий Диогенович из рассказа «Тринадцатый подвиг Геракла», который «Смехом… закалял наши лукавые детские души и приучал нас относиться к собственной персоне с достаточным чувством юмора».', 'Героиня рассказа Валентина Распутина «Уроки французского» Лидия Михайловна, учительница французского языка, сумела рассмотреть голодного и очень способного мальчика, хитростью помогала ему едой и деньгами.', 'Признавалась, что с детства вела себя не по правилам, приносила много проблем родителям.', 'По её словам, человек стареет, когда перестаёт быть ребёнком.', 'Словесник из рассказа Ивана Шмелева «Как я стал писателем» Федор Владимирович Цветков читал стихи наизусть, стремился развить в учениках любовь к слову, разрешал писать сочинения на свободные темы.', 'Таким образом, талант учителя – это не просто талант, а энергия, которая заставляет учеников развиваться, постигать новое и неизведанное.']\n",
      "\n",
      "['Животные тоже способны на проявление таких качеств как смелость, решимость, самопожертвование.', 'Свидетелями подобных фактов часто становятся писатели, охотники, орнитологи, биологи, которые наблюдают за животными в дикой природе.', 'Так писатель Мамин-Сибиряк, постоянно наблюдавший за живой природой, описывавший интересные случаи из жизни животных, поднимает в данном тексте проблему проявления сострадания.', 'Раскрывая данную проблему автор, рассказывает историю из жизни деда Емели и внука Гришутки.', 'Гришутка тяжело болел уже долго, и все время просил у деда добыть ему олененочка.', 'Деду было жаль внучка, и он пообещал принести олененка из леса.', 'Долго бродил Емеля по лесу, отчаялся уже найти мать с олененком, но на четвертый день удалось опытному охотнику выйти на след оленихи.', 'Но убить оленя и забрать теленка не так-то просто: «старик хотел прицелиться в оленя, он осторожно перебежал несколько сажен далее и опять остановился….', 'Опять медленное подкрадывание, и опять олень скрылся, как только Емеля хотел стрелять».', 'Это происходило потому, что олениха спрятала олененка и уводила охотника с собакой все дальше в сторону.', '«Благородное животное десять раз рисковало жизнью, стараясь отвести охотника от спрятавшегося оленёнка; старый Емеля и сердился, и удивлялся смелости своей жертвы».', 'Долго продолжалась борьба матери за жизнь детеныша, но доверчивый олененок в какой-то момент вышел из укрытия и стоял на самом видном месте, охотник увидел его и мог застрелить.', 'Но тут сердце Емели дрогнуло, ему вспомнилось, как мать маленького Гришутки накрыла сына своим телом в лесу и тем самым спасла от волков, но погибла сама.', 'Емеля не смог убить ни оленя, ни олененка, потому что был поражен смелости, находчивости и самоотверженности животного.', 'Позиция автора данного текста проста и понятна: человек испытывает сострадание, когда видит пример великодушия и готовность к самопожертвованию, когда он сам уже прошел тяжкие испытания.', 'Я согласна с позиций автора, потому что ежедневно общаясь с природой и ее обитателями становишься лучше, внимательнее, наблюдательнее.', 'Так и старый Емеля пережил в жизни много испытаний и душевных тревог, пережил смерть дочери и стал воспитывать внука.', 'Именно поэтому он уважительно отнесся к желанию животного защитить свое потомство.', 'В мире довольно большое количество историй о взаимоотношениях человека и животного мира.', 'Имеют место быть истории настоящих Маугли, когда детям помогали выжить дикие животные, также есть истории, когда человек спасает детенышей диких животных, оставшихся без матери.']\n",
      "\n",
      "['Александр Грин — русский писатель-прозаик и поэт, представитель неоромантизма, автор философско - психологических, с элементами символической фантастики, произведений.', 'В данном тексте автор поднимает проблему милосердия по отношению к преступникам.', 'Раскрывая данную проблему, автор рассказывает историю о том, как герой приехал в Одессу, чтобы совершить кругосветное плавание.', 'Но перед этим с героем произошел случай, который показал ему, что он находится «среди простых, грешных людей».', '«В казарму привезли раненого».', 'Молодого матроса товарищ ударил ножом в спину из-за угла.', '«Рана была не опасна».', 'Доктор разговаривал с раненым, он пришел по просьбе обидчика.', '«Доктор, стараясь не быть назойливым, осторожно и мягко пытался внушить раненому сострадание к судьбе обидчика».', 'Однако матрос не испытывал жалости к обидчику и его семье и решил наказать товарища по закону.', 'Позиция автора в данном тексте такова: преступник, раскаявшийся в содеянном, заслуживает прощения.', 'С позицией автора трудно не согласиться.', 'Милосердие и закон не могут идти в ногу.', 'Однако сколько преступников впоследствии раскаиваются, судят себя судом собственной совести и наказывают себя сильнее, нежели годы тюремного заключения.', 'Нравственность диктует нам правила, в которых мы должны милосердно относиться к преступникам, тем более, если в результате содеянного другой человек пострадал не сильно и у него есть возможность простить нападавшего.', 'Подтверждение этому есть в произведениях русской литературы.', 'Родион Раскольников, герой романа Федора Достоевского «Преступление и наказание» совершив убийство, страдает от мук совести, но не мог раскаяться до тех пор, пока с ним не поговорила Соня Мармеладова.', 'Именно она уговорила Родиона пойти на площадь, встать на колени и признаться в грехе убийства.', 'Она милосердно отнеслась к преступнику Раскольникову, потому что была верующей.', 'Таким образом, каждый человек должен уметь сострадать и прощать ближнего, как бы тяжело это не было.']\n",
      "\n",
      "['Что составляет нашу национальную гордость?', 'Какое значение для судьбы страны имеют открытия в разных областях науки и техники?', 'Этими вопросами задается Константин Паустовский в данном тексте.', 'Отвечая на поставленные вопросы, автор описывает воспоминания из детства , когда герой стал свидетелем первого полета авиатора Уточкина в небо.', 'Тогда в Киеве некоторые плакали при виде полета человека, взлетевшего в небо.', 'Почему автор вспоминает этот факт?', 'Он считает, что первый полет Уточкина является частью закономерности открытий, которая была выстроена людьми, стремящимися в небо.', 'Паустовский пишет, что поколение людей, живших в двадцатом веке – это счастливое поколение первооткрывателей, почти во всех областях науки и техники.', 'Прежде всего, он говорит о покорении космоса, он считает, что люди совершили «невиданный скачок от этого идиллического андерсеновского полёта до могучих воздушных кораблей и, наконец, порыв, полёт, уход в космос, в те пространства Вселенной, где человек соприкасается с вечностью».', 'И при этом он говорит, что «нам не свойственно хвастовство, но очень свойственна сдержанная вера в своих людей, в гений русского народа и ещё больше — в гений человечества».', 'Получается, что русские люди, пройдя через страдания, переживания, лишения, сделали величайшие открытия, которые теперь являются национальной гордостью всего нашего народа.', 'Поэтому позиция автора данного текста состоит в следующем: нашу национальную гордость составляют величайшие мирные победы в истории человечества, среди которых полёт Юрия Гагарина в космос.', 'Я совершенно согласна с позицией автора.', 'Русские люди – самые самоотверженные люди в мире.', 'Несмотря на беды, лишения и невзгоды они всегда добиваются поставленных целей.', 'Многие крупные открытия, такие как полет в космос, изобретение радио, мощной военной техники и другие, сделали русские ученые.', 'Пытливый ум, громадная работоспособность позволили русским ученым совершать мировые открытия, доказать всему миру, что настоящее счастье – это счастье открытий, великого труда во имя будущего, смелость и находчивость.', 'Таким образом, мы постоянно испытываем гордость за наших ученых, способных совершать все новые и новые открытия.']\n",
      "\n"
     ]
    }
   ],
   "source": [
    "for element in pred:\n",
    "    for el in element:\n",
    "        print(el)\n",
    "    print()"
   ]
  },
  {
   "cell_type": "code",
   "execution_count": 28,
   "metadata": {},
   "outputs": [
    {
     "data": {
      "text/html": [
       "<div>\n",
       "<style scoped>\n",
       "    .dataframe tbody tr th:only-of-type {\n",
       "        vertical-align: middle;\n",
       "    }\n",
       "\n",
       "    .dataframe tbody tr th {\n",
       "        vertical-align: top;\n",
       "    }\n",
       "\n",
       "    .dataframe thead th {\n",
       "        text-align: right;\n",
       "    }\n",
       "</style>\n",
       "<table border=\"1\" class=\"dataframe\">\n",
       "  <thead>\n",
       "    <tr style=\"text-align: right;\">\n",
       "      <th></th>\n",
       "      <th>pk</th>\n",
       "      <th>windowdiff</th>\n",
       "    </tr>\n",
       "  </thead>\n",
       "  <tbody>\n",
       "    <tr>\n",
       "      <td>0</td>\n",
       "      <td>0.260870</td>\n",
       "      <td>0.304348</td>\n",
       "    </tr>\n",
       "    <tr>\n",
       "      <td>1</td>\n",
       "      <td>0.227273</td>\n",
       "      <td>0.227273</td>\n",
       "    </tr>\n",
       "    <tr>\n",
       "      <td>2</td>\n",
       "      <td>0.318182</td>\n",
       "      <td>0.363636</td>\n",
       "    </tr>\n",
       "    <tr>\n",
       "      <td>3</td>\n",
       "      <td>0.230769</td>\n",
       "      <td>0.269231</td>\n",
       "    </tr>\n",
       "    <tr>\n",
       "      <td>4</td>\n",
       "      <td>0.263158</td>\n",
       "      <td>0.263158</td>\n",
       "    </tr>\n",
       "    <tr>\n",
       "      <td>5</td>\n",
       "      <td>0.315789</td>\n",
       "      <td>0.368421</td>\n",
       "    </tr>\n",
       "    <tr>\n",
       "      <td>6</td>\n",
       "      <td>0.222222</td>\n",
       "      <td>0.222222</td>\n",
       "    </tr>\n",
       "  </tbody>\n",
       "</table>\n",
       "</div>"
      ],
      "text/plain": [
       "         pk  windowdiff\n",
       "0  0.260870    0.304348\n",
       "1  0.227273    0.227273\n",
       "2  0.318182    0.363636\n",
       "3  0.230769    0.269231\n",
       "4  0.263158    0.263158\n",
       "5  0.315789    0.368421\n",
       "6  0.222222    0.222222"
      ]
     },
     "execution_count": 28,
     "metadata": {},
     "output_type": "execute_result"
    }
   ],
   "source": [
    "pd.DataFrame(index=range(7), \n",
    "             data=[results_3[0].values(), results_3[1].values(), results_3[2].values(), \n",
    "                   results_3[3].values(), results_3[4].values(), results_3[5].values(), results_3[6].values()],\n",
    "            columns=results_3[0].keys())"
   ]
  },
  {
   "cell_type": "markdown",
   "metadata": {},
   "source": [
    "## Tau = 1.5"
   ]
  },
  {
   "cell_type": "code",
   "execution_count": 29,
   "metadata": {},
   "outputs": [
    {
     "name": "stdout",
     "output_type": "stream",
     "text": [
      "Lemmatizing sentences\n"
     ]
    },
    {
     "data": {
      "application/vnd.jupyter.widget-view+json": {
       "model_id": "c182da59bb014d21a321d0f976acf693",
       "version_major": 2,
       "version_minor": 0
      },
      "text/plain": [
       "HBox(children=(IntProgress(value=0, max=24), HTML(value='')))"
      ]
     },
     "metadata": {},
     "output_type": "display_data"
    },
    {
     "name": "stdout",
     "output_type": "stream",
     "text": [
      "\n",
      "Lemmatizing sentences\n"
     ]
    },
    {
     "data": {
      "application/vnd.jupyter.widget-view+json": {
       "model_id": "38237c0276c14855917b4cfd46ed7fa3",
       "version_major": 2,
       "version_minor": 0
      },
      "text/plain": [
       "HBox(children=(IntProgress(value=0, max=22), HTML(value='')))"
      ]
     },
     "metadata": {},
     "output_type": "display_data"
    },
    {
     "name": "stdout",
     "output_type": "stream",
     "text": [
      "\n",
      "Lemmatizing sentences\n"
     ]
    },
    {
     "data": {
      "application/vnd.jupyter.widget-view+json": {
       "model_id": "e002546f33874936a434c20a42ecd119",
       "version_major": 2,
       "version_minor": 0
      },
      "text/plain": [
       "HBox(children=(IntProgress(value=0, max=23), HTML(value='')))"
      ]
     },
     "metadata": {},
     "output_type": "display_data"
    },
    {
     "name": "stdout",
     "output_type": "stream",
     "text": [
      "\n",
      "Lemmatizing sentences\n"
     ]
    },
    {
     "data": {
      "application/vnd.jupyter.widget-view+json": {
       "model_id": "e6156ef7bf2d4bf2b6e12cf2c06a378c",
       "version_major": 2,
       "version_minor": 0
      },
      "text/plain": [
       "HBox(children=(IntProgress(value=0, max=27), HTML(value='')))"
      ]
     },
     "metadata": {},
     "output_type": "display_data"
    },
    {
     "name": "stdout",
     "output_type": "stream",
     "text": [
      "\n",
      "Lemmatizing sentences\n"
     ]
    },
    {
     "data": {
      "application/vnd.jupyter.widget-view+json": {
       "model_id": "a1c3b0fcd9114d0796812ca1ce040feb",
       "version_major": 2,
       "version_minor": 0
      },
      "text/plain": [
       "HBox(children=(IntProgress(value=0, max=20), HTML(value='')))"
      ]
     },
     "metadata": {},
     "output_type": "display_data"
    },
    {
     "name": "stdout",
     "output_type": "stream",
     "text": [
      "\n",
      "Lemmatizing sentences\n"
     ]
    },
    {
     "data": {
      "application/vnd.jupyter.widget-view+json": {
       "model_id": "650b0b0c82494ec382b893a7519189ea",
       "version_major": 2,
       "version_minor": 0
      },
      "text/plain": [
       "HBox(children=(IntProgress(value=0, max=20), HTML(value='')))"
      ]
     },
     "metadata": {},
     "output_type": "display_data"
    },
    {
     "name": "stdout",
     "output_type": "stream",
     "text": [
      "\n",
      "Lemmatizing sentences\n"
     ]
    },
    {
     "data": {
      "application/vnd.jupyter.widget-view+json": {
       "model_id": "ac5e040cc0f046a69ab15c5db9afd0b9",
       "version_major": 2,
       "version_minor": 0
      },
      "text/plain": [
       "HBox(children=(IntProgress(value=0, max=18), HTML(value='')))"
      ]
     },
     "metadata": {},
     "output_type": "display_data"
    },
    {
     "name": "stdout",
     "output_type": "stream",
     "text": [
      "\n"
     ]
    }
   ],
   "source": [
    "results_4 = []\n",
    "for text in files[1:8]:\n",
    "    sents, real_paragraphs, pred_segment_indices, pred_paragraphs = f.segmentize_bipartite_subgraphs('./texts/exam/' + text, \n",
    "                                                    model=model,\n",
    "                                                    tau=1)\n",
    "    gold_idx = f.gold_segment_indices(real_paragraphs)\n",
    "    k = int(0.5*len(sents)/len(real_paragraphs))\n",
    "    results_4.append(f.evaluate(gold_idx, pred_segment_indices, k))"
   ]
  },
  {
   "cell_type": "code",
   "execution_count": 30,
   "metadata": {},
   "outputs": [
    {
     "data": {
      "text/plain": [
       "[{'pk': 0.2608695652173913, 'windowdiff': 0.30434782608695654},\n",
       " {'pk': 0.22727272727272727, 'windowdiff': 0.22727272727272727},\n",
       " {'pk': 0.3181818181818182, 'windowdiff': 0.36363636363636365},\n",
       " {'pk': 0.23076923076923078, 'windowdiff': 0.2692307692307692},\n",
       " {'pk': 0.2631578947368421, 'windowdiff': 0.2631578947368421},\n",
       " {'pk': 0.3157894736842105, 'windowdiff': 0.3684210526315789},\n",
       " {'pk': 0.2222222222222222, 'windowdiff': 0.2222222222222222}]"
      ]
     },
     "execution_count": 30,
     "metadata": {},
     "output_type": "execute_result"
    }
   ],
   "source": [
    "results_4"
   ]
  },
  {
   "cell_type": "code",
   "execution_count": 31,
   "metadata": {},
   "outputs": [
    {
     "data": {
      "text/html": [
       "<div>\n",
       "<style scoped>\n",
       "    .dataframe tbody tr th:only-of-type {\n",
       "        vertical-align: middle;\n",
       "    }\n",
       "\n",
       "    .dataframe tbody tr th {\n",
       "        vertical-align: top;\n",
       "    }\n",
       "\n",
       "    .dataframe thead th {\n",
       "        text-align: right;\n",
       "    }\n",
       "</style>\n",
       "<table border=\"1\" class=\"dataframe\">\n",
       "  <thead>\n",
       "    <tr style=\"text-align: right;\">\n",
       "      <th></th>\n",
       "      <th>pk</th>\n",
       "      <th>windowdiff</th>\n",
       "    </tr>\n",
       "  </thead>\n",
       "  <tbody>\n",
       "    <tr>\n",
       "      <td>0</td>\n",
       "      <td>0.260870</td>\n",
       "      <td>0.304348</td>\n",
       "    </tr>\n",
       "    <tr>\n",
       "      <td>1</td>\n",
       "      <td>0.227273</td>\n",
       "      <td>0.227273</td>\n",
       "    </tr>\n",
       "    <tr>\n",
       "      <td>2</td>\n",
       "      <td>0.318182</td>\n",
       "      <td>0.363636</td>\n",
       "    </tr>\n",
       "    <tr>\n",
       "      <td>3</td>\n",
       "      <td>0.230769</td>\n",
       "      <td>0.269231</td>\n",
       "    </tr>\n",
       "    <tr>\n",
       "      <td>4</td>\n",
       "      <td>0.263158</td>\n",
       "      <td>0.263158</td>\n",
       "    </tr>\n",
       "    <tr>\n",
       "      <td>5</td>\n",
       "      <td>0.315789</td>\n",
       "      <td>0.368421</td>\n",
       "    </tr>\n",
       "    <tr>\n",
       "      <td>6</td>\n",
       "      <td>0.222222</td>\n",
       "      <td>0.222222</td>\n",
       "    </tr>\n",
       "  </tbody>\n",
       "</table>\n",
       "</div>"
      ],
      "text/plain": [
       "         pk  windowdiff\n",
       "0  0.260870    0.304348\n",
       "1  0.227273    0.227273\n",
       "2  0.318182    0.363636\n",
       "3  0.230769    0.269231\n",
       "4  0.263158    0.263158\n",
       "5  0.315789    0.368421\n",
       "6  0.222222    0.222222"
      ]
     },
     "execution_count": 31,
     "metadata": {},
     "output_type": "execute_result"
    }
   ],
   "source": [
    "pd.DataFrame(index=range(7), \n",
    "             data=[results_4[0].values(), results_4[1].values(), results_4[2].values(), \n",
    "                   results_4[3].values(), results_4[4].values(), results_4[5].values(), results_4[6].values()],\n",
    "            columns=results_4[0].keys())"
   ]
  },
  {
   "cell_type": "markdown",
   "metadata": {},
   "source": [
    "# Второй алгоритм"
   ]
  },
  {
   "cell_type": "code",
   "execution_count": 32,
   "metadata": {},
   "outputs": [
    {
     "name": "stdout",
     "output_type": "stream",
     "text": [
      "Lemmatizing sentences\n"
     ]
    },
    {
     "data": {
      "application/vnd.jupyter.widget-view+json": {
       "model_id": "71960fef4eb142168f845dc738e38c37",
       "version_major": 2,
       "version_minor": 0
      },
      "text/plain": [
       "HBox(children=(IntProgress(value=0, max=24), HTML(value='')))"
      ]
     },
     "metadata": {},
     "output_type": "display_data"
    },
    {
     "name": "stdout",
     "output_type": "stream",
     "text": [
      "\n",
      "Lemmatizing sentences\n"
     ]
    },
    {
     "data": {
      "application/vnd.jupyter.widget-view+json": {
       "model_id": "f5dc0bc002da4565bdf0f8dced17703a",
       "version_major": 2,
       "version_minor": 0
      },
      "text/plain": [
       "HBox(children=(IntProgress(value=0, max=22), HTML(value='')))"
      ]
     },
     "metadata": {},
     "output_type": "display_data"
    },
    {
     "name": "stdout",
     "output_type": "stream",
     "text": [
      "\n",
      "Lemmatizing sentences\n"
     ]
    },
    {
     "data": {
      "application/vnd.jupyter.widget-view+json": {
       "model_id": "bcb5094d4cad4f4f94bacc98bebabf19",
       "version_major": 2,
       "version_minor": 0
      },
      "text/plain": [
       "HBox(children=(IntProgress(value=0, max=23), HTML(value='')))"
      ]
     },
     "metadata": {},
     "output_type": "display_data"
    },
    {
     "name": "stdout",
     "output_type": "stream",
     "text": [
      "\n",
      "Lemmatizing sentences\n"
     ]
    },
    {
     "data": {
      "application/vnd.jupyter.widget-view+json": {
       "model_id": "ba08210ff6724ea9973c94586e92a54d",
       "version_major": 2,
       "version_minor": 0
      },
      "text/plain": [
       "HBox(children=(IntProgress(value=0, max=27), HTML(value='')))"
      ]
     },
     "metadata": {},
     "output_type": "display_data"
    },
    {
     "name": "stdout",
     "output_type": "stream",
     "text": [
      "\n",
      "Lemmatizing sentences\n"
     ]
    },
    {
     "data": {
      "application/vnd.jupyter.widget-view+json": {
       "model_id": "86958efd57224ab3b5f7c0f0628b9181",
       "version_major": 2,
       "version_minor": 0
      },
      "text/plain": [
       "HBox(children=(IntProgress(value=0, max=20), HTML(value='')))"
      ]
     },
     "metadata": {},
     "output_type": "display_data"
    },
    {
     "name": "stdout",
     "output_type": "stream",
     "text": [
      "\n",
      "Lemmatizing sentences\n"
     ]
    },
    {
     "data": {
      "application/vnd.jupyter.widget-view+json": {
       "model_id": "ebc9c1a334634b2ba08eedd129ff45e5",
       "version_major": 2,
       "version_minor": 0
      },
      "text/plain": [
       "HBox(children=(IntProgress(value=0, max=20), HTML(value='')))"
      ]
     },
     "metadata": {},
     "output_type": "display_data"
    },
    {
     "name": "stdout",
     "output_type": "stream",
     "text": [
      "\n",
      "Lemmatizing sentences\n"
     ]
    },
    {
     "data": {
      "application/vnd.jupyter.widget-view+json": {
       "model_id": "681aa17d966045529385c6e1ba0b9c43",
       "version_major": 2,
       "version_minor": 0
      },
      "text/plain": [
       "HBox(children=(IntProgress(value=0, max=18), HTML(value='')))"
      ]
     },
     "metadata": {},
     "output_type": "display_data"
    },
    {
     "name": "stdout",
     "output_type": "stream",
     "text": [
      "\n"
     ]
    }
   ],
   "source": [
    "results_5 = []\n",
    "for text in files[1:8]:\n",
    "    sents, real_paragraphs, pred_segment_indices, pred_paragraphs = f.segmentize_by_clustering('./texts/exam/' + text, \n",
    "                                                    model=model)\n",
    "    gold_idx = f.gold_segment_indices(real_paragraphs)\n",
    "    k = int(0.5*len(sents)/len(real_paragraphs))\n",
    "    results_5.append(f.evaluate(gold_idx, pred_segment_indices, k))"
   ]
  },
  {
   "cell_type": "code",
   "execution_count": 33,
   "metadata": {},
   "outputs": [
    {
     "data": {
      "text/html": [
       "<div>\n",
       "<style scoped>\n",
       "    .dataframe tbody tr th:only-of-type {\n",
       "        vertical-align: middle;\n",
       "    }\n",
       "\n",
       "    .dataframe tbody tr th {\n",
       "        vertical-align: top;\n",
       "    }\n",
       "\n",
       "    .dataframe thead th {\n",
       "        text-align: right;\n",
       "    }\n",
       "</style>\n",
       "<table border=\"1\" class=\"dataframe\">\n",
       "  <thead>\n",
       "    <tr style=\"text-align: right;\">\n",
       "      <th></th>\n",
       "      <th>pk</th>\n",
       "      <th>windowdiff</th>\n",
       "    </tr>\n",
       "  </thead>\n",
       "  <tbody>\n",
       "    <tr>\n",
       "      <td>0</td>\n",
       "      <td>0.608696</td>\n",
       "      <td>0.652174</td>\n",
       "    </tr>\n",
       "    <tr>\n",
       "      <td>1</td>\n",
       "      <td>0.454545</td>\n",
       "      <td>0.454545</td>\n",
       "    </tr>\n",
       "    <tr>\n",
       "      <td>2</td>\n",
       "      <td>0.727273</td>\n",
       "      <td>0.772727</td>\n",
       "    </tr>\n",
       "    <tr>\n",
       "      <td>3</td>\n",
       "      <td>0.538462</td>\n",
       "      <td>0.576923</td>\n",
       "    </tr>\n",
       "    <tr>\n",
       "      <td>4</td>\n",
       "      <td>0.473684</td>\n",
       "      <td>0.473684</td>\n",
       "    </tr>\n",
       "    <tr>\n",
       "      <td>5</td>\n",
       "      <td>0.631579</td>\n",
       "      <td>0.684211</td>\n",
       "    </tr>\n",
       "    <tr>\n",
       "      <td>6</td>\n",
       "      <td>0.444444</td>\n",
       "      <td>0.444444</td>\n",
       "    </tr>\n",
       "  </tbody>\n",
       "</table>\n",
       "</div>"
      ],
      "text/plain": [
       "         pk  windowdiff\n",
       "0  0.608696    0.652174\n",
       "1  0.454545    0.454545\n",
       "2  0.727273    0.772727\n",
       "3  0.538462    0.576923\n",
       "4  0.473684    0.473684\n",
       "5  0.631579    0.684211\n",
       "6  0.444444    0.444444"
      ]
     },
     "execution_count": 33,
     "metadata": {},
     "output_type": "execute_result"
    }
   ],
   "source": [
    "pd.DataFrame(index=range(7), \n",
    "             data=[results_5[0].values(), results_5[1].values(), results_5[2].values(), \n",
    "                   results_5[3].values(), results_5[4].values(), results_5[5].values(), results_5[6].values()],\n",
    "            columns=results_5[0].keys())"
   ]
  },
  {
   "cell_type": "markdown",
   "metadata": {},
   "source": [
    "## Текст Лебедева"
   ]
  },
  {
   "cell_type": "code",
   "execution_count": 35,
   "metadata": {},
   "outputs": [
    {
     "name": "stdout",
     "output_type": "stream",
     "text": [
      "Lemmatizing sentences\n"
     ]
    },
    {
     "data": {
      "application/vnd.jupyter.widget-view+json": {
       "model_id": "c9cb7987e59f401b941b4e7f8516ffe5",
       "version_major": 2,
       "version_minor": 0
      },
      "text/plain": [
       "HBox(children=(IntProgress(value=0, max=107), HTML(value='')))"
      ]
     },
     "metadata": {},
     "output_type": "display_data"
    },
    {
     "name": "stdout",
     "output_type": "stream",
     "text": [
      "\n",
      "{'pk': 0.30097087378640774, 'windowdiff': 0.3300970873786408}\n"
     ]
    }
   ],
   "source": [
    "sents, real_paragraphs, pred_segment_indices, pred_paragraphs = f.segmentize_bipartite_subgraphs('./texts/lebedev.txt', \n",
    "                                                    model=model,\n",
    "                                                    tau=1)\n",
    "gold_idx = f.gold_segment_indices(real_paragraphs)\n",
    "k = int(0.5*len(sents)/len(real_paragraphs))\n",
    "print(f.evaluate(gold_idx, pred_segment_indices, k))"
   ]
  },
  {
   "cell_type": "code",
   "execution_count": 36,
   "metadata": {},
   "outputs": [
    {
     "name": "stdout",
     "output_type": "stream",
     "text": [
      "Lemmatizing sentences\n"
     ]
    },
    {
     "data": {
      "application/vnd.jupyter.widget-view+json": {
       "model_id": "85e54f7aec774f99a2e4a5f663ffef29",
       "version_major": 2,
       "version_minor": 0
      },
      "text/plain": [
       "HBox(children=(IntProgress(value=0, max=107), HTML(value='')))"
      ]
     },
     "metadata": {},
     "output_type": "display_data"
    },
    {
     "name": "stdout",
     "output_type": "stream",
     "text": [
      "\n",
      "{'pk': 0.4174757281553398, 'windowdiff': 0.5825242718446602}\n"
     ]
    }
   ],
   "source": [
    "sents, real_paragraphs, pred_segment_indices, pred_paragraphs = f.segmentize_bipartite_subgraphs('./texts/lebedev.txt', \n",
    "                                                    model=model,\n",
    "                                                    tau=2)\n",
    "gold_idx = f.gold_segment_indices(real_paragraphs)\n",
    "k = int(0.5*len(sents)/len(real_paragraphs))\n",
    "print(f.evaluate(gold_idx, pred_segment_indices, k))"
   ]
  },
  {
   "cell_type": "code",
   "execution_count": 38,
   "metadata": {},
   "outputs": [
    {
     "name": "stdout",
     "output_type": "stream",
     "text": [
      "Lemmatizing sentences\n"
     ]
    },
    {
     "data": {
      "application/vnd.jupyter.widget-view+json": {
       "model_id": "bcb5da6178d14853bb922a73b0dae5d4",
       "version_major": 2,
       "version_minor": 0
      },
      "text/plain": [
       "HBox(children=(IntProgress(value=0, max=107), HTML(value='')))"
      ]
     },
     "metadata": {},
     "output_type": "display_data"
    },
    {
     "name": "stdout",
     "output_type": "stream",
     "text": [
      "\n",
      "{'pk': 0.27184466019417475, 'windowdiff': 0.42718446601941745}\n"
     ]
    }
   ],
   "source": [
    "sents, real_paragraphs, pred_segment_indices, pred_paragraphs = f.segmentize_bipartite_subgraphs('./texts/lebedev.txt', \n",
    "                                                    model=model,\n",
    "                                                    tau=1.5)\n",
    "gold_idx = f.gold_segment_indices(real_paragraphs)\n",
    "k = int(0.5*len(sents)/len(real_paragraphs))\n",
    "print(f.evaluate(gold_idx, pred_segment_indices, k))"
   ]
  },
  {
   "cell_type": "markdown",
   "metadata": {},
   "source": [
    "## Второй алгоритм на Лебедеве"
   ]
  },
  {
   "cell_type": "code",
   "execution_count": 39,
   "metadata": {},
   "outputs": [
    {
     "name": "stdout",
     "output_type": "stream",
     "text": [
      "Lemmatizing sentences\n"
     ]
    },
    {
     "data": {
      "application/vnd.jupyter.widget-view+json": {
       "model_id": "400d6057a1a34e8f9b7e17ce6e58e852",
       "version_major": 2,
       "version_minor": 0
      },
      "text/plain": [
       "HBox(children=(IntProgress(value=0, max=107), HTML(value='')))"
      ]
     },
     "metadata": {},
     "output_type": "display_data"
    },
    {
     "name": "stdout",
     "output_type": "stream",
     "text": [
      "\n",
      "{'pk': 0.5145631067961165, 'windowdiff': 0.5436893203883495}\n"
     ]
    }
   ],
   "source": [
    "sents, real_paragraphs, pred_segment_indices, pred_paragraphs = f.segmentize_by_clustering('./texts/lebedev.txt', \n",
    "                                                    model=model)\n",
    "gold_idx = f.gold_segment_indices(real_paragraphs)\n",
    "k = int(0.5*len(sents)/len(real_paragraphs))\n",
    "print(f.evaluate(gold_idx, pred_segment_indices, k))"
   ]
  },
  {
   "cell_type": "markdown",
   "metadata": {},
   "source": [
    "## Проверка на 3 текстах ЕГЭ"
   ]
  },
  {
   "cell_type": "markdown",
   "metadata": {},
   "source": [
    "## Второй алгоритм"
   ]
  },
  {
   "cell_type": "code",
   "execution_count": 42,
   "metadata": {},
   "outputs": [
    {
     "name": "stdout",
     "output_type": "stream",
     "text": [
      "Lemmatizing sentences\n"
     ]
    },
    {
     "data": {
      "application/vnd.jupyter.widget-view+json": {
       "model_id": "4ab40766df75461a964dc84f4da50828",
       "version_major": 2,
       "version_minor": 0
      },
      "text/plain": [
       "HBox(children=(IntProgress(value=0, max=18), HTML(value='')))"
      ]
     },
     "metadata": {},
     "output_type": "display_data"
    },
    {
     "name": "stdout",
     "output_type": "stream",
     "text": [
      "\n",
      "Lemmatizing sentences\n"
     ]
    },
    {
     "data": {
      "application/vnd.jupyter.widget-view+json": {
       "model_id": "7e24bb5e6d7c43f8b0a51d3bca1e1100",
       "version_major": 2,
       "version_minor": 0
      },
      "text/plain": [
       "HBox(children=(IntProgress(value=0, max=29), HTML(value='')))"
      ]
     },
     "metadata": {},
     "output_type": "display_data"
    },
    {
     "name": "stdout",
     "output_type": "stream",
     "text": [
      "\n",
      "Lemmatizing sentences\n"
     ]
    },
    {
     "data": {
      "application/vnd.jupyter.widget-view+json": {
       "model_id": "cb1f9b32ab2e41e8a2a6930527ce7655",
       "version_major": 2,
       "version_minor": 0
      },
      "text/plain": [
       "HBox(children=(IntProgress(value=0, max=25), HTML(value='')))"
      ]
     },
     "metadata": {},
     "output_type": "display_data"
    },
    {
     "name": "stdout",
     "output_type": "stream",
     "text": [
      "\n"
     ]
    }
   ],
   "source": [
    "results_6 = []\n",
    "for text in files[7:10]:\n",
    "    sents, real_paragraphs, pred_segment_indices, pred_paragraphs = f.segmentize_by_clustering('./texts/exam/' + text, \n",
    "                                                    model=model)\n",
    "    gold_idx = f.gold_segment_indices(real_paragraphs)\n",
    "    k = int(0.5*len(sents)/len(real_paragraphs))\n",
    "    results_6.append(f.evaluate(gold_idx, pred_segment_indices, k))"
   ]
  },
  {
   "cell_type": "code",
   "execution_count": 44,
   "metadata": {},
   "outputs": [
    {
     "data": {
      "text/html": [
       "<div>\n",
       "<style scoped>\n",
       "    .dataframe tbody tr th:only-of-type {\n",
       "        vertical-align: middle;\n",
       "    }\n",
       "\n",
       "    .dataframe tbody tr th {\n",
       "        vertical-align: top;\n",
       "    }\n",
       "\n",
       "    .dataframe thead th {\n",
       "        text-align: right;\n",
       "    }\n",
       "</style>\n",
       "<table border=\"1\" class=\"dataframe\">\n",
       "  <thead>\n",
       "    <tr style=\"text-align: right;\">\n",
       "      <th></th>\n",
       "      <th>pk</th>\n",
       "      <th>windowdiff</th>\n",
       "    </tr>\n",
       "  </thead>\n",
       "  <tbody>\n",
       "    <tr>\n",
       "      <td>0</td>\n",
       "      <td>0.444444</td>\n",
       "      <td>0.444444</td>\n",
       "    </tr>\n",
       "    <tr>\n",
       "      <td>1</td>\n",
       "      <td>0.571429</td>\n",
       "      <td>0.607143</td>\n",
       "    </tr>\n",
       "    <tr>\n",
       "      <td>2</td>\n",
       "      <td>0.500000</td>\n",
       "      <td>0.500000</td>\n",
       "    </tr>\n",
       "  </tbody>\n",
       "</table>\n",
       "</div>"
      ],
      "text/plain": [
       "         pk  windowdiff\n",
       "0  0.444444    0.444444\n",
       "1  0.571429    0.607143\n",
       "2  0.500000    0.500000"
      ]
     },
     "execution_count": 44,
     "metadata": {},
     "output_type": "execute_result"
    }
   ],
   "source": [
    "pd.DataFrame(index=range(3), \n",
    "             data=[results_6[0].values(), results_6[1].values(), results_6[2].values()],\n",
    "            columns=results_6[0].keys())"
   ]
  },
  {
   "cell_type": "markdown",
   "metadata": {},
   "source": [
    "## Первый алгоритм, тау = 1"
   ]
  },
  {
   "cell_type": "code",
   "execution_count": 45,
   "metadata": {},
   "outputs": [
    {
     "name": "stdout",
     "output_type": "stream",
     "text": [
      "Lemmatizing sentences\n"
     ]
    },
    {
     "data": {
      "application/vnd.jupyter.widget-view+json": {
       "model_id": "82d94044e3e44d518a02f629b9029d33",
       "version_major": 2,
       "version_minor": 0
      },
      "text/plain": [
       "HBox(children=(IntProgress(value=0, max=18), HTML(value='')))"
      ]
     },
     "metadata": {},
     "output_type": "display_data"
    },
    {
     "name": "stdout",
     "output_type": "stream",
     "text": [
      "\n",
      "Lemmatizing sentences\n"
     ]
    },
    {
     "data": {
      "application/vnd.jupyter.widget-view+json": {
       "model_id": "e609b9a5b5884324ad4da1992eca84eb",
       "version_major": 2,
       "version_minor": 0
      },
      "text/plain": [
       "HBox(children=(IntProgress(value=0, max=29), HTML(value='')))"
      ]
     },
     "metadata": {},
     "output_type": "display_data"
    },
    {
     "name": "stdout",
     "output_type": "stream",
     "text": [
      "\n",
      "Lemmatizing sentences\n"
     ]
    },
    {
     "data": {
      "application/vnd.jupyter.widget-view+json": {
       "model_id": "b3dd6396b0af4fe7958ea241f8d1e192",
       "version_major": 2,
       "version_minor": 0
      },
      "text/plain": [
       "HBox(children=(IntProgress(value=0, max=25), HTML(value='')))"
      ]
     },
     "metadata": {},
     "output_type": "display_data"
    },
    {
     "name": "stdout",
     "output_type": "stream",
     "text": [
      "\n"
     ]
    }
   ],
   "source": [
    "results_7 = []\n",
    "for text in files[7:10]:\n",
    "    sents, real_paragraphs, pred_segment_indices, pred_paragraphs = f.segmentize_bipartite_subgraphs('./texts/exam/' + text, \n",
    "                                                    model=model,\n",
    "                                                    tau=1)\n",
    "    gold_idx = f.gold_segment_indices(real_paragraphs)\n",
    "    k = int(0.5*len(sents)/len(real_paragraphs))\n",
    "    results_7.append(f.evaluate(gold_idx, pred_segment_indices, k))"
   ]
  },
  {
   "cell_type": "code",
   "execution_count": 46,
   "metadata": {},
   "outputs": [
    {
     "data": {
      "text/html": [
       "<div>\n",
       "<style scoped>\n",
       "    .dataframe tbody tr th:only-of-type {\n",
       "        vertical-align: middle;\n",
       "    }\n",
       "\n",
       "    .dataframe tbody tr th {\n",
       "        vertical-align: top;\n",
       "    }\n",
       "\n",
       "    .dataframe thead th {\n",
       "        text-align: right;\n",
       "    }\n",
       "</style>\n",
       "<table border=\"1\" class=\"dataframe\">\n",
       "  <thead>\n",
       "    <tr style=\"text-align: right;\">\n",
       "      <th></th>\n",
       "      <th>pk</th>\n",
       "      <th>windowdiff</th>\n",
       "    </tr>\n",
       "  </thead>\n",
       "  <tbody>\n",
       "    <tr>\n",
       "      <td>0</td>\n",
       "      <td>0.222222</td>\n",
       "      <td>0.222222</td>\n",
       "    </tr>\n",
       "    <tr>\n",
       "      <td>1</td>\n",
       "      <td>0.250000</td>\n",
       "      <td>0.250000</td>\n",
       "    </tr>\n",
       "    <tr>\n",
       "      <td>2</td>\n",
       "      <td>0.333333</td>\n",
       "      <td>0.333333</td>\n",
       "    </tr>\n",
       "  </tbody>\n",
       "</table>\n",
       "</div>"
      ],
      "text/plain": [
       "         pk  windowdiff\n",
       "0  0.222222    0.222222\n",
       "1  0.250000    0.250000\n",
       "2  0.333333    0.333333"
      ]
     },
     "execution_count": 46,
     "metadata": {},
     "output_type": "execute_result"
    }
   ],
   "source": [
    "pd.DataFrame(index=range(3), \n",
    "             data=[results_7[0].values(), results_7[1].values(), results_7[2].values()],\n",
    "            columns=results_7[0].keys())"
   ]
  },
  {
   "cell_type": "markdown",
   "metadata": {},
   "source": [
    "## Первый алгоритм, тау = 1.5"
   ]
  },
  {
   "cell_type": "code",
   "execution_count": 47,
   "metadata": {},
   "outputs": [
    {
     "name": "stdout",
     "output_type": "stream",
     "text": [
      "Lemmatizing sentences\n"
     ]
    },
    {
     "data": {
      "application/vnd.jupyter.widget-view+json": {
       "model_id": "cd0995da8885425385002d3662578206",
       "version_major": 2,
       "version_minor": 0
      },
      "text/plain": [
       "HBox(children=(IntProgress(value=0, max=18), HTML(value='')))"
      ]
     },
     "metadata": {},
     "output_type": "display_data"
    },
    {
     "name": "stdout",
     "output_type": "stream",
     "text": [
      "\n",
      "Lemmatizing sentences\n"
     ]
    },
    {
     "data": {
      "application/vnd.jupyter.widget-view+json": {
       "model_id": "371e8b3513514dcc963fa74b248685c0",
       "version_major": 2,
       "version_minor": 0
      },
      "text/plain": [
       "HBox(children=(IntProgress(value=0, max=29), HTML(value='')))"
      ]
     },
     "metadata": {},
     "output_type": "display_data"
    },
    {
     "name": "stdout",
     "output_type": "stream",
     "text": [
      "\n",
      "Lemmatizing sentences\n"
     ]
    },
    {
     "data": {
      "application/vnd.jupyter.widget-view+json": {
       "model_id": "59e60fa7beb946dab63de1df0bdca37d",
       "version_major": 2,
       "version_minor": 0
      },
      "text/plain": [
       "HBox(children=(IntProgress(value=0, max=25), HTML(value='')))"
      ]
     },
     "metadata": {},
     "output_type": "display_data"
    },
    {
     "name": "stdout",
     "output_type": "stream",
     "text": [
      "\n"
     ]
    }
   ],
   "source": [
    "results_8 = []\n",
    "for text in files[7:10]:\n",
    "    sents, real_paragraphs, pred_segment_indices, pred_paragraphs = f.segmentize_bipartite_subgraphs('./texts/exam/' + text, \n",
    "                                                    model=model,\n",
    "                                                    tau=1.5)\n",
    "    gold_idx = f.gold_segment_indices(real_paragraphs)\n",
    "    k = int(0.5*len(sents)/len(real_paragraphs))\n",
    "    results_8.append(f.evaluate(gold_idx, pred_segment_indices, k))"
   ]
  },
  {
   "cell_type": "code",
   "execution_count": 48,
   "metadata": {},
   "outputs": [
    {
     "data": {
      "text/html": [
       "<div>\n",
       "<style scoped>\n",
       "    .dataframe tbody tr th:only-of-type {\n",
       "        vertical-align: middle;\n",
       "    }\n",
       "\n",
       "    .dataframe tbody tr th {\n",
       "        vertical-align: top;\n",
       "    }\n",
       "\n",
       "    .dataframe thead th {\n",
       "        text-align: right;\n",
       "    }\n",
       "</style>\n",
       "<table border=\"1\" class=\"dataframe\">\n",
       "  <thead>\n",
       "    <tr style=\"text-align: right;\">\n",
       "      <th></th>\n",
       "      <th>pk</th>\n",
       "      <th>windowdiff</th>\n",
       "    </tr>\n",
       "  </thead>\n",
       "  <tbody>\n",
       "    <tr>\n",
       "      <td>0</td>\n",
       "      <td>0.222222</td>\n",
       "      <td>0.222222</td>\n",
       "    </tr>\n",
       "    <tr>\n",
       "      <td>1</td>\n",
       "      <td>0.321429</td>\n",
       "      <td>0.321429</td>\n",
       "    </tr>\n",
       "    <tr>\n",
       "      <td>2</td>\n",
       "      <td>0.333333</td>\n",
       "      <td>0.333333</td>\n",
       "    </tr>\n",
       "  </tbody>\n",
       "</table>\n",
       "</div>"
      ],
      "text/plain": [
       "         pk  windowdiff\n",
       "0  0.222222    0.222222\n",
       "1  0.321429    0.321429\n",
       "2  0.333333    0.333333"
      ]
     },
     "execution_count": 48,
     "metadata": {},
     "output_type": "execute_result"
    }
   ],
   "source": [
    "pd.DataFrame(index=range(3), \n",
    "             data=[results_8[0].values(), results_8[1].values(), results_8[2].values()],\n",
    "            columns=results_8[0].keys())"
   ]
  },
  {
   "cell_type": "markdown",
   "metadata": {},
   "source": [
    "## Первый алгоритм, тау = 2"
   ]
  },
  {
   "cell_type": "code",
   "execution_count": 49,
   "metadata": {},
   "outputs": [
    {
     "name": "stdout",
     "output_type": "stream",
     "text": [
      "Lemmatizing sentences\n"
     ]
    },
    {
     "data": {
      "application/vnd.jupyter.widget-view+json": {
       "model_id": "00809c0e5fc547b2a32d5ec07e619596",
       "version_major": 2,
       "version_minor": 0
      },
      "text/plain": [
       "HBox(children=(IntProgress(value=0, max=18), HTML(value='')))"
      ]
     },
     "metadata": {},
     "output_type": "display_data"
    },
    {
     "name": "stdout",
     "output_type": "stream",
     "text": [
      "\n",
      "Lemmatizing sentences\n"
     ]
    },
    {
     "data": {
      "application/vnd.jupyter.widget-view+json": {
       "model_id": "b5e0bc72210046dc9309b513df6bd70f",
       "version_major": 2,
       "version_minor": 0
      },
      "text/plain": [
       "HBox(children=(IntProgress(value=0, max=29), HTML(value='')))"
      ]
     },
     "metadata": {},
     "output_type": "display_data"
    },
    {
     "name": "stdout",
     "output_type": "stream",
     "text": [
      "\n",
      "Lemmatizing sentences\n"
     ]
    },
    {
     "data": {
      "application/vnd.jupyter.widget-view+json": {
       "model_id": "cb943033cadf403688dbc10062138c24",
       "version_major": 2,
       "version_minor": 0
      },
      "text/plain": [
       "HBox(children=(IntProgress(value=0, max=25), HTML(value='')))"
      ]
     },
     "metadata": {},
     "output_type": "display_data"
    },
    {
     "name": "stdout",
     "output_type": "stream",
     "text": [
      "\n"
     ]
    }
   ],
   "source": [
    "results_9 = []\n",
    "for text in files[7:10]:\n",
    "    sents, real_paragraphs, pred_segment_indices, pred_paragraphs = f.segmentize_bipartite_subgraphs('./texts/exam/' + text, \n",
    "                                                    model=model,\n",
    "                                                    tau=2)\n",
    "    gold_idx = f.gold_segment_indices(real_paragraphs)\n",
    "    k = int(0.5*len(sents)/len(real_paragraphs))\n",
    "    results_9.append(f.evaluate(gold_idx, pred_segment_indices, k))"
   ]
  },
  {
   "cell_type": "code",
   "execution_count": 50,
   "metadata": {},
   "outputs": [
    {
     "data": {
      "text/html": [
       "<div>\n",
       "<style scoped>\n",
       "    .dataframe tbody tr th:only-of-type {\n",
       "        vertical-align: middle;\n",
       "    }\n",
       "\n",
       "    .dataframe tbody tr th {\n",
       "        vertical-align: top;\n",
       "    }\n",
       "\n",
       "    .dataframe thead th {\n",
       "        text-align: right;\n",
       "    }\n",
       "</style>\n",
       "<table border=\"1\" class=\"dataframe\">\n",
       "  <thead>\n",
       "    <tr style=\"text-align: right;\">\n",
       "      <th></th>\n",
       "      <th>pk</th>\n",
       "      <th>windowdiff</th>\n",
       "    </tr>\n",
       "  </thead>\n",
       "  <tbody>\n",
       "    <tr>\n",
       "      <td>0</td>\n",
       "      <td>0.222222</td>\n",
       "      <td>0.222222</td>\n",
       "    </tr>\n",
       "    <tr>\n",
       "      <td>1</td>\n",
       "      <td>0.285714</td>\n",
       "      <td>0.321429</td>\n",
       "    </tr>\n",
       "    <tr>\n",
       "      <td>2</td>\n",
       "      <td>0.333333</td>\n",
       "      <td>0.333333</td>\n",
       "    </tr>\n",
       "  </tbody>\n",
       "</table>\n",
       "</div>"
      ],
      "text/plain": [
       "         pk  windowdiff\n",
       "0  0.222222    0.222222\n",
       "1  0.285714    0.321429\n",
       "2  0.333333    0.333333"
      ]
     },
     "execution_count": 50,
     "metadata": {},
     "output_type": "execute_result"
    }
   ],
   "source": [
    "pd.DataFrame(index=range(3), \n",
    "             data=[results_9[0].values(), results_9[1].values(), results_9[2].values()],\n",
    "            columns=results_9[0].keys())"
   ]
  },
  {
   "cell_type": "code",
   "execution_count": null,
   "metadata": {},
   "outputs": [],
   "source": []
  }
 ],
 "metadata": {
  "kernelspec": {
   "display_name": "Python 3",
   "language": "python",
   "name": "python3"
  },
  "language_info": {
   "codemirror_mode": {
    "name": "ipython",
    "version": 3
   },
   "file_extension": ".py",
   "mimetype": "text/x-python",
   "name": "python",
   "nbconvert_exporter": "python",
   "pygments_lexer": "ipython3",
   "version": "3.7.4"
  }
 },
 "nbformat": 4,
 "nbformat_minor": 2
}
