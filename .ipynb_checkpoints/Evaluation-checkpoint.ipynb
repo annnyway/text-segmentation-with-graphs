{
 "cells": [
  {
   "cell_type": "code",
   "execution_count": 1,
   "metadata": {},
   "outputs": [],
   "source": [
    "import gensim\n",
    "from gensim.models import KeyedVectors"
   ]
  },
  {
   "cell_type": "code",
   "execution_count": 2,
   "metadata": {},
   "outputs": [],
   "source": [
    "import functions as f "
   ]
  },
  {
   "cell_type": "code",
   "execution_count": 3,
   "metadata": {},
   "outputs": [],
   "source": [
    "model = gensim.models.KeyedVectors.load('/Users/isupovand/Downloads/187/model.model')"
   ]
  },
  {
   "cell_type": "code",
   "execution_count": 5,
   "metadata": {},
   "outputs": [],
   "source": [
    "import os"
   ]
  },
  {
   "cell_type": "code",
   "execution_count": 98,
   "metadata": {},
   "outputs": [],
   "source": [
    "path = './texts/exam'\n",
    "\n",
    "files = []\n",
    "for filename in os.listdir(path):\n",
    "    files.append(filename)"
   ]
  },
  {
   "cell_type": "code",
   "execution_count": 99,
   "metadata": {},
   "outputs": [
    {
     "data": {
      "text/plain": [
       "['.DS_Store',\n",
       " '01.txt',\n",
       " '02.txt',\n",
       " '03.txt',\n",
       " '04.txt',\n",
       " '05.txt',\n",
       " '06.txt',\n",
       " '07.txt',\n",
       " '08.txt',\n",
       " '09.txt',\n",
       " '10.txt']"
      ]
     },
     "execution_count": 99,
     "metadata": {},
     "output_type": "execute_result"
    }
   ],
   "source": [
    "files"
   ]
  },
  {
   "cell_type": "code",
   "execution_count": 100,
   "metadata": {},
   "outputs": [],
   "source": [
    "import pandas as pd"
   ]
  },
  {
   "cell_type": "markdown",
   "metadata": {},
   "source": [
    "## Первый алгоритм"
   ]
  },
  {
   "cell_type": "markdown",
   "metadata": {},
   "source": [
    "## Train ЕГЭ Tau = 4 (больше параграфов, чем нужно)"
   ]
  },
  {
   "cell_type": "code",
   "execution_count": 101,
   "metadata": {},
   "outputs": [
    {
     "name": "stdout",
     "output_type": "stream",
     "text": [
      "Lemmatizing sentences\n"
     ]
    },
    {
     "data": {
      "application/vnd.jupyter.widget-view+json": {
       "model_id": "6a438a1687e44f618f6220fde63c3ece",
       "version_major": 2,
       "version_minor": 0
      },
      "text/plain": [
       "HBox(children=(IntProgress(value=0, max=24), HTML(value='')))"
      ]
     },
     "metadata": {},
     "output_type": "display_data"
    },
    {
     "name": "stdout",
     "output_type": "stream",
     "text": [
      "\n",
      "Изначальный текст  5  Предсказание  9\n",
      "Lemmatizing sentences\n"
     ]
    },
    {
     "data": {
      "application/vnd.jupyter.widget-view+json": {
       "model_id": "d6f95adc0d0447daa1cad970cd4c0b04",
       "version_major": 2,
       "version_minor": 0
      },
      "text/plain": [
       "HBox(children=(IntProgress(value=0, max=22), HTML(value='')))"
      ]
     },
     "metadata": {},
     "output_type": "display_data"
    },
    {
     "name": "stdout",
     "output_type": "stream",
     "text": [
      "\n",
      "Изначальный текст  6  Предсказание  7\n",
      "Lemmatizing sentences\n"
     ]
    },
    {
     "data": {
      "application/vnd.jupyter.widget-view+json": {
       "model_id": "dfcc759cb506423d9e627d36676f37bf",
       "version_major": 2,
       "version_minor": 0
      },
      "text/plain": [
       "HBox(children=(IntProgress(value=0, max=23), HTML(value='')))"
      ]
     },
     "metadata": {},
     "output_type": "display_data"
    },
    {
     "name": "stdout",
     "output_type": "stream",
     "text": [
      "\n",
      "Изначальный текст  5  Предсказание  7\n",
      "Lemmatizing sentences\n"
     ]
    },
    {
     "data": {
      "application/vnd.jupyter.widget-view+json": {
       "model_id": "3547716d2e254eb080e11db081d2bba8",
       "version_major": 2,
       "version_minor": 0
      },
      "text/plain": [
       "HBox(children=(IntProgress(value=0, max=27), HTML(value='')))"
      ]
     },
     "metadata": {},
     "output_type": "display_data"
    },
    {
     "name": "stdout",
     "output_type": "stream",
     "text": [
      "\n",
      "Изначальный текст  5  Предсказание  10\n",
      "Lemmatizing sentences\n"
     ]
    },
    {
     "data": {
      "application/vnd.jupyter.widget-view+json": {
       "model_id": "7a9e3d8d041948f09e6e065d2641ecdd",
       "version_major": 2,
       "version_minor": 0
      },
      "text/plain": [
       "HBox(children=(IntProgress(value=0, max=20), HTML(value='')))"
      ]
     },
     "metadata": {},
     "output_type": "display_data"
    },
    {
     "name": "stdout",
     "output_type": "stream",
     "text": [
      "\n",
      "Изначальный текст  4  Предсказание  6\n",
      "Lemmatizing sentences\n"
     ]
    },
    {
     "data": {
      "application/vnd.jupyter.widget-view+json": {
       "model_id": "3e7f64c28ff043b49937d951ce3910a2",
       "version_major": 2,
       "version_minor": 0
      },
      "text/plain": [
       "HBox(children=(IntProgress(value=0, max=20), HTML(value='')))"
      ]
     },
     "metadata": {},
     "output_type": "display_data"
    },
    {
     "name": "stdout",
     "output_type": "stream",
     "text": [
      "\n",
      "Изначальный текст  5  Предсказание  9\n",
      "Lemmatizing sentences\n"
     ]
    },
    {
     "data": {
      "application/vnd.jupyter.widget-view+json": {
       "model_id": "27f976aa02044449850ad17db8cb481e",
       "version_major": 2,
       "version_minor": 0
      },
      "text/plain": [
       "HBox(children=(IntProgress(value=0, max=18), HTML(value='')))"
      ]
     },
     "metadata": {},
     "output_type": "display_data"
    },
    {
     "name": "stdout",
     "output_type": "stream",
     "text": [
      "\n",
      "Изначальный текст  5  Предсказание  6\n"
     ]
    }
   ],
   "source": [
    "results = []\n",
    "for text in files[1:8]:\n",
    "    sents, real_paragraphs, pred_segment_indices, pred_paragraphs = f.segmentize_bipartite_subgraphs('./texts/exam/' + text, \n",
    "                                                    model=model,\n",
    "                                                    tau=4)\n",
    "    gold_idx = f.gold_segment_indices(real_paragraphs)\n",
    "    k = round(0.5*len(sents)/len(real_paragraphs))\n",
    "    print('Изначальный текст ', len(real_paragraphs), ' Предсказание ', len(pred_paragraphs) )\n",
    "    results.append(f.evaluate(gold_idx, pred_segment_indices, k))"
   ]
  },
  {
   "cell_type": "code",
   "execution_count": 102,
   "metadata": {},
   "outputs": [
    {
     "data": {
      "text/html": [
       "<div>\n",
       "<style scoped>\n",
       "    .dataframe tbody tr th:only-of-type {\n",
       "        vertical-align: middle;\n",
       "    }\n",
       "\n",
       "    .dataframe tbody tr th {\n",
       "        vertical-align: top;\n",
       "    }\n",
       "\n",
       "    .dataframe thead th {\n",
       "        text-align: right;\n",
       "    }\n",
       "</style>\n",
       "<table border=\"1\" class=\"dataframe\">\n",
       "  <thead>\n",
       "    <tr style=\"text-align: right;\">\n",
       "      <th></th>\n",
       "      <th>pk</th>\n",
       "      <th>windowdiff</th>\n",
       "    </tr>\n",
       "  </thead>\n",
       "  <tbody>\n",
       "    <tr>\n",
       "      <td>0</td>\n",
       "      <td>0.565217</td>\n",
       "      <td>0.608696</td>\n",
       "    </tr>\n",
       "    <tr>\n",
       "      <td>1</td>\n",
       "      <td>0.428571</td>\n",
       "      <td>0.523810</td>\n",
       "    </tr>\n",
       "    <tr>\n",
       "      <td>2</td>\n",
       "      <td>0.545455</td>\n",
       "      <td>0.590909</td>\n",
       "    </tr>\n",
       "    <tr>\n",
       "      <td>3</td>\n",
       "      <td>0.440000</td>\n",
       "      <td>0.600000</td>\n",
       "    </tr>\n",
       "    <tr>\n",
       "      <td>4</td>\n",
       "      <td>0.421053</td>\n",
       "      <td>0.473684</td>\n",
       "    </tr>\n",
       "    <tr>\n",
       "      <td>5</td>\n",
       "      <td>0.631579</td>\n",
       "      <td>0.789474</td>\n",
       "    </tr>\n",
       "    <tr>\n",
       "      <td>6</td>\n",
       "      <td>0.588235</td>\n",
       "      <td>0.647059</td>\n",
       "    </tr>\n",
       "  </tbody>\n",
       "</table>\n",
       "</div>"
      ],
      "text/plain": [
       "         pk  windowdiff\n",
       "0  0.565217    0.608696\n",
       "1  0.428571    0.523810\n",
       "2  0.545455    0.590909\n",
       "3  0.440000    0.600000\n",
       "4  0.421053    0.473684\n",
       "5  0.631579    0.789474\n",
       "6  0.588235    0.647059"
      ]
     },
     "execution_count": 102,
     "metadata": {},
     "output_type": "execute_result"
    }
   ],
   "source": [
    "pd.DataFrame(index=range(7), \n",
    "             data=[results[0].values(), results[1].values(), results[2].values(), \n",
    "                   results[3].values(), results[4].values(), results[5].values(), results[6].values()],\n",
    "            columns=results[0].keys())"
   ]
  },
  {
   "cell_type": "markdown",
   "metadata": {},
   "source": [
    "## Train ЕГЭ Tau = 3 (неплохо, попадает либо больше по количеству)"
   ]
  },
  {
   "cell_type": "code",
   "execution_count": 103,
   "metadata": {},
   "outputs": [
    {
     "name": "stdout",
     "output_type": "stream",
     "text": [
      "Lemmatizing sentences\n"
     ]
    },
    {
     "data": {
      "application/vnd.jupyter.widget-view+json": {
       "model_id": "27edf241d4dd441cb6c36020de39f76c",
       "version_major": 2,
       "version_minor": 0
      },
      "text/plain": [
       "HBox(children=(IntProgress(value=0, max=24), HTML(value='')))"
      ]
     },
     "metadata": {},
     "output_type": "display_data"
    },
    {
     "name": "stdout",
     "output_type": "stream",
     "text": [
      "\n",
      "Изначальный текст  5  Предсказание  8\n",
      "Lemmatizing sentences\n"
     ]
    },
    {
     "data": {
      "application/vnd.jupyter.widget-view+json": {
       "model_id": "50d54889107a4e1bb30ce37e0e10b8ad",
       "version_major": 2,
       "version_minor": 0
      },
      "text/plain": [
       "HBox(children=(IntProgress(value=0, max=22), HTML(value='')))"
      ]
     },
     "metadata": {},
     "output_type": "display_data"
    },
    {
     "name": "stdout",
     "output_type": "stream",
     "text": [
      "\n",
      "Изначальный текст  6  Предсказание  8\n",
      "Lemmatizing sentences\n"
     ]
    },
    {
     "data": {
      "application/vnd.jupyter.widget-view+json": {
       "model_id": "2e7e8ad1cd9543f6bf8750fe11353eb8",
       "version_major": 2,
       "version_minor": 0
      },
      "text/plain": [
       "HBox(children=(IntProgress(value=0, max=23), HTML(value='')))"
      ]
     },
     "metadata": {},
     "output_type": "display_data"
    },
    {
     "name": "stdout",
     "output_type": "stream",
     "text": [
      "\n",
      "Изначальный текст  5  Предсказание  7\n",
      "Lemmatizing sentences\n"
     ]
    },
    {
     "data": {
      "application/vnd.jupyter.widget-view+json": {
       "model_id": "f3ab2e1bd3714c17a45e3bbb7da9d6cf",
       "version_major": 2,
       "version_minor": 0
      },
      "text/plain": [
       "HBox(children=(IntProgress(value=0, max=27), HTML(value='')))"
      ]
     },
     "metadata": {},
     "output_type": "display_data"
    },
    {
     "name": "stdout",
     "output_type": "stream",
     "text": [
      "\n",
      "Изначальный текст  5  Предсказание  7\n",
      "Lemmatizing sentences\n"
     ]
    },
    {
     "data": {
      "application/vnd.jupyter.widget-view+json": {
       "model_id": "35285ec5f44442228d9865118af503fb",
       "version_major": 2,
       "version_minor": 0
      },
      "text/plain": [
       "HBox(children=(IntProgress(value=0, max=20), HTML(value='')))"
      ]
     },
     "metadata": {},
     "output_type": "display_data"
    },
    {
     "name": "stdout",
     "output_type": "stream",
     "text": [
      "\n",
      "Изначальный текст  4  Предсказание  2\n",
      "Lemmatizing sentences\n"
     ]
    },
    {
     "data": {
      "application/vnd.jupyter.widget-view+json": {
       "model_id": "04c6e07e5924489b98dc58e276999d82",
       "version_major": 2,
       "version_minor": 0
      },
      "text/plain": [
       "HBox(children=(IntProgress(value=0, max=20), HTML(value='')))"
      ]
     },
     "metadata": {},
     "output_type": "display_data"
    },
    {
     "name": "stdout",
     "output_type": "stream",
     "text": [
      "\n",
      "Изначальный текст  5  Предсказание  5\n",
      "Lemmatizing sentences\n"
     ]
    },
    {
     "data": {
      "application/vnd.jupyter.widget-view+json": {
       "model_id": "9bac234f4b944abcba1cbd7d8cbfc7b7",
       "version_major": 2,
       "version_minor": 0
      },
      "text/plain": [
       "HBox(children=(IntProgress(value=0, max=18), HTML(value='')))"
      ]
     },
     "metadata": {},
     "output_type": "display_data"
    },
    {
     "name": "stdout",
     "output_type": "stream",
     "text": [
      "\n",
      "Изначальный текст  5  Предсказание  5\n"
     ]
    }
   ],
   "source": [
    "results_1 = []\n",
    "real = []\n",
    "pred = []\n",
    "for text in files[1:8]:\n",
    "    sents, real_paragraphs, pred_segment_indices, pred_paragraphs = f.segmentize_bipartite_subgraphs('./texts/exam/' + text, \n",
    "                                                    model=model,\n",
    "                                                    tau=3)\n",
    "    gold_idx = f.gold_segment_indices(real_paragraphs)\n",
    "    k = round(0.5*len(sents)/len(real_paragraphs))\n",
    "    results_1.append(f.evaluate(gold_idx, pred_segment_indices, k))\n",
    "    print('Изначальный текст ', len(real_paragraphs), ' Предсказание ', len(pred_paragraphs) )\n",
    "    real.append(real_paragraphs)\n",
    "    pred.append(pred_paragraphs)"
   ]
  },
  {
   "cell_type": "code",
   "execution_count": 105,
   "metadata": {},
   "outputs": [
    {
     "data": {
      "text/html": [
       "<div>\n",
       "<style scoped>\n",
       "    .dataframe tbody tr th:only-of-type {\n",
       "        vertical-align: middle;\n",
       "    }\n",
       "\n",
       "    .dataframe tbody tr th {\n",
       "        vertical-align: top;\n",
       "    }\n",
       "\n",
       "    .dataframe thead th {\n",
       "        text-align: right;\n",
       "    }\n",
       "</style>\n",
       "<table border=\"1\" class=\"dataframe\">\n",
       "  <thead>\n",
       "    <tr style=\"text-align: right;\">\n",
       "      <th></th>\n",
       "      <th>pk</th>\n",
       "      <th>windowdiff</th>\n",
       "    </tr>\n",
       "  </thead>\n",
       "  <tbody>\n",
       "    <tr>\n",
       "      <td>0</td>\n",
       "      <td>0.347826</td>\n",
       "      <td>0.391304</td>\n",
       "    </tr>\n",
       "    <tr>\n",
       "      <td>1</td>\n",
       "      <td>0.571429</td>\n",
       "      <td>0.571429</td>\n",
       "    </tr>\n",
       "    <tr>\n",
       "      <td>2</td>\n",
       "      <td>0.363636</td>\n",
       "      <td>0.363636</td>\n",
       "    </tr>\n",
       "    <tr>\n",
       "      <td>3</td>\n",
       "      <td>0.360000</td>\n",
       "      <td>0.480000</td>\n",
       "    </tr>\n",
       "    <tr>\n",
       "      <td>4</td>\n",
       "      <td>0.263158</td>\n",
       "      <td>0.263158</td>\n",
       "    </tr>\n",
       "    <tr>\n",
       "      <td>5</td>\n",
       "      <td>0.421053</td>\n",
       "      <td>0.526316</td>\n",
       "    </tr>\n",
       "    <tr>\n",
       "      <td>6</td>\n",
       "      <td>0.588235</td>\n",
       "      <td>0.647059</td>\n",
       "    </tr>\n",
       "  </tbody>\n",
       "</table>\n",
       "</div>"
      ],
      "text/plain": [
       "         pk  windowdiff\n",
       "0  0.347826    0.391304\n",
       "1  0.571429    0.571429\n",
       "2  0.363636    0.363636\n",
       "3  0.360000    0.480000\n",
       "4  0.263158    0.263158\n",
       "5  0.421053    0.526316\n",
       "6  0.588235    0.647059"
      ]
     },
     "execution_count": 105,
     "metadata": {},
     "output_type": "execute_result"
    }
   ],
   "source": [
    "pd.DataFrame(index=range(7), \n",
    "             data=[results_1[0].values(), results_1[1].values(), results_1[2].values(), \n",
    "                   results_1[3].values(), results_1[4].values(), results_1[5].values(), results_1[6].values()],\n",
    "            columns=results_1[0].keys())"
   ]
  },
  {
   "cell_type": "markdown",
   "metadata": {},
   "source": [
    "## Train ЕГЭ Tau = 2.5 (в основном меньше)"
   ]
  },
  {
   "cell_type": "code",
   "execution_count": 106,
   "metadata": {},
   "outputs": [
    {
     "name": "stdout",
     "output_type": "stream",
     "text": [
      "Lemmatizing sentences\n"
     ]
    },
    {
     "data": {
      "application/vnd.jupyter.widget-view+json": {
       "model_id": "30ef3e78af9644918f2ee9f9e60393f4",
       "version_major": 2,
       "version_minor": 0
      },
      "text/plain": [
       "HBox(children=(IntProgress(value=0, max=24), HTML(value='')))"
      ]
     },
     "metadata": {},
     "output_type": "display_data"
    },
    {
     "name": "stdout",
     "output_type": "stream",
     "text": [
      "\n",
      "Изначальный текст  5  Предсказание  7\n",
      "Lemmatizing sentences\n"
     ]
    },
    {
     "data": {
      "application/vnd.jupyter.widget-view+json": {
       "model_id": "17f2a6cff4d44e669ad3763036cbf2d1",
       "version_major": 2,
       "version_minor": 0
      },
      "text/plain": [
       "HBox(children=(IntProgress(value=0, max=22), HTML(value='')))"
      ]
     },
     "metadata": {},
     "output_type": "display_data"
    },
    {
     "name": "stdout",
     "output_type": "stream",
     "text": [
      "\n",
      "Изначальный текст  6  Предсказание  3\n",
      "Lemmatizing sentences\n"
     ]
    },
    {
     "data": {
      "application/vnd.jupyter.widget-view+json": {
       "model_id": "3d1601b5f3db49f58d425c43d2e29086",
       "version_major": 2,
       "version_minor": 0
      },
      "text/plain": [
       "HBox(children=(IntProgress(value=0, max=23), HTML(value='')))"
      ]
     },
     "metadata": {},
     "output_type": "display_data"
    },
    {
     "name": "stdout",
     "output_type": "stream",
     "text": [
      "\n",
      "Изначальный текст  5  Предсказание  4\n",
      "Lemmatizing sentences\n"
     ]
    },
    {
     "data": {
      "application/vnd.jupyter.widget-view+json": {
       "model_id": "d07d48f03c4c4235a2b024371d8837d6",
       "version_major": 2,
       "version_minor": 0
      },
      "text/plain": [
       "HBox(children=(IntProgress(value=0, max=27), HTML(value='')))"
      ]
     },
     "metadata": {},
     "output_type": "display_data"
    },
    {
     "name": "stdout",
     "output_type": "stream",
     "text": [
      "\n",
      "Изначальный текст  5  Предсказание  4\n",
      "Lemmatizing sentences\n"
     ]
    },
    {
     "data": {
      "application/vnd.jupyter.widget-view+json": {
       "model_id": "1110aabe9f8443f6be620d5fe3999112",
       "version_major": 2,
       "version_minor": 0
      },
      "text/plain": [
       "HBox(children=(IntProgress(value=0, max=20), HTML(value='')))"
      ]
     },
     "metadata": {},
     "output_type": "display_data"
    },
    {
     "name": "stdout",
     "output_type": "stream",
     "text": [
      "\n",
      "Изначальный текст  4  Предсказание  2\n",
      "Lemmatizing sentences\n"
     ]
    },
    {
     "data": {
      "application/vnd.jupyter.widget-view+json": {
       "model_id": "c089f259de034c879643364b582b059a",
       "version_major": 2,
       "version_minor": 0
      },
      "text/plain": [
       "HBox(children=(IntProgress(value=0, max=20), HTML(value='')))"
      ]
     },
     "metadata": {},
     "output_type": "display_data"
    },
    {
     "name": "stdout",
     "output_type": "stream",
     "text": [
      "\n",
      "Изначальный текст  5  Предсказание  4\n",
      "Lemmatizing sentences\n"
     ]
    },
    {
     "data": {
      "application/vnd.jupyter.widget-view+json": {
       "model_id": "4a5b410508ce4fd195fe8542b3e38bf9",
       "version_major": 2,
       "version_minor": 0
      },
      "text/plain": [
       "HBox(children=(IntProgress(value=0, max=18), HTML(value='')))"
      ]
     },
     "metadata": {},
     "output_type": "display_data"
    },
    {
     "name": "stdout",
     "output_type": "stream",
     "text": [
      "\n",
      "Изначальный текст  5  Предсказание  3\n"
     ]
    }
   ],
   "source": [
    "results_22 = []\n",
    "real = []\n",
    "pred = []\n",
    "for text in files[1:8]:\n",
    "    sents, real_paragraphs, pred_segment_indices, pred_paragraphs = f.segmentize_bipartite_subgraphs('./texts/exam/' + text, \n",
    "                                                    model=model,\n",
    "                                                    tau=2.5)\n",
    "    gold_idx = f.gold_segment_indices(real_paragraphs)\n",
    "    k = round(0.5*len(sents)/len(real_paragraphs))\n",
    "    results_22.append(f.evaluate(gold_idx, pred_segment_indices, k))\n",
    "    print('Изначальный текст ', len(real_paragraphs), ' Предсказание ', len(pred_paragraphs) )\n",
    "    real.append(real_paragraphs)\n",
    "    pred.append(pred_paragraphs)"
   ]
  },
  {
   "cell_type": "code",
   "execution_count": 107,
   "metadata": {},
   "outputs": [
    {
     "data": {
      "text/html": [
       "<div>\n",
       "<style scoped>\n",
       "    .dataframe tbody tr th:only-of-type {\n",
       "        vertical-align: middle;\n",
       "    }\n",
       "\n",
       "    .dataframe tbody tr th {\n",
       "        vertical-align: top;\n",
       "    }\n",
       "\n",
       "    .dataframe thead th {\n",
       "        text-align: right;\n",
       "    }\n",
       "</style>\n",
       "<table border=\"1\" class=\"dataframe\">\n",
       "  <thead>\n",
       "    <tr style=\"text-align: right;\">\n",
       "      <th></th>\n",
       "      <th>pk</th>\n",
       "      <th>windowdiff</th>\n",
       "    </tr>\n",
       "  </thead>\n",
       "  <tbody>\n",
       "    <tr>\n",
       "      <td>0</td>\n",
       "      <td>0.434783</td>\n",
       "      <td>0.478261</td>\n",
       "    </tr>\n",
       "    <tr>\n",
       "      <td>1</td>\n",
       "      <td>0.380952</td>\n",
       "      <td>0.380952</td>\n",
       "    </tr>\n",
       "    <tr>\n",
       "      <td>2</td>\n",
       "      <td>0.454545</td>\n",
       "      <td>0.500000</td>\n",
       "    </tr>\n",
       "    <tr>\n",
       "      <td>3</td>\n",
       "      <td>0.320000</td>\n",
       "      <td>0.440000</td>\n",
       "    </tr>\n",
       "    <tr>\n",
       "      <td>4</td>\n",
       "      <td>0.263158</td>\n",
       "      <td>0.263158</td>\n",
       "    </tr>\n",
       "    <tr>\n",
       "      <td>5</td>\n",
       "      <td>0.526316</td>\n",
       "      <td>0.578947</td>\n",
       "    </tr>\n",
       "    <tr>\n",
       "      <td>6</td>\n",
       "      <td>0.588235</td>\n",
       "      <td>0.647059</td>\n",
       "    </tr>\n",
       "  </tbody>\n",
       "</table>\n",
       "</div>"
      ],
      "text/plain": [
       "         pk  windowdiff\n",
       "0  0.434783    0.478261\n",
       "1  0.380952    0.380952\n",
       "2  0.454545    0.500000\n",
       "3  0.320000    0.440000\n",
       "4  0.263158    0.263158\n",
       "5  0.526316    0.578947\n",
       "6  0.588235    0.647059"
      ]
     },
     "execution_count": 107,
     "metadata": {},
     "output_type": "execute_result"
    }
   ],
   "source": [
    "pd.DataFrame(index=range(7), \n",
    "             data=[results_22[0].values(), results_22[1].values(), results_22[2].values(), \n",
    "                   results_22[3].values(), results_22[4].values(), results_22[5].values(), results_22[6].values()],\n",
    "            columns=results_22[0].keys())"
   ]
  },
  {
   "cell_type": "markdown",
   "metadata": {},
   "source": [
    "## Train ЕГЭ Tau = 2 (1 или 2 абзаца вместо 5, укрупняет - плохо)"
   ]
  },
  {
   "cell_type": "code",
   "execution_count": 108,
   "metadata": {},
   "outputs": [
    {
     "name": "stdout",
     "output_type": "stream",
     "text": [
      "Lemmatizing sentences\n"
     ]
    },
    {
     "data": {
      "application/vnd.jupyter.widget-view+json": {
       "model_id": "4a6cd0c45bcf40b591c43a75ec2e3adf",
       "version_major": 2,
       "version_minor": 0
      },
      "text/plain": [
       "HBox(children=(IntProgress(value=0, max=24), HTML(value='')))"
      ]
     },
     "metadata": {},
     "output_type": "display_data"
    },
    {
     "name": "stdout",
     "output_type": "stream",
     "text": [
      "\n",
      "Изначальный текст  5  Предсказание  2\n",
      "Lemmatizing sentences\n"
     ]
    },
    {
     "data": {
      "application/vnd.jupyter.widget-view+json": {
       "model_id": "df03222bdd034afd945028883c3e7fe7",
       "version_major": 2,
       "version_minor": 0
      },
      "text/plain": [
       "HBox(children=(IntProgress(value=0, max=22), HTML(value='')))"
      ]
     },
     "metadata": {},
     "output_type": "display_data"
    },
    {
     "name": "stdout",
     "output_type": "stream",
     "text": [
      "\n",
      "Изначальный текст  6  Предсказание  2\n",
      "Lemmatizing sentences\n"
     ]
    },
    {
     "data": {
      "application/vnd.jupyter.widget-view+json": {
       "model_id": "54141f40b4c94c3d9b5cc6809450d4f2",
       "version_major": 2,
       "version_minor": 0
      },
      "text/plain": [
       "HBox(children=(IntProgress(value=0, max=23), HTML(value='')))"
      ]
     },
     "metadata": {},
     "output_type": "display_data"
    },
    {
     "name": "stdout",
     "output_type": "stream",
     "text": [
      "\n",
      "Изначальный текст  5  Предсказание  1\n",
      "Lemmatizing sentences\n"
     ]
    },
    {
     "data": {
      "application/vnd.jupyter.widget-view+json": {
       "model_id": "f837d85e39ab46558e6307f21aeca9d3",
       "version_major": 2,
       "version_minor": 0
      },
      "text/plain": [
       "HBox(children=(IntProgress(value=0, max=27), HTML(value='')))"
      ]
     },
     "metadata": {},
     "output_type": "display_data"
    },
    {
     "name": "stdout",
     "output_type": "stream",
     "text": [
      "\n",
      "Изначальный текст  5  Предсказание  3\n",
      "Lemmatizing sentences\n"
     ]
    },
    {
     "data": {
      "application/vnd.jupyter.widget-view+json": {
       "model_id": "b1e337427e354280bd7269677ec9a40d",
       "version_major": 2,
       "version_minor": 0
      },
      "text/plain": [
       "HBox(children=(IntProgress(value=0, max=20), HTML(value='')))"
      ]
     },
     "metadata": {},
     "output_type": "display_data"
    },
    {
     "name": "stdout",
     "output_type": "stream",
     "text": [
      "\n",
      "Изначальный текст  4  Предсказание  1\n",
      "Lemmatizing sentences\n"
     ]
    },
    {
     "data": {
      "application/vnd.jupyter.widget-view+json": {
       "model_id": "0cc4125d337e49bc8b7d73402fbd48c5",
       "version_major": 2,
       "version_minor": 0
      },
      "text/plain": [
       "HBox(children=(IntProgress(value=0, max=20), HTML(value='')))"
      ]
     },
     "metadata": {},
     "output_type": "display_data"
    },
    {
     "name": "stdout",
     "output_type": "stream",
     "text": [
      "\n",
      "Изначальный текст  5  Предсказание  4\n",
      "Lemmatizing sentences\n"
     ]
    },
    {
     "data": {
      "application/vnd.jupyter.widget-view+json": {
       "model_id": "bef6047ffab446f2907d3244ba7371c6",
       "version_major": 2,
       "version_minor": 0
      },
      "text/plain": [
       "HBox(children=(IntProgress(value=0, max=18), HTML(value='')))"
      ]
     },
     "metadata": {},
     "output_type": "display_data"
    },
    {
     "name": "stdout",
     "output_type": "stream",
     "text": [
      "\n",
      "Изначальный текст  5  Предсказание  1\n"
     ]
    }
   ],
   "source": [
    "results_2 = []\n",
    "real = []\n",
    "pred = []\n",
    "for text in files[1:8]:\n",
    "    sents, real_paragraphs, pred_segment_indices, pred_paragraphs = f.segmentize_bipartite_subgraphs('./texts/exam/' + text, \n",
    "                                                    model=model,\n",
    "                                                    tau=2)\n",
    "    gold_idx = f.gold_segment_indices(real_paragraphs)\n",
    "    k = round(0.5*len(sents)/len(real_paragraphs))\n",
    "    results_2.append(f.evaluate(gold_idx, pred_segment_indices, k))\n",
    "    print('Изначальный текст ', len(real_paragraphs), ' Предсказание ', len(pred_paragraphs) )\n",
    "    real.append(real_paragraphs)\n",
    "    pred.append(pred_paragraphs)"
   ]
  },
  {
   "cell_type": "code",
   "execution_count": 109,
   "metadata": {},
   "outputs": [
    {
     "data": {
      "text/html": [
       "<div>\n",
       "<style scoped>\n",
       "    .dataframe tbody tr th:only-of-type {\n",
       "        vertical-align: middle;\n",
       "    }\n",
       "\n",
       "    .dataframe tbody tr th {\n",
       "        vertical-align: top;\n",
       "    }\n",
       "\n",
       "    .dataframe thead th {\n",
       "        text-align: right;\n",
       "    }\n",
       "</style>\n",
       "<table border=\"1\" class=\"dataframe\">\n",
       "  <thead>\n",
       "    <tr style=\"text-align: right;\">\n",
       "      <th></th>\n",
       "      <th>pk</th>\n",
       "      <th>windowdiff</th>\n",
       "    </tr>\n",
       "  </thead>\n",
       "  <tbody>\n",
       "    <tr>\n",
       "      <td>0</td>\n",
       "      <td>0.347826</td>\n",
       "      <td>0.391304</td>\n",
       "    </tr>\n",
       "    <tr>\n",
       "      <td>1</td>\n",
       "      <td>0.285714</td>\n",
       "      <td>0.285714</td>\n",
       "    </tr>\n",
       "    <tr>\n",
       "      <td>2</td>\n",
       "      <td>0.318182</td>\n",
       "      <td>0.363636</td>\n",
       "    </tr>\n",
       "    <tr>\n",
       "      <td>3</td>\n",
       "      <td>0.200000</td>\n",
       "      <td>0.320000</td>\n",
       "    </tr>\n",
       "    <tr>\n",
       "      <td>4</td>\n",
       "      <td>0.263158</td>\n",
       "      <td>0.263158</td>\n",
       "    </tr>\n",
       "    <tr>\n",
       "      <td>5</td>\n",
       "      <td>0.526316</td>\n",
       "      <td>0.578947</td>\n",
       "    </tr>\n",
       "    <tr>\n",
       "      <td>6</td>\n",
       "      <td>0.352941</td>\n",
       "      <td>0.411765</td>\n",
       "    </tr>\n",
       "  </tbody>\n",
       "</table>\n",
       "</div>"
      ],
      "text/plain": [
       "         pk  windowdiff\n",
       "0  0.347826    0.391304\n",
       "1  0.285714    0.285714\n",
       "2  0.318182    0.363636\n",
       "3  0.200000    0.320000\n",
       "4  0.263158    0.263158\n",
       "5  0.526316    0.578947\n",
       "6  0.352941    0.411765"
      ]
     },
     "execution_count": 109,
     "metadata": {},
     "output_type": "execute_result"
    }
   ],
   "source": [
    "pd.DataFrame(index=range(7), \n",
    "             data=[results_2[0].values(), results_2[1].values(), results_2[2].values(), \n",
    "                   results_2[3].values(), results_2[4].values(), results_2[5].values(), results_2[6].values()],\n",
    "            columns=results_2[0].keys())"
   ]
  },
  {
   "cell_type": "markdown",
   "metadata": {},
   "source": [
    "## Train ЕГЭ Tau = 1 (плохо - все в один слепляет)"
   ]
  },
  {
   "cell_type": "code",
   "execution_count": 110,
   "metadata": {},
   "outputs": [
    {
     "name": "stdout",
     "output_type": "stream",
     "text": [
      "Lemmatizing sentences\n"
     ]
    },
    {
     "data": {
      "application/vnd.jupyter.widget-view+json": {
       "model_id": "bd5051481e41442486fefcbf0c816106",
       "version_major": 2,
       "version_minor": 0
      },
      "text/plain": [
       "HBox(children=(IntProgress(value=0, max=24), HTML(value='')))"
      ]
     },
     "metadata": {},
     "output_type": "display_data"
    },
    {
     "name": "stdout",
     "output_type": "stream",
     "text": [
      "\n",
      "Изначальный текст  5  Предсказание  1\n",
      "Lemmatizing sentences\n"
     ]
    },
    {
     "data": {
      "application/vnd.jupyter.widget-view+json": {
       "model_id": "32eee7b366a344de8e4853ed5147d00a",
       "version_major": 2,
       "version_minor": 0
      },
      "text/plain": [
       "HBox(children=(IntProgress(value=0, max=22), HTML(value='')))"
      ]
     },
     "metadata": {},
     "output_type": "display_data"
    },
    {
     "name": "stdout",
     "output_type": "stream",
     "text": [
      "\n",
      "Изначальный текст  6  Предсказание  1\n",
      "Lemmatizing sentences\n"
     ]
    },
    {
     "data": {
      "application/vnd.jupyter.widget-view+json": {
       "model_id": "ca6c3ccb4b344bce8820444b48df911c",
       "version_major": 2,
       "version_minor": 0
      },
      "text/plain": [
       "HBox(children=(IntProgress(value=0, max=23), HTML(value='')))"
      ]
     },
     "metadata": {},
     "output_type": "display_data"
    },
    {
     "name": "stdout",
     "output_type": "stream",
     "text": [
      "\n",
      "Изначальный текст  5  Предсказание  1\n",
      "Lemmatizing sentences\n"
     ]
    },
    {
     "data": {
      "application/vnd.jupyter.widget-view+json": {
       "model_id": "a4183be9fd5b4696b8ee6b0837ac1040",
       "version_major": 2,
       "version_minor": 0
      },
      "text/plain": [
       "HBox(children=(IntProgress(value=0, max=27), HTML(value='')))"
      ]
     },
     "metadata": {},
     "output_type": "display_data"
    },
    {
     "name": "stdout",
     "output_type": "stream",
     "text": [
      "\n",
      "Изначальный текст  5  Предсказание  1\n",
      "Lemmatizing sentences\n"
     ]
    },
    {
     "data": {
      "application/vnd.jupyter.widget-view+json": {
       "model_id": "de4ed496e584417389274391def48240",
       "version_major": 2,
       "version_minor": 0
      },
      "text/plain": [
       "HBox(children=(IntProgress(value=0, max=20), HTML(value='')))"
      ]
     },
     "metadata": {},
     "output_type": "display_data"
    },
    {
     "name": "stdout",
     "output_type": "stream",
     "text": [
      "\n",
      "Изначальный текст  4  Предсказание  1\n",
      "Lemmatizing sentences\n"
     ]
    },
    {
     "data": {
      "application/vnd.jupyter.widget-view+json": {
       "model_id": "304ca3cab7a149cd8a555f6f1594e1f2",
       "version_major": 2,
       "version_minor": 0
      },
      "text/plain": [
       "HBox(children=(IntProgress(value=0, max=20), HTML(value='')))"
      ]
     },
     "metadata": {},
     "output_type": "display_data"
    },
    {
     "name": "stdout",
     "output_type": "stream",
     "text": [
      "\n",
      "Изначальный текст  5  Предсказание  1\n",
      "Lemmatizing sentences\n"
     ]
    },
    {
     "data": {
      "application/vnd.jupyter.widget-view+json": {
       "model_id": "80e667013dde42418da789faa1a02095",
       "version_major": 2,
       "version_minor": 0
      },
      "text/plain": [
       "HBox(children=(IntProgress(value=0, max=18), HTML(value='')))"
      ]
     },
     "metadata": {},
     "output_type": "display_data"
    },
    {
     "name": "stdout",
     "output_type": "stream",
     "text": [
      "\n",
      "Изначальный текст  5  Предсказание  1\n"
     ]
    }
   ],
   "source": [
    "results_3 = []\n",
    "real = []\n",
    "pred = []\n",
    "for text in files[1:8]:\n",
    "    sents, real_paragraphs, pred_segment_indices, pred_paragraphs = f.segmentize_bipartite_subgraphs('./texts/exam/' + text, \n",
    "                                                    model=model,\n",
    "                                                    tau=1)\n",
    "    gold_idx = f.gold_segment_indices(real_paragraphs)\n",
    "    k = round(0.5*len(sents)/len(real_paragraphs))\n",
    "    print('Изначальный текст ', len(real_paragraphs), ' Предсказание ', len(pred_paragraphs) )\n",
    "    results_3.append(f.evaluate(gold_idx, pred_segment_indices, k))\n",
    "    real.append(real_paragraphs)\n",
    "    pred.append(pred_paragraphs)"
   ]
  },
  {
   "cell_type": "code",
   "execution_count": 112,
   "metadata": {},
   "outputs": [
    {
     "data": {
      "text/html": [
       "<div>\n",
       "<style scoped>\n",
       "    .dataframe tbody tr th:only-of-type {\n",
       "        vertical-align: middle;\n",
       "    }\n",
       "\n",
       "    .dataframe tbody tr th {\n",
       "        vertical-align: top;\n",
       "    }\n",
       "\n",
       "    .dataframe thead th {\n",
       "        text-align: right;\n",
       "    }\n",
       "</style>\n",
       "<table border=\"1\" class=\"dataframe\">\n",
       "  <thead>\n",
       "    <tr style=\"text-align: right;\">\n",
       "      <th></th>\n",
       "      <th>pk</th>\n",
       "      <th>windowdiff</th>\n",
       "    </tr>\n",
       "  </thead>\n",
       "  <tbody>\n",
       "    <tr>\n",
       "      <td>0</td>\n",
       "      <td>0.260870</td>\n",
       "      <td>0.304348</td>\n",
       "    </tr>\n",
       "    <tr>\n",
       "      <td>1</td>\n",
       "      <td>0.333333</td>\n",
       "      <td>0.380952</td>\n",
       "    </tr>\n",
       "    <tr>\n",
       "      <td>2</td>\n",
       "      <td>0.318182</td>\n",
       "      <td>0.363636</td>\n",
       "    </tr>\n",
       "    <tr>\n",
       "      <td>3</td>\n",
       "      <td>0.280000</td>\n",
       "      <td>0.320000</td>\n",
       "    </tr>\n",
       "    <tr>\n",
       "      <td>4</td>\n",
       "      <td>0.263158</td>\n",
       "      <td>0.263158</td>\n",
       "    </tr>\n",
       "    <tr>\n",
       "      <td>5</td>\n",
       "      <td>0.315789</td>\n",
       "      <td>0.368421</td>\n",
       "    </tr>\n",
       "    <tr>\n",
       "      <td>6</td>\n",
       "      <td>0.352941</td>\n",
       "      <td>0.411765</td>\n",
       "    </tr>\n",
       "  </tbody>\n",
       "</table>\n",
       "</div>"
      ],
      "text/plain": [
       "         pk  windowdiff\n",
       "0  0.260870    0.304348\n",
       "1  0.333333    0.380952\n",
       "2  0.318182    0.363636\n",
       "3  0.280000    0.320000\n",
       "4  0.263158    0.263158\n",
       "5  0.315789    0.368421\n",
       "6  0.352941    0.411765"
      ]
     },
     "execution_count": 112,
     "metadata": {},
     "output_type": "execute_result"
    }
   ],
   "source": [
    "pd.DataFrame(index=range(7), \n",
    "             data=[results_3[0].values(), results_3[1].values(), results_3[2].values(), \n",
    "                   results_3[3].values(), results_3[4].values(), results_3[5].values(), results_3[6].values()],\n",
    "            columns=results_3[0].keys())"
   ]
  },
  {
   "cell_type": "markdown",
   "metadata": {},
   "source": [
    "## Было хорошо с 3, но хуже с 2.5. Пробуем 2.75"
   ]
  },
  {
   "cell_type": "code",
   "execution_count": 113,
   "metadata": {},
   "outputs": [
    {
     "name": "stdout",
     "output_type": "stream",
     "text": [
      "Lemmatizing sentences\n"
     ]
    },
    {
     "data": {
      "application/vnd.jupyter.widget-view+json": {
       "model_id": "648b81de6e4b4607a33d2bd67231a8ab",
       "version_major": 2,
       "version_minor": 0
      },
      "text/plain": [
       "HBox(children=(IntProgress(value=0, max=24), HTML(value='')))"
      ]
     },
     "metadata": {},
     "output_type": "display_data"
    },
    {
     "name": "stdout",
     "output_type": "stream",
     "text": [
      "\n",
      "Изначальный текст  5  Предсказание  7\n",
      "Lemmatizing sentences\n"
     ]
    },
    {
     "data": {
      "application/vnd.jupyter.widget-view+json": {
       "model_id": "718a038ec1d04120aacf5423e3e301ef",
       "version_major": 2,
       "version_minor": 0
      },
      "text/plain": [
       "HBox(children=(IntProgress(value=0, max=22), HTML(value='')))"
      ]
     },
     "metadata": {},
     "output_type": "display_data"
    },
    {
     "name": "stdout",
     "output_type": "stream",
     "text": [
      "\n",
      "Изначальный текст  6  Предсказание  5\n",
      "Lemmatizing sentences\n"
     ]
    },
    {
     "data": {
      "application/vnd.jupyter.widget-view+json": {
       "model_id": "964247567ef34f738cb8438c2b4c6b9a",
       "version_major": 2,
       "version_minor": 0
      },
      "text/plain": [
       "HBox(children=(IntProgress(value=0, max=23), HTML(value='')))"
      ]
     },
     "metadata": {},
     "output_type": "display_data"
    },
    {
     "name": "stdout",
     "output_type": "stream",
     "text": [
      "\n",
      "Изначальный текст  5  Предсказание  5\n",
      "Lemmatizing sentences\n"
     ]
    },
    {
     "data": {
      "application/vnd.jupyter.widget-view+json": {
       "model_id": "0c5293af587947cd9b81bd1ddf8f3938",
       "version_major": 2,
       "version_minor": 0
      },
      "text/plain": [
       "HBox(children=(IntProgress(value=0, max=27), HTML(value='')))"
      ]
     },
     "metadata": {},
     "output_type": "display_data"
    },
    {
     "name": "stdout",
     "output_type": "stream",
     "text": [
      "\n",
      "Изначальный текст  5  Предсказание  6\n",
      "Lemmatizing sentences\n"
     ]
    },
    {
     "data": {
      "application/vnd.jupyter.widget-view+json": {
       "model_id": "11a0941943f64527b31593bbd3943b0e",
       "version_major": 2,
       "version_minor": 0
      },
      "text/plain": [
       "HBox(children=(IntProgress(value=0, max=20), HTML(value='')))"
      ]
     },
     "metadata": {},
     "output_type": "display_data"
    },
    {
     "name": "stdout",
     "output_type": "stream",
     "text": [
      "\n",
      "Изначальный текст  4  Предсказание  2\n",
      "Lemmatizing sentences\n"
     ]
    },
    {
     "data": {
      "application/vnd.jupyter.widget-view+json": {
       "model_id": "80131845f0ab4948b8650e458748ccbf",
       "version_major": 2,
       "version_minor": 0
      },
      "text/plain": [
       "HBox(children=(IntProgress(value=0, max=20), HTML(value='')))"
      ]
     },
     "metadata": {},
     "output_type": "display_data"
    },
    {
     "name": "stdout",
     "output_type": "stream",
     "text": [
      "\n",
      "Изначальный текст  5  Предсказание  5\n",
      "Lemmatizing sentences\n"
     ]
    },
    {
     "data": {
      "application/vnd.jupyter.widget-view+json": {
       "model_id": "da6ac6898161403eb3b00c7571e545be",
       "version_major": 2,
       "version_minor": 0
      },
      "text/plain": [
       "HBox(children=(IntProgress(value=0, max=18), HTML(value='')))"
      ]
     },
     "metadata": {},
     "output_type": "display_data"
    },
    {
     "name": "stdout",
     "output_type": "stream",
     "text": [
      "\n",
      "Изначальный текст  5  Предсказание  5\n"
     ]
    }
   ],
   "source": [
    "results_4 = []\n",
    "for text in files[1:8]:\n",
    "    sents, real_paragraphs, pred_segment_indices, pred_paragraphs = f.segmentize_bipartite_subgraphs('./texts/exam/' + text, \n",
    "                                                    model=model,\n",
    "                                                    tau=2.75)\n",
    "    gold_idx = f.gold_segment_indices(real_paragraphs)\n",
    "    k = round(0.5*len(sents)/len(real_paragraphs))\n",
    "    print('Изначальный текст ', len(real_paragraphs), ' Предсказание ', len(pred_paragraphs) )\n",
    "    results_4.append(f.evaluate(gold_idx, pred_segment_indices, k))"
   ]
  },
  {
   "cell_type": "code",
   "execution_count": 114,
   "metadata": {},
   "outputs": [
    {
     "data": {
      "text/html": [
       "<div>\n",
       "<style scoped>\n",
       "    .dataframe tbody tr th:only-of-type {\n",
       "        vertical-align: middle;\n",
       "    }\n",
       "\n",
       "    .dataframe tbody tr th {\n",
       "        vertical-align: top;\n",
       "    }\n",
       "\n",
       "    .dataframe thead th {\n",
       "        text-align: right;\n",
       "    }\n",
       "</style>\n",
       "<table border=\"1\" class=\"dataframe\">\n",
       "  <thead>\n",
       "    <tr style=\"text-align: right;\">\n",
       "      <th></th>\n",
       "      <th>pk</th>\n",
       "      <th>windowdiff</th>\n",
       "    </tr>\n",
       "  </thead>\n",
       "  <tbody>\n",
       "    <tr>\n",
       "      <td>0</td>\n",
       "      <td>0.434783</td>\n",
       "      <td>0.478261</td>\n",
       "    </tr>\n",
       "    <tr>\n",
       "      <td>1</td>\n",
       "      <td>0.476190</td>\n",
       "      <td>0.476190</td>\n",
       "    </tr>\n",
       "    <tr>\n",
       "      <td>2</td>\n",
       "      <td>0.500000</td>\n",
       "      <td>0.545455</td>\n",
       "    </tr>\n",
       "    <tr>\n",
       "      <td>3</td>\n",
       "      <td>0.320000</td>\n",
       "      <td>0.440000</td>\n",
       "    </tr>\n",
       "    <tr>\n",
       "      <td>4</td>\n",
       "      <td>0.263158</td>\n",
       "      <td>0.263158</td>\n",
       "    </tr>\n",
       "    <tr>\n",
       "      <td>5</td>\n",
       "      <td>0.578947</td>\n",
       "      <td>0.631579</td>\n",
       "    </tr>\n",
       "    <tr>\n",
       "      <td>6</td>\n",
       "      <td>0.588235</td>\n",
       "      <td>0.647059</td>\n",
       "    </tr>\n",
       "  </tbody>\n",
       "</table>\n",
       "</div>"
      ],
      "text/plain": [
       "         pk  windowdiff\n",
       "0  0.434783    0.478261\n",
       "1  0.476190    0.476190\n",
       "2  0.500000    0.545455\n",
       "3  0.320000    0.440000\n",
       "4  0.263158    0.263158\n",
       "5  0.578947    0.631579\n",
       "6  0.588235    0.647059"
      ]
     },
     "execution_count": 114,
     "metadata": {},
     "output_type": "execute_result"
    }
   ],
   "source": [
    "pd.DataFrame(index=range(7), \n",
    "             data=[results_4[0].values(), results_4[1].values(), results_4[2].values(), \n",
    "                   results_4[3].values(), results_4[4].values(), results_4[5].values(), results_4[6].values()],\n",
    "            columns=results_4[0].keys())"
   ]
  },
  {
   "cell_type": "markdown",
   "metadata": {},
   "source": [
    "### сравним с метриками для 3"
   ]
  },
  {
   "cell_type": "code",
   "execution_count": 115,
   "metadata": {},
   "outputs": [
    {
     "data": {
      "text/html": [
       "<div>\n",
       "<style scoped>\n",
       "    .dataframe tbody tr th:only-of-type {\n",
       "        vertical-align: middle;\n",
       "    }\n",
       "\n",
       "    .dataframe tbody tr th {\n",
       "        vertical-align: top;\n",
       "    }\n",
       "\n",
       "    .dataframe thead th {\n",
       "        text-align: right;\n",
       "    }\n",
       "</style>\n",
       "<table border=\"1\" class=\"dataframe\">\n",
       "  <thead>\n",
       "    <tr style=\"text-align: right;\">\n",
       "      <th></th>\n",
       "      <th>pk</th>\n",
       "      <th>windowdiff</th>\n",
       "    </tr>\n",
       "  </thead>\n",
       "  <tbody>\n",
       "    <tr>\n",
       "      <td>0</td>\n",
       "      <td>0.347826</td>\n",
       "      <td>0.391304</td>\n",
       "    </tr>\n",
       "    <tr>\n",
       "      <td>1</td>\n",
       "      <td>0.571429</td>\n",
       "      <td>0.571429</td>\n",
       "    </tr>\n",
       "    <tr>\n",
       "      <td>2</td>\n",
       "      <td>0.363636</td>\n",
       "      <td>0.363636</td>\n",
       "    </tr>\n",
       "    <tr>\n",
       "      <td>3</td>\n",
       "      <td>0.360000</td>\n",
       "      <td>0.480000</td>\n",
       "    </tr>\n",
       "    <tr>\n",
       "      <td>4</td>\n",
       "      <td>0.263158</td>\n",
       "      <td>0.263158</td>\n",
       "    </tr>\n",
       "    <tr>\n",
       "      <td>5</td>\n",
       "      <td>0.421053</td>\n",
       "      <td>0.526316</td>\n",
       "    </tr>\n",
       "    <tr>\n",
       "      <td>6</td>\n",
       "      <td>0.588235</td>\n",
       "      <td>0.647059</td>\n",
       "    </tr>\n",
       "  </tbody>\n",
       "</table>\n",
       "</div>"
      ],
      "text/plain": [
       "         pk  windowdiff\n",
       "0  0.347826    0.391304\n",
       "1  0.571429    0.571429\n",
       "2  0.363636    0.363636\n",
       "3  0.360000    0.480000\n",
       "4  0.263158    0.263158\n",
       "5  0.421053    0.526316\n",
       "6  0.588235    0.647059"
      ]
     },
     "execution_count": 115,
     "metadata": {},
     "output_type": "execute_result"
    }
   ],
   "source": [
    "pd.DataFrame(index=range(7), \n",
    "             data=[results_1[0].values(), results_1[1].values(), results_1[2].values(), \n",
    "                   results_1[3].values(), results_1[4].values(), results_1[5].values(), results_1[6].values()],\n",
    "            columns=results_1[0].keys())"
   ]
  },
  {
   "cell_type": "markdown",
   "metadata": {},
   "source": [
    "### Выбираем tau = 3, метрики меньше"
   ]
  },
  {
   "cell_type": "markdown",
   "metadata": {},
   "source": [
    "## TEST ЕГЭ 3 текста, tau = 3"
   ]
  },
  {
   "cell_type": "code",
   "execution_count": 117,
   "metadata": {},
   "outputs": [
    {
     "name": "stdout",
     "output_type": "stream",
     "text": [
      "Lemmatizing sentences\n"
     ]
    },
    {
     "data": {
      "application/vnd.jupyter.widget-view+json": {
       "model_id": "c43a629a005a44e3a6bca886c8fff755",
       "version_major": 2,
       "version_minor": 0
      },
      "text/plain": [
       "HBox(children=(IntProgress(value=0, max=18), HTML(value='')))"
      ]
     },
     "metadata": {},
     "output_type": "display_data"
    },
    {
     "name": "stdout",
     "output_type": "stream",
     "text": [
      "\n",
      "Изначальный текст  5  Предсказание  5\n",
      "Lemmatizing sentences\n"
     ]
    },
    {
     "data": {
      "application/vnd.jupyter.widget-view+json": {
       "model_id": "53594265b8fb4213b23511b841044887",
       "version_major": 2,
       "version_minor": 0
      },
      "text/plain": [
       "HBox(children=(IntProgress(value=0, max=29), HTML(value='')))"
      ]
     },
     "metadata": {},
     "output_type": "display_data"
    },
    {
     "name": "stdout",
     "output_type": "stream",
     "text": [
      "\n",
      "Изначальный текст  5  Предсказание  13\n",
      "Lemmatizing sentences\n"
     ]
    },
    {
     "data": {
      "application/vnd.jupyter.widget-view+json": {
       "model_id": "de7aa048580a4867814fba9f8cac2aa6",
       "version_major": 2,
       "version_minor": 0
      },
      "text/plain": [
       "HBox(children=(IntProgress(value=0, max=25), HTML(value='')))"
      ]
     },
     "metadata": {},
     "output_type": "display_data"
    },
    {
     "name": "stdout",
     "output_type": "stream",
     "text": [
      "\n",
      "Изначальный текст  5  Предсказание  6\n"
     ]
    }
   ],
   "source": [
    "results_7 = []\n",
    "real = []\n",
    "pred = []\n",
    "for text in files[7:10]:\n",
    "    sents, real_paragraphs, pred_segment_indices, pred_paragraphs = f.segmentize_bipartite_subgraphs('./texts/exam/' + text, \n",
    "                                                    model=model,\n",
    "                                                    tau=3)\n",
    "    gold_idx = f.gold_segment_indices(real_paragraphs)\n",
    "    k = round(0.5*len(sents)/len(real_paragraphs))\n",
    "    print('Изначальный текст ', len(real_paragraphs), ' Предсказание ', len(pred_paragraphs) )\n",
    "    results_7.append(f.evaluate(gold_idx, pred_segment_indices, k))\n",
    "    real.append(real_paragraphs)\n",
    "    pred.append(pred_paragraphs)"
   ]
  },
  {
   "cell_type": "code",
   "execution_count": 118,
   "metadata": {},
   "outputs": [
    {
     "data": {
      "text/html": [
       "<div>\n",
       "<style scoped>\n",
       "    .dataframe tbody tr th:only-of-type {\n",
       "        vertical-align: middle;\n",
       "    }\n",
       "\n",
       "    .dataframe tbody tr th {\n",
       "        vertical-align: top;\n",
       "    }\n",
       "\n",
       "    .dataframe thead th {\n",
       "        text-align: right;\n",
       "    }\n",
       "</style>\n",
       "<table border=\"1\" class=\"dataframe\">\n",
       "  <thead>\n",
       "    <tr style=\"text-align: right;\">\n",
       "      <th></th>\n",
       "      <th>pk</th>\n",
       "      <th>windowdiff</th>\n",
       "    </tr>\n",
       "  </thead>\n",
       "  <tbody>\n",
       "    <tr>\n",
       "      <td>0</td>\n",
       "      <td>0.588235</td>\n",
       "      <td>0.647059</td>\n",
       "    </tr>\n",
       "    <tr>\n",
       "      <td>1</td>\n",
       "      <td>0.666667</td>\n",
       "      <td>0.777778</td>\n",
       "    </tr>\n",
       "    <tr>\n",
       "      <td>2</td>\n",
       "      <td>0.416667</td>\n",
       "      <td>0.416667</td>\n",
       "    </tr>\n",
       "  </tbody>\n",
       "</table>\n",
       "</div>"
      ],
      "text/plain": [
       "         pk  windowdiff\n",
       "0  0.588235    0.647059\n",
       "1  0.666667    0.777778\n",
       "2  0.416667    0.416667"
      ]
     },
     "execution_count": 118,
     "metadata": {},
     "output_type": "execute_result"
    }
   ],
   "source": [
    "pd.DataFrame(index=range(3), \n",
    "             data=[results_7[0].values(), results_7[1].values(), results_7[2].values()],\n",
    "            columns=results_7[0].keys())"
   ]
  },
  {
   "cell_type": "code",
   "execution_count": 120,
   "metadata": {},
   "outputs": [
    {
     "name": "stdout",
     "output_type": "stream",
     "text": [
      "[['Что составляет нашу национальную гордость?', 'Какое значение для судьбы страны имеют открытия в разных областях науки и техники?'], ['Этими вопросами задается Константин Паустовский в данном тексте.', 'Отвечая на поставленные вопросы, автор описывает воспоминания из детства , когда герой стал свидетелем первого полета авиатора Уточкина в небо.', 'Тогда в Киеве некоторые плакали при виде полета человека, взлетевшего в небо.'], ['Почему автор вспоминает этот факт?', 'Он считает, что первый полет Уточкина является частью закономерности открытий, которая была выстроена людьми, стремящимися в небо.', 'Паустовский пишет, что поколение людей, живших в двадцатом веке – это счастливое поколение первооткрывателей, почти во всех областях науки и техники.', 'Прежде всего, он говорит о покорении космоса, он считает, что люди совершили «невиданный скачок от этого идиллического андерсеновского полёта до могучих воздушных кораблей и, наконец, порыв, полёт, уход в космос, в те пространства Вселенной, где человек соприкасается с вечностью».', 'И при этом он говорит, что «нам не свойственно хвастовство, но очень свойственна сдержанная вера в своих людей, в гений русского народа и ещё больше — в гений человечества».', 'Получается, что русские люди, пройдя через страдания, переживания, лишения, сделали величайшие открытия, которые теперь являются национальной гордостью всего нашего народа.', 'Поэтому позиция автора данного текста состоит в следующем: нашу национальную гордость составляют величайшие мирные победы в истории человечества, среди которых полёт Юрия Гагарина в космос.', 'Я совершенно согласна с позицией автора.'], ['Русские люди – самые самоотверженные люди в мире.', 'Несмотря на беды, лишения и невзгоды они всегда добиваются поставленных целей.'], ['Многие крупные открытия, такие как полет в космос, изобретение радио, мощной военной техники и другие, сделали русские ученые.', 'Пытливый ум, громадная работоспособность позволили русским ученым совершать мировые открытия, доказать всему миру, что настоящее счастье – это счастье открытий, великого труда во имя будущего, смелость и находчивость.', 'Таким образом, мы постоянно испытываем гордость за наших ученых, способных совершать все новые и новые открытия.']]\n",
      "\n",
      "[['Что составляет нашу национальную гордость?', 'Какое значение для судьбы страны имеют открытия в разных областях науки и техники?', 'Этими вопросами задается Константин Паустовский в данном тексте.'], ['Отвечая на поставленные вопросы, автор описывает воспоминания из детства , когда герой стал свидетелем первого полета авиатора Уточкина в небо.', 'Тогда в Киеве некоторые плакали при виде полета человека, взлетевшего в небо.', 'Почему автор вспоминает этот факт?', 'Он считает, что первый полет Уточкина является частью закономерности открытий, которая была выстроена людьми, стремящимися в небо.', 'Паустовский пишет, что поколение людей, живших в двадцатом веке – это счастливое поколение первооткрывателей, почти во всех областях науки и техники.', 'Прежде всего, он говорит о покорении космоса, он считает, что люди совершили «невиданный скачок от этого идиллического андерсеновского полёта до могучих воздушных кораблей и, наконец, порыв, полёт, уход в космос, в те пространства Вселенной, где человек соприкасается с вечностью».', 'И при этом он говорит, что «нам не свойственно хвастовство, но очень свойственна сдержанная вера в своих людей, в гений русского народа и ещё больше — в гений человечества».', 'Получается, что русские люди, пройдя через страдания, переживания, лишения, сделали величайшие открытия, которые теперь являются национальной гордостью всего нашего народа.'], ['Поэтому позиция автора данного текста состоит в следующем: нашу национальную гордость составляют величайшие мирные победы в истории человечества, среди которых полёт Юрия Гагарина в космос.'], ['Я совершенно согласна с позицией автора.', 'Русские люди – самые самоотверженные люди в мире.', 'Несмотря на беды, лишения и невзгоды они всегда добиваются поставленных целей.', 'Многие крупные открытия, такие как полет в космос, изобретение радио, мощной военной техники и другие, сделали русские ученые.', 'Пытливый ум, громадная работоспособность позволили русским ученым совершать мировые открытия, доказать всему миру, что настоящее счастье – это счастье открытий, великого труда во имя будущего, смелость и находчивость.'], ['Таким образом, мы постоянно испытываем гордость за наших ученых, способных совершать все новые и новые открытия.']]\n"
     ]
    }
   ],
   "source": [
    "print(pred[0])\n",
    "print()\n",
    "print(real[0])"
   ]
  },
  {
   "cell_type": "code",
   "execution_count": 121,
   "metadata": {},
   "outputs": [
    {
     "name": "stdout",
     "output_type": "stream",
     "text": [
      "[['В чём проявляется любовь к профессии?', 'Является ли любовь к профессии залогом успешной деятельности?'], ['Этими вопросами задается Антон Павлович Чехов в данном тексте.', 'Отвечая на поставленные вопросы, Чехов рассказывает о герое, который читал лекции студентам.'], ['Описывает его ощущения и чувства в тот момент, когда герой занимался своим любимым делом.', 'Это занятие вызывает у героя счастье и наслаждение: «стоит… только оглядеть аудиторию и произнести стереотипное «в прошлой лекции мы остановились на...», как фразы длинной вереницей вылетают из…. души и — пошла, писать губерния!».', 'Автор сравнивает лектора с дирижером, а всех сидящих на лекции студентов иронически называет многоголовой гидрой.', 'И герой должен покорить эту гидру, заставить слушать и понимать лекцию: «Каждую минуту я должен иметь ловкость выхватывать из этого громадного материала самое важное и нужное и так же быстро, как течёт моя речь, облекать свою мысль в такую форму, которая была бы доступна разумению гидры и возбуждала бы её внимание, причём надо зорко следить, чтобы мысли передавались не по мере их накопления, а в известном порядке, необходимом для правильной компоновки картины, какую я хочу нарисовать».', 'Герой текста считает, что при чтении лекции нужно уметь удерживать внимание аудитории, и у него это неплохо получается.', 'Но все описанные события в прошлом: «Никакой спорт, никакие развлечения и игры никогда не доставляли мне такого наслаждения, как чтение лекций», - а сейчас лектор чувствует себя не очень хорошо: «Испуская последний вздох, я всё-таки буду верить, что наука — самое важное, самое прекрасное и нужное в жизни человека, что она всегда была и будет высшим проявлением любви и что только ею одною человек победит природу и себя».', 'Получается, что когда человек занимается любимым делом, он действительно успешен и удачлив.', 'Позиция автора данного текста проста: человек, занимающийся любимым делом, по-настоящему счастлив.', 'Труд вызывает у него радость и желание творчества.', 'Я согласна с позицией автора.'], ['Только любимое дело способно сделать человека счастливым.', 'Главное – найти это дело, стать в нем успешным профессионалом.', 'Мне кажется, что если бы любимое дело или увлечение не приносило приятные эмоции, не находило бы позитивный отклик в душе, то не развивались бы народные промыслы, не совершались бы научные открытия, прогресс стоял бы на месте.', 'Все великие ученые и изобретатели чувствовали себя счастливыми только тогда, когда занимались любимым делом.'], ['И многим было неважно, где они находятся, что на них одето, что они едят.', 'В русской литературе есть тоже немало примеров того, что мастер, увлекшись делом, забывает обо всем и чувствует себя очень хорошо.', 'Вспомним лесковского Левшу.', 'Чудаковатый, просто одетый да еще и закладывающий за воротник Левша мог блоху подковать.'], ['Вся его жизнь состояла из того, что он великолепно делал различные механизмы и в этот момент был счастлив, а как отлучили его от любимого дела, стали возить по заграницам, так и пропал человек.', 'Таким образом, для многих любимое дело – цель в жизни, а значит ее смысл и счастливое состояние души.', 'Хочется, чтобы каждый человек нашел свое дело и был доволен жизнью.']]\n",
      "\n",
      "[['В чём проявляется любовь к профессии?', 'Является ли любовь к профессии залогом успешной деятельности?', 'Этими вопросами задается Антон Павлович Чехов в данном тексте.'], ['Отвечая на поставленные вопросы, Чехов рассказывает о герое, который читал лекции студентам.', 'Описывает его ощущения и чувства в тот момент, когда герой занимался своим любимым делом.', 'Это занятие вызывает у героя счастье и наслаждение: «стоит… только оглядеть аудиторию и произнести стереотипное «в прошлой лекции мы остановились на...», как фразы длинной вереницей вылетают из…. души и — пошла, писать губерния!».', 'Автор сравнивает лектора с дирижером, а всех сидящих на лекции студентов иронически называет многоголовой гидрой.', 'И герой должен покорить эту гидру, заставить слушать и понимать лекцию: «Каждую минуту я должен иметь ловкость выхватывать из этого громадного материала самое важное и нужное и так же быстро, как течёт моя речь, облекать свою мысль в такую форму, которая была бы доступна разумению гидры и возбуждала бы её внимание, причём надо зорко следить, чтобы мысли передавались не по мере их накопления, а в известном порядке, необходимом для правильной компоновки картины, какую я хочу нарисовать».', 'Герой текста считает, что при чтении лекции нужно уметь удерживать внимание аудитории, и у него это неплохо получается.', 'Но все описанные события в прошлом: «Никакой спорт, никакие развлечения и игры никогда не доставляли мне такого наслаждения, как чтение лекций», - а сейчас лектор чувствует себя не очень хорошо: «Испуская последний вздох, я всё-таки буду верить, что наука — самое важное, самое прекрасное и нужное в жизни человека, что она всегда была и будет высшим проявлением любви и что только ею одною человек победит природу и себя».', 'Получается, что когда человек занимается любимым делом, он действительно успешен и удачлив.'], ['Позиция автора данного текста проста: человек, занимающийся любимым делом, по-настоящему счастлив.', 'Труд вызывает у него радость и желание творчества.'], ['Я согласна с позицией автора.', 'Только любимое дело способно сделать человека счастливым.', 'Главное – найти это дело, стать в нем успешным профессионалом.', 'Мне кажется, что если бы любимое дело или увлечение не приносило приятные эмоции, не находило бы позитивный отклик в душе, то не развивались бы народные промыслы, не совершались бы научные открытия, прогресс стоял бы на месте.', 'Все великие ученые и изобретатели чувствовали себя счастливыми только тогда, когда занимались любимым делом.', 'И многим было неважно, где они находятся, что на них одето, что они едят.', 'В русской литературе есть тоже немало примеров того, что мастер, увлекшись делом, забывает обо всем и чувствует себя очень хорошо.', 'Вспомним лесковского Левшу.', 'Чудаковатый, просто одетый да еще и закладывающий за воротник Левша мог блоху подковать.', 'Вся его жизнь состояла из того, что он великолепно делал различные механизмы и в этот момент был счастлив, а как отлучили его от любимого дела, стали возить по заграницам, так и пропал человек.'], ['Таким образом, для многих любимое дело – цель в жизни, а значит ее смысл и счастливое состояние души.', 'Хочется, чтобы каждый человек нашел свое дело и был доволен жизнью.']]\n"
     ]
    }
   ],
   "source": [
    "print(pred[2])\n",
    "print()\n",
    "print(real[2])"
   ]
  },
  {
   "cell_type": "markdown",
   "metadata": {},
   "source": [
    "# Второй алгоритм, все тексты ЕГЭ"
   ]
  },
  {
   "cell_type": "code",
   "execution_count": 123,
   "metadata": {},
   "outputs": [
    {
     "name": "stdout",
     "output_type": "stream",
     "text": [
      "Lemmatizing sentences\n"
     ]
    },
    {
     "data": {
      "application/vnd.jupyter.widget-view+json": {
       "model_id": "ad01803e6c8f4771a492097b40000630",
       "version_major": 2,
       "version_minor": 0
      },
      "text/plain": [
       "HBox(children=(IntProgress(value=0, max=24), HTML(value='')))"
      ]
     },
     "metadata": {},
     "output_type": "display_data"
    },
    {
     "name": "stdout",
     "output_type": "stream",
     "text": [
      "\n",
      "Изначальный текст  5  Предсказание  9\n",
      "Lemmatizing sentences\n"
     ]
    },
    {
     "data": {
      "application/vnd.jupyter.widget-view+json": {
       "model_id": "cd69f72200ba44e485232e10c580e101",
       "version_major": 2,
       "version_minor": 0
      },
      "text/plain": [
       "HBox(children=(IntProgress(value=0, max=22), HTML(value='')))"
      ]
     },
     "metadata": {},
     "output_type": "display_data"
    },
    {
     "name": "stdout",
     "output_type": "stream",
     "text": [
      "\n",
      "Изначальный текст  6  Предсказание  8\n",
      "Lemmatizing sentences\n"
     ]
    },
    {
     "data": {
      "application/vnd.jupyter.widget-view+json": {
       "model_id": "bc5b04f2f45a4ab79a91c216fd019643",
       "version_major": 2,
       "version_minor": 0
      },
      "text/plain": [
       "HBox(children=(IntProgress(value=0, max=23), HTML(value='')))"
      ]
     },
     "metadata": {},
     "output_type": "display_data"
    },
    {
     "name": "stdout",
     "output_type": "stream",
     "text": [
      "\n",
      "Изначальный текст  5  Предсказание  7\n",
      "Lemmatizing sentences\n"
     ]
    },
    {
     "data": {
      "application/vnd.jupyter.widget-view+json": {
       "model_id": "fd599d6ed5fa490bb663370fbf83508c",
       "version_major": 2,
       "version_minor": 0
      },
      "text/plain": [
       "HBox(children=(IntProgress(value=0, max=27), HTML(value='')))"
      ]
     },
     "metadata": {},
     "output_type": "display_data"
    },
    {
     "name": "stdout",
     "output_type": "stream",
     "text": [
      "\n",
      "Изначальный текст  5  Предсказание  9\n",
      "Lemmatizing sentences\n"
     ]
    },
    {
     "data": {
      "application/vnd.jupyter.widget-view+json": {
       "model_id": "675f0ddb1cc3499c942b6ae0f4a07969",
       "version_major": 2,
       "version_minor": 0
      },
      "text/plain": [
       "HBox(children=(IntProgress(value=0, max=20), HTML(value='')))"
      ]
     },
     "metadata": {},
     "output_type": "display_data"
    },
    {
     "name": "stdout",
     "output_type": "stream",
     "text": [
      "\n",
      "Изначальный текст  4  Предсказание  7\n",
      "Lemmatizing sentences\n"
     ]
    },
    {
     "data": {
      "application/vnd.jupyter.widget-view+json": {
       "model_id": "2f77c9936ad54268b0d13088c1f21e2f",
       "version_major": 2,
       "version_minor": 0
      },
      "text/plain": [
       "HBox(children=(IntProgress(value=0, max=20), HTML(value='')))"
      ]
     },
     "metadata": {},
     "output_type": "display_data"
    },
    {
     "name": "stdout",
     "output_type": "stream",
     "text": [
      "\n",
      "Изначальный текст  5  Предсказание  7\n",
      "Lemmatizing sentences\n"
     ]
    },
    {
     "data": {
      "application/vnd.jupyter.widget-view+json": {
       "model_id": "8f3a6e4f1e394ac39d54ef3c6e4a48c7",
       "version_major": 2,
       "version_minor": 0
      },
      "text/plain": [
       "HBox(children=(IntProgress(value=0, max=18), HTML(value='')))"
      ]
     },
     "metadata": {},
     "output_type": "display_data"
    },
    {
     "name": "stdout",
     "output_type": "stream",
     "text": [
      "\n",
      "Изначальный текст  5  Предсказание  6\n",
      "Lemmatizing sentences\n"
     ]
    },
    {
     "data": {
      "application/vnd.jupyter.widget-view+json": {
       "model_id": "c00421208f8140a7a8600747ffc756c2",
       "version_major": 2,
       "version_minor": 0
      },
      "text/plain": [
       "HBox(children=(IntProgress(value=0, max=29), HTML(value='')))"
      ]
     },
     "metadata": {},
     "output_type": "display_data"
    },
    {
     "name": "stdout",
     "output_type": "stream",
     "text": [
      "\n",
      "Изначальный текст  5  Предсказание  8\n",
      "Lemmatizing sentences\n"
     ]
    },
    {
     "data": {
      "application/vnd.jupyter.widget-view+json": {
       "model_id": "077f54f3ead546e58c8ba130c4e3f48d",
       "version_major": 2,
       "version_minor": 0
      },
      "text/plain": [
       "HBox(children=(IntProgress(value=0, max=25), HTML(value='')))"
      ]
     },
     "metadata": {},
     "output_type": "display_data"
    },
    {
     "name": "stdout",
     "output_type": "stream",
     "text": [
      "\n",
      "Изначальный текст  5  Предсказание  7\n",
      "Lemmatizing sentences\n"
     ]
    },
    {
     "data": {
      "application/vnd.jupyter.widget-view+json": {
       "model_id": "9ce30a5acf784a0d9b20c8d0355117d6",
       "version_major": 2,
       "version_minor": 0
      },
      "text/plain": [
       "HBox(children=(IntProgress(value=0, max=23), HTML(value='')))"
      ]
     },
     "metadata": {},
     "output_type": "display_data"
    },
    {
     "name": "stdout",
     "output_type": "stream",
     "text": [
      "\n",
      "Изначальный текст  5  Предсказание  7\n"
     ]
    }
   ],
   "source": [
    "results_5 = []\n",
    "for text in files[1:]:\n",
    "    sents, real_paragraphs, pred_segment_indices, pred_paragraphs = f.segmentize_by_clustering('./texts/exam/' + text, \n",
    "                                                    model=model)\n",
    "    gold_idx = f.gold_segment_indices(real_paragraphs)\n",
    "    k = round(0.5*len(sents)/len(real_paragraphs))\n",
    "    print('Изначальный текст ', len(real_paragraphs), ' Предсказание ', len(pred_paragraphs) )\n",
    "    results_5.append(f.evaluate(gold_idx, pred_segment_indices, k))"
   ]
  },
  {
   "cell_type": "code",
   "execution_count": 125,
   "metadata": {},
   "outputs": [
    {
     "data": {
      "text/html": [
       "<div>\n",
       "<style scoped>\n",
       "    .dataframe tbody tr th:only-of-type {\n",
       "        vertical-align: middle;\n",
       "    }\n",
       "\n",
       "    .dataframe tbody tr th {\n",
       "        vertical-align: top;\n",
       "    }\n",
       "\n",
       "    .dataframe thead th {\n",
       "        text-align: right;\n",
       "    }\n",
       "</style>\n",
       "<table border=\"1\" class=\"dataframe\">\n",
       "  <thead>\n",
       "    <tr style=\"text-align: right;\">\n",
       "      <th></th>\n",
       "      <th>pk</th>\n",
       "      <th>windowdiff</th>\n",
       "    </tr>\n",
       "  </thead>\n",
       "  <tbody>\n",
       "    <tr>\n",
       "      <td>0</td>\n",
       "      <td>0.608696</td>\n",
       "      <td>0.652174</td>\n",
       "    </tr>\n",
       "    <tr>\n",
       "      <td>1</td>\n",
       "      <td>0.571429</td>\n",
       "      <td>0.714286</td>\n",
       "    </tr>\n",
       "    <tr>\n",
       "      <td>2</td>\n",
       "      <td>0.500000</td>\n",
       "      <td>0.545455</td>\n",
       "    </tr>\n",
       "    <tr>\n",
       "      <td>3</td>\n",
       "      <td>0.560000</td>\n",
       "      <td>0.640000</td>\n",
       "    </tr>\n",
       "    <tr>\n",
       "      <td>4</td>\n",
       "      <td>0.315789</td>\n",
       "      <td>0.421053</td>\n",
       "    </tr>\n",
       "    <tr>\n",
       "      <td>5</td>\n",
       "      <td>0.631579</td>\n",
       "      <td>0.684211</td>\n",
       "    </tr>\n",
       "    <tr>\n",
       "      <td>6</td>\n",
       "      <td>0.705882</td>\n",
       "      <td>0.823529</td>\n",
       "    </tr>\n",
       "    <tr>\n",
       "      <td>7</td>\n",
       "      <td>0.555556</td>\n",
       "      <td>0.666667</td>\n",
       "    </tr>\n",
       "    <tr>\n",
       "      <td>8</td>\n",
       "      <td>0.500000</td>\n",
       "      <td>0.500000</td>\n",
       "    </tr>\n",
       "    <tr>\n",
       "      <td>9</td>\n",
       "      <td>0.500000</td>\n",
       "      <td>0.500000</td>\n",
       "    </tr>\n",
       "  </tbody>\n",
       "</table>\n",
       "</div>"
      ],
      "text/plain": [
       "         pk  windowdiff\n",
       "0  0.608696    0.652174\n",
       "1  0.571429    0.714286\n",
       "2  0.500000    0.545455\n",
       "3  0.560000    0.640000\n",
       "4  0.315789    0.421053\n",
       "5  0.631579    0.684211\n",
       "6  0.705882    0.823529\n",
       "7  0.555556    0.666667\n",
       "8  0.500000    0.500000\n",
       "9  0.500000    0.500000"
      ]
     },
     "execution_count": 125,
     "metadata": {},
     "output_type": "execute_result"
    }
   ],
   "source": [
    "pd.DataFrame(index=range(10), \n",
    "             data=[results_5[0].values(), results_5[1].values(), results_5[2].values(), \n",
    "                   results_5[3].values(), results_5[4].values(), results_5[5].values(), \n",
    "                   results_5[6].values(), results_5[7].values(), results_5[8].values(),\n",
    "                  results_5[9].values()],\n",
    "            columns=results_5[0].keys())"
   ]
  },
  {
   "cell_type": "markdown",
   "metadata": {},
   "source": [
    "## Тексты РБК"
   ]
  },
  {
   "cell_type": "markdown",
   "metadata": {},
   "source": [
    "## Первый алгоритм, TRAIN Тау = 4"
   ]
  },
  {
   "cell_type": "code",
   "execution_count": 126,
   "metadata": {},
   "outputs": [],
   "source": [
    "path = './texts/rbc'\n",
    "\n",
    "files = []\n",
    "for filename in os.listdir(path):\n",
    "    files.append(filename)"
   ]
  },
  {
   "cell_type": "code",
   "execution_count": 137,
   "metadata": {},
   "outputs": [
    {
     "name": "stdout",
     "output_type": "stream",
     "text": [
      "Lemmatizing sentences\n"
     ]
    },
    {
     "data": {
      "application/vnd.jupyter.widget-view+json": {
       "model_id": "31b93da430654264bba708f1be97665d",
       "version_major": 2,
       "version_minor": 0
      },
      "text/plain": [
       "HBox(children=(IntProgress(value=0, max=49), HTML(value='')))"
      ]
     },
     "metadata": {},
     "output_type": "display_data"
    },
    {
     "name": "stdout",
     "output_type": "stream",
     "text": [
      "\n",
      "Изначальный текст  17  Предсказание  9\n",
      "Lemmatizing sentences\n"
     ]
    },
    {
     "data": {
      "application/vnd.jupyter.widget-view+json": {
       "model_id": "c761f7421c0948108bfeabbf699ec92e",
       "version_major": 2,
       "version_minor": 0
      },
      "text/plain": [
       "HBox(children=(IntProgress(value=0, max=32), HTML(value='')))"
      ]
     },
     "metadata": {},
     "output_type": "display_data"
    },
    {
     "name": "stdout",
     "output_type": "stream",
     "text": [
      "\n",
      "Изначальный текст  15  Предсказание  6\n",
      "Lemmatizing sentences\n"
     ]
    },
    {
     "data": {
      "application/vnd.jupyter.widget-view+json": {
       "model_id": "81ca7dbcfbc04166a70ec5b018c90e91",
       "version_major": 2,
       "version_minor": 0
      },
      "text/plain": [
       "HBox(children=(IntProgress(value=0, max=34), HTML(value='')))"
      ]
     },
     "metadata": {},
     "output_type": "display_data"
    },
    {
     "name": "stdout",
     "output_type": "stream",
     "text": [
      "\n",
      "Изначальный текст  13  Предсказание  5\n",
      "Lemmatizing sentences\n"
     ]
    },
    {
     "data": {
      "application/vnd.jupyter.widget-view+json": {
       "model_id": "9a97a4c92ee145cb8dbf65cd67d1098e",
       "version_major": 2,
       "version_minor": 0
      },
      "text/plain": [
       "HBox(children=(IntProgress(value=0, max=42), HTML(value='')))"
      ]
     },
     "metadata": {},
     "output_type": "display_data"
    },
    {
     "name": "stdout",
     "output_type": "stream",
     "text": [
      "\n",
      "Изначальный текст  13  Предсказание  9\n",
      "Lemmatizing sentences\n"
     ]
    },
    {
     "data": {
      "application/vnd.jupyter.widget-view+json": {
       "model_id": "a7f617b904f1476684ad7395edf1dd8e",
       "version_major": 2,
       "version_minor": 0
      },
      "text/plain": [
       "HBox(children=(IntProgress(value=0, max=25), HTML(value='')))"
      ]
     },
     "metadata": {},
     "output_type": "display_data"
    },
    {
     "name": "stdout",
     "output_type": "stream",
     "text": [
      "\n",
      "Изначальный текст  10  Предсказание  3\n",
      "Lemmatizing sentences\n"
     ]
    },
    {
     "data": {
      "application/vnd.jupyter.widget-view+json": {
       "model_id": "3fdf2eb38b1c45f9aa402f2df53d36ff",
       "version_major": 2,
       "version_minor": 0
      },
      "text/plain": [
       "HBox(children=(IntProgress(value=0, max=60), HTML(value='')))"
      ]
     },
     "metadata": {},
     "output_type": "display_data"
    },
    {
     "name": "stdout",
     "output_type": "stream",
     "text": [
      "\n",
      "Изначальный текст  16  Предсказание  13\n",
      "Lemmatizing sentences\n"
     ]
    },
    {
     "data": {
      "application/vnd.jupyter.widget-view+json": {
       "model_id": "6a9ab5c5940048aab9d38aec91656dc4",
       "version_major": 2,
       "version_minor": 0
      },
      "text/plain": [
       "HBox(children=(IntProgress(value=0, max=47), HTML(value='')))"
      ]
     },
     "metadata": {},
     "output_type": "display_data"
    },
    {
     "name": "stdout",
     "output_type": "stream",
     "text": [
      "\n",
      "Изначальный текст  24  Предсказание  8\n"
     ]
    }
   ],
   "source": [
    "results_rbc_4 = []\n",
    "real = []\n",
    "pred = []\n",
    "for text in files[0:7]:\n",
    "    sents, real_paragraphs, pred_segment_indices, pred_paragraphs = f.segmentize_bipartite_subgraphs('./texts/rbc/' + text, \n",
    "                                                    model=model,\n",
    "                                                    tau=4)\n",
    "    gold_idx = f.gold_segment_indices(real_paragraphs)\n",
    "    k = round(0.5*len(sents)/len(real_paragraphs))\n",
    "    results_rbc_4.append(f.evaluate(gold_idx, pred_segment_indices, k))\n",
    "    print('Изначальный текст ', len(real_paragraphs), ' Предсказание ', len(pred_paragraphs) )\n",
    "    real.append(real_paragraphs)\n",
    "    pred.append(pred_paragraphs)"
   ]
  },
  {
   "cell_type": "code",
   "execution_count": 140,
   "metadata": {},
   "outputs": [
    {
     "data": {
      "text/html": [
       "<div>\n",
       "<style scoped>\n",
       "    .dataframe tbody tr th:only-of-type {\n",
       "        vertical-align: middle;\n",
       "    }\n",
       "\n",
       "    .dataframe tbody tr th {\n",
       "        vertical-align: top;\n",
       "    }\n",
       "\n",
       "    .dataframe thead th {\n",
       "        text-align: right;\n",
       "    }\n",
       "</style>\n",
       "<table border=\"1\" class=\"dataframe\">\n",
       "  <thead>\n",
       "    <tr style=\"text-align: right;\">\n",
       "      <th></th>\n",
       "      <th>pk</th>\n",
       "      <th>windowdiff</th>\n",
       "    </tr>\n",
       "  </thead>\n",
       "  <tbody>\n",
       "    <tr>\n",
       "      <td>0</td>\n",
       "      <td>0.285714</td>\n",
       "      <td>0.285714</td>\n",
       "    </tr>\n",
       "    <tr>\n",
       "      <td>1</td>\n",
       "      <td>0.531250</td>\n",
       "      <td>0.531250</td>\n",
       "    </tr>\n",
       "    <tr>\n",
       "      <td>2</td>\n",
       "      <td>0.411765</td>\n",
       "      <td>0.411765</td>\n",
       "    </tr>\n",
       "    <tr>\n",
       "      <td>3</td>\n",
       "      <td>0.463415</td>\n",
       "      <td>0.487805</td>\n",
       "    </tr>\n",
       "    <tr>\n",
       "      <td>4</td>\n",
       "      <td>0.440000</td>\n",
       "      <td>0.440000</td>\n",
       "    </tr>\n",
       "    <tr>\n",
       "      <td>5</td>\n",
       "      <td>0.644068</td>\n",
       "      <td>0.661017</td>\n",
       "    </tr>\n",
       "    <tr>\n",
       "      <td>6</td>\n",
       "      <td>0.510638</td>\n",
       "      <td>0.510638</td>\n",
       "    </tr>\n",
       "  </tbody>\n",
       "</table>\n",
       "</div>"
      ],
      "text/plain": [
       "         pk  windowdiff\n",
       "0  0.285714    0.285714\n",
       "1  0.531250    0.531250\n",
       "2  0.411765    0.411765\n",
       "3  0.463415    0.487805\n",
       "4  0.440000    0.440000\n",
       "5  0.644068    0.661017\n",
       "6  0.510638    0.510638"
      ]
     },
     "execution_count": 140,
     "metadata": {},
     "output_type": "execute_result"
    }
   ],
   "source": [
    "pd.DataFrame(index=range(7), \n",
    "             data=[results_rbc_4[0].values(), results_rbc_4[1].values(), results_rbc_4[2].values(), \n",
    "                   results_rbc_4[3].values(), results_rbc_4[4].values(), results_rbc_4[5].values(), \n",
    "                   results_rbc_4[6].values()],\n",
    "            columns=results_rbc_4[0].keys())"
   ]
  },
  {
   "cell_type": "markdown",
   "metadata": {},
   "source": [
    "## Маловато, возмем Тау=5"
   ]
  },
  {
   "cell_type": "code",
   "execution_count": 141,
   "metadata": {},
   "outputs": [
    {
     "name": "stdout",
     "output_type": "stream",
     "text": [
      "Lemmatizing sentences\n"
     ]
    },
    {
     "data": {
      "application/vnd.jupyter.widget-view+json": {
       "model_id": "b26e75c0f8d943ee9d03ce1de18f41ae",
       "version_major": 2,
       "version_minor": 0
      },
      "text/plain": [
       "HBox(children=(IntProgress(value=0, max=49), HTML(value='')))"
      ]
     },
     "metadata": {},
     "output_type": "display_data"
    },
    {
     "name": "stdout",
     "output_type": "stream",
     "text": [
      "\n",
      "Изначальный текст  17  Предсказание  19\n",
      "Lemmatizing sentences\n"
     ]
    },
    {
     "data": {
      "application/vnd.jupyter.widget-view+json": {
       "model_id": "01562255fd8c4d4f817e911d94bcb4e6",
       "version_major": 2,
       "version_minor": 0
      },
      "text/plain": [
       "HBox(children=(IntProgress(value=0, max=32), HTML(value='')))"
      ]
     },
     "metadata": {},
     "output_type": "display_data"
    },
    {
     "name": "stdout",
     "output_type": "stream",
     "text": [
      "\n",
      "Изначальный текст  15  Предсказание  13\n",
      "Lemmatizing sentences\n"
     ]
    },
    {
     "data": {
      "application/vnd.jupyter.widget-view+json": {
       "model_id": "1154dc8f7bd3470ea1d47cfaf81a17fb",
       "version_major": 2,
       "version_minor": 0
      },
      "text/plain": [
       "HBox(children=(IntProgress(value=0, max=34), HTML(value='')))"
      ]
     },
     "metadata": {},
     "output_type": "display_data"
    },
    {
     "name": "stdout",
     "output_type": "stream",
     "text": [
      "\n",
      "Изначальный текст  13  Предсказание  11\n",
      "Lemmatizing sentences\n"
     ]
    },
    {
     "data": {
      "application/vnd.jupyter.widget-view+json": {
       "model_id": "e78f77ea22d94739ad55a94bc486873f",
       "version_major": 2,
       "version_minor": 0
      },
      "text/plain": [
       "HBox(children=(IntProgress(value=0, max=42), HTML(value='')))"
      ]
     },
     "metadata": {},
     "output_type": "display_data"
    },
    {
     "name": "stdout",
     "output_type": "stream",
     "text": [
      "\n",
      "Изначальный текст  13  Предсказание  16\n",
      "Lemmatizing sentences\n"
     ]
    },
    {
     "data": {
      "application/vnd.jupyter.widget-view+json": {
       "model_id": "ffe4a083fc734169885ca29247ce1347",
       "version_major": 2,
       "version_minor": 0
      },
      "text/plain": [
       "HBox(children=(IntProgress(value=0, max=25), HTML(value='')))"
      ]
     },
     "metadata": {},
     "output_type": "display_data"
    },
    {
     "name": "stdout",
     "output_type": "stream",
     "text": [
      "\n",
      "Изначальный текст  10  Предсказание  6\n",
      "Lemmatizing sentences\n"
     ]
    },
    {
     "data": {
      "application/vnd.jupyter.widget-view+json": {
       "model_id": "a505550f7e6f4b01949df95169de2546",
       "version_major": 2,
       "version_minor": 0
      },
      "text/plain": [
       "HBox(children=(IntProgress(value=0, max=60), HTML(value='')))"
      ]
     },
     "metadata": {},
     "output_type": "display_data"
    },
    {
     "name": "stdout",
     "output_type": "stream",
     "text": [
      "\n",
      "Изначальный текст  16  Предсказание  24\n",
      "Lemmatizing sentences\n"
     ]
    },
    {
     "data": {
      "application/vnd.jupyter.widget-view+json": {
       "model_id": "02afe37fef7147b4b64c6ddf46dcfcf8",
       "version_major": 2,
       "version_minor": 0
      },
      "text/plain": [
       "HBox(children=(IntProgress(value=0, max=47), HTML(value='')))"
      ]
     },
     "metadata": {},
     "output_type": "display_data"
    },
    {
     "name": "stdout",
     "output_type": "stream",
     "text": [
      "\n",
      "Изначальный текст  24  Предсказание  16\n"
     ]
    }
   ],
   "source": [
    "results_rbc_5 = []\n",
    "real = []\n",
    "pred = []\n",
    "for text in files[0:7]:\n",
    "    sents, real_paragraphs, pred_segment_indices, pred_paragraphs = f.segmentize_bipartite_subgraphs('./texts/rbc/' + text, \n",
    "                                                    model=model,\n",
    "                                                    tau=5)\n",
    "    gold_idx = f.gold_segment_indices(real_paragraphs)\n",
    "    k = round(0.5*len(sents)/len(real_paragraphs))\n",
    "    results_rbc_5.append(f.evaluate(gold_idx, pred_segment_indices, k))\n",
    "    print('Изначальный текст ', len(real_paragraphs), ' Предсказание ', len(pred_paragraphs) )\n",
    "    real.append(real_paragraphs)\n",
    "    pred.append(pred_paragraphs)"
   ]
  },
  {
   "cell_type": "code",
   "execution_count": 142,
   "metadata": {},
   "outputs": [
    {
     "data": {
      "text/html": [
       "<div>\n",
       "<style scoped>\n",
       "    .dataframe tbody tr th:only-of-type {\n",
       "        vertical-align: middle;\n",
       "    }\n",
       "\n",
       "    .dataframe tbody tr th {\n",
       "        vertical-align: top;\n",
       "    }\n",
       "\n",
       "    .dataframe thead th {\n",
       "        text-align: right;\n",
       "    }\n",
       "</style>\n",
       "<table border=\"1\" class=\"dataframe\">\n",
       "  <thead>\n",
       "    <tr style=\"text-align: right;\">\n",
       "      <th></th>\n",
       "      <th>pk</th>\n",
       "      <th>windowdiff</th>\n",
       "    </tr>\n",
       "  </thead>\n",
       "  <tbody>\n",
       "    <tr>\n",
       "      <td>0</td>\n",
       "      <td>0.448980</td>\n",
       "      <td>0.448980</td>\n",
       "    </tr>\n",
       "    <tr>\n",
       "      <td>1</td>\n",
       "      <td>0.562500</td>\n",
       "      <td>0.562500</td>\n",
       "    </tr>\n",
       "    <tr>\n",
       "      <td>2</td>\n",
       "      <td>0.352941</td>\n",
       "      <td>0.352941</td>\n",
       "    </tr>\n",
       "    <tr>\n",
       "      <td>3</td>\n",
       "      <td>0.512195</td>\n",
       "      <td>0.585366</td>\n",
       "    </tr>\n",
       "    <tr>\n",
       "      <td>4</td>\n",
       "      <td>0.400000</td>\n",
       "      <td>0.400000</td>\n",
       "    </tr>\n",
       "    <tr>\n",
       "      <td>5</td>\n",
       "      <td>0.542373</td>\n",
       "      <td>0.576271</td>\n",
       "    </tr>\n",
       "    <tr>\n",
       "      <td>6</td>\n",
       "      <td>0.425532</td>\n",
       "      <td>0.425532</td>\n",
       "    </tr>\n",
       "  </tbody>\n",
       "</table>\n",
       "</div>"
      ],
      "text/plain": [
       "         pk  windowdiff\n",
       "0  0.448980    0.448980\n",
       "1  0.562500    0.562500\n",
       "2  0.352941    0.352941\n",
       "3  0.512195    0.585366\n",
       "4  0.400000    0.400000\n",
       "5  0.542373    0.576271\n",
       "6  0.425532    0.425532"
      ]
     },
     "execution_count": 142,
     "metadata": {},
     "output_type": "execute_result"
    }
   ],
   "source": [
    "pd.DataFrame(index=range(7), \n",
    "             data=[results_rbc_5[0].values(), results_rbc_5[1].values(), results_rbc_5[2].values(), \n",
    "                   results_rbc_5[3].values(), results_rbc_5[4].values(), results_rbc_5[5].values(), \n",
    "                   results_rbc_5[6].values()],\n",
    "            columns=results_rbc_5[0].keys())"
   ]
  },
  {
   "cell_type": "markdown",
   "metadata": {},
   "source": [
    "## Попробуем Тау = 4.5"
   ]
  },
  {
   "cell_type": "code",
   "execution_count": null,
   "metadata": {},
   "outputs": [
    {
     "name": "stdout",
     "output_type": "stream",
     "text": [
      "Lemmatizing sentences\n"
     ]
    },
    {
     "data": {
      "application/vnd.jupyter.widget-view+json": {
       "model_id": "d6bbf6fcc900430cb3cec2346bd6cdf7",
       "version_major": 2,
       "version_minor": 0
      },
      "text/plain": [
       "HBox(children=(IntProgress(value=0, max=49), HTML(value='')))"
      ]
     },
     "metadata": {},
     "output_type": "display_data"
    },
    {
     "name": "stdout",
     "output_type": "stream",
     "text": [
      "\n",
      "Изначальный текст  17  Предсказание  17\n",
      "Lemmatizing sentences\n"
     ]
    },
    {
     "data": {
      "application/vnd.jupyter.widget-view+json": {
       "model_id": "0da89315f776493393afd08557f4a7e5",
       "version_major": 2,
       "version_minor": 0
      },
      "text/plain": [
       "HBox(children=(IntProgress(value=0, max=32), HTML(value='')))"
      ]
     },
     "metadata": {},
     "output_type": "display_data"
    },
    {
     "name": "stdout",
     "output_type": "stream",
     "text": [
      "\n",
      "Изначальный текст  15  Предсказание  11\n",
      "Lemmatizing sentences\n"
     ]
    },
    {
     "data": {
      "application/vnd.jupyter.widget-view+json": {
       "model_id": "44453e1aa4024d3392d1e9b4a6f6b56b",
       "version_major": 2,
       "version_minor": 0
      },
      "text/plain": [
       "HBox(children=(IntProgress(value=0, max=34), HTML(value='')))"
      ]
     },
     "metadata": {},
     "output_type": "display_data"
    },
    {
     "name": "stdout",
     "output_type": "stream",
     "text": [
      "\n",
      "Изначальный текст  13  Предсказание  12\n",
      "Lemmatizing sentences\n"
     ]
    },
    {
     "data": {
      "application/vnd.jupyter.widget-view+json": {
       "model_id": "e6e0da12a62e4ce6b1551b6820842add",
       "version_major": 2,
       "version_minor": 0
      },
      "text/plain": [
       "HBox(children=(IntProgress(value=0, max=42), HTML(value='')))"
      ]
     },
     "metadata": {},
     "output_type": "display_data"
    },
    {
     "name": "stdout",
     "output_type": "stream",
     "text": [
      "\n",
      "Изначальный текст  13  Предсказание  14\n",
      "Lemmatizing sentences\n"
     ]
    },
    {
     "data": {
      "application/vnd.jupyter.widget-view+json": {
       "model_id": "604cfcbac20b48eb98aba144cbe95223",
       "version_major": 2,
       "version_minor": 0
      },
      "text/plain": [
       "HBox(children=(IntProgress(value=0, max=25), HTML(value='')))"
      ]
     },
     "metadata": {},
     "output_type": "display_data"
    },
    {
     "name": "stdout",
     "output_type": "stream",
     "text": [
      "\n",
      "Изначальный текст  10  Предсказание  4\n",
      "Lemmatizing sentences\n"
     ]
    },
    {
     "data": {
      "application/vnd.jupyter.widget-view+json": {
       "model_id": "e39744f5012c4e57a10d25f34eddaa1b",
       "version_major": 2,
       "version_minor": 0
      },
      "text/plain": [
       "HBox(children=(IntProgress(value=0, max=60), HTML(value='')))"
      ]
     },
     "metadata": {},
     "output_type": "display_data"
    },
    {
     "name": "stdout",
     "output_type": "stream",
     "text": [
      "\n"
     ]
    }
   ],
   "source": [
    "results_rbc_45 = []\n",
    "real = []\n",
    "pred = []\n",
    "for text in files[0:7]:\n",
    "    sents, real_paragraphs, pred_segment_indices, pred_paragraphs = f.segmentize_bipartite_subgraphs('./texts/rbc/' + text, \n",
    "                                                    model=model,\n",
    "                                                    tau=4.5)\n",
    "    gold_idx = f.gold_segment_indices(real_paragraphs)\n",
    "    k = round(0.5*len(sents)/len(real_paragraphs))\n",
    "    results_rbc_45.append(f.evaluate(gold_idx, pred_segment_indices, k))\n",
    "    print('Изначальный текст ', len(real_paragraphs), ' Предсказание ', len(pred_paragraphs) )\n",
    "    real.append(real_paragraphs)\n",
    "    pred.append(pred_paragraphs)"
   ]
  },
  {
   "cell_type": "code",
   "execution_count": null,
   "metadata": {},
   "outputs": [],
   "source": [
    "pd.DataFrame(index=range(7), \n",
    "             data=[results_rbc_45[0].values(), results_rbc_45[1].values(), results_rbc_45[2].values(), \n",
    "                   results_rbc_45[3].values(), results_rbc_45[4].values(), results_rbc_45[5].values(), \n",
    "                   results_rbc_45[6].values()],\n",
    "            columns=results_rbc_45[0].keys())"
   ]
  },
  {
   "cell_type": "markdown",
   "metadata": {},
   "source": [
    "## Останавливаемся на тау = 4.5 для РБК, далее тестим на 3 текстах"
   ]
  },
  {
   "cell_type": "code",
   "execution_count": null,
   "metadata": {},
   "outputs": [],
   "source": [
    "results_rbc_test = []\n",
    "real = []\n",
    "pred = []\n",
    "for text in files[7:]:\n",
    "    sents, real_paragraphs, pred_segment_indices, pred_paragraphs = f.segmentize_bipartite_subgraphs('./texts/rbc/' + text, \n",
    "                                                    model=model,\n",
    "                                                    tau=4.5)\n",
    "    gold_idx = f.gold_segment_indices(real_paragraphs)\n",
    "    k = round(0.5*len(sents)/len(real_paragraphs))\n",
    "    results_rbc_test.append(f.evaluate(gold_idx, pred_segment_indices, k))\n",
    "    print('Изначальный текст ', len(real_paragraphs), ' Предсказание ', len(pred_paragraphs) )\n",
    "    real.append(real_paragraphs)\n",
    "    pred.append(pred_paragraphs)"
   ]
  },
  {
   "cell_type": "code",
   "execution_count": null,
   "metadata": {},
   "outputs": [],
   "source": [
    "pd.DataFrame(index=range(3), \n",
    "             data=[results_rbc_test[0].values(), results_rbc_test[1].values(), results_rbc_test[2].values()],\n",
    "            columns=results_rbc_test[0].keys())"
   ]
  },
  {
   "cell_type": "code",
   "execution_count": null,
   "metadata": {},
   "outputs": [],
   "source": []
  }
 ],
 "metadata": {
  "kernelspec": {
   "display_name": "Python 3",
   "language": "python",
   "name": "python3"
  },
  "language_info": {
   "codemirror_mode": {
    "name": "ipython",
    "version": 3
   },
   "file_extension": ".py",
   "mimetype": "text/x-python",
   "name": "python",
   "nbconvert_exporter": "python",
   "pygments_lexer": "ipython3",
   "version": "3.7.4"
  }
 },
 "nbformat": 4,
 "nbformat_minor": 2
}
