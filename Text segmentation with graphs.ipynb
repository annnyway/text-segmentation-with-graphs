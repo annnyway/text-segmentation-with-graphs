{
 "cells": [
  {
   "cell_type": "markdown",
   "metadata": {},
   "source": [
    "## Usage"
   ]
  },
  {
   "cell_type": "code",
   "execution_count": 1,
   "metadata": {},
   "outputs": [],
   "source": [
    "import gensim\n",
    "from gensim.models import KeyedVectors"
   ]
  },
  {
   "cell_type": "code",
   "execution_count": 2,
   "metadata": {},
   "outputs": [],
   "source": [
    "import functions as f "
   ]
  },
  {
   "cell_type": "code",
   "execution_count": 3,
   "metadata": {},
   "outputs": [],
   "source": [
    "model = gensim.models.KeyedVectors.load('/Users/nikolaevaanna/Downloads/187/model.model')"
   ]
  },
  {
   "cell_type": "code",
   "execution_count": 4,
   "metadata": {},
   "outputs": [
    {
     "name": "stdout",
     "output_type": "stream",
     "text": [
      "Lemmatizing sentences\n"
     ]
    },
    {
     "data": {
      "application/vnd.jupyter.widget-view+json": {
       "model_id": "a989bf23e46c4581932de2cbca2c610e",
       "version_major": 2,
       "version_minor": 0
      },
      "text/plain": [
       "HBox(children=(IntProgress(value=1, bar_style='info', max=1), HTML(value='')))"
      ]
     },
     "metadata": {},
     "output_type": "display_data"
    },
    {
     "name": "stdout",
     "output_type": "stream",
     "text": [
      "\n"
     ]
    }
   ],
   "source": [
    "sents, real_paragraphs, pred_segment_indices, pred_paragraphs = f.segmentize_bipartite_subgraphs(\"Мелкие и пушистые.txt\", \n",
    "                                                    model=model,\n",
    "                                                    tau=4)"
   ]
  },
  {
   "cell_type": "code",
   "execution_count": 5,
   "metadata": {},
   "outputs": [
    {
     "name": "stdout",
     "output_type": "stream",
     "text": [
      "Lemmatizing sentences\n"
     ]
    },
    {
     "data": {
      "application/vnd.jupyter.widget-view+json": {
       "model_id": "5a6bef5e341f43ec91fa522514a1c780",
       "version_major": 2,
       "version_minor": 0
      },
      "text/plain": [
       "HBox(children=(IntProgress(value=1, bar_style='info', max=1), HTML(value='')))"
      ]
     },
     "metadata": {},
     "output_type": "display_data"
    },
    {
     "name": "stdout",
     "output_type": "stream",
     "text": [
      "\n"
     ]
    }
   ],
   "source": [
    "sents, real_paragraphs, pred_segment_indices, pred_paragraphs = f.segmentize_by_clustering(\"Мелкие и пушистые.txt\", \n",
    "                                                    model=model)"
   ]
  },
  {
   "cell_type": "code",
   "execution_count": 7,
   "metadata": {},
   "outputs": [
    {
     "data": {
      "text/plain": [
       "['Самая популярная порода собак в России — немецкий шпиц. Об этом рассказали агентству новостей «Москва» в Российской кинологической федерации. Кинологи предположили, что причина всплеска народной любви к немецким шпицам в их небольших размерах. «Сейчас в стране востребованы компаньоны. Возможно, это связано с тем, что чаще всего животных заводят жители городов, которым комфортнее содержать маленькую собачку в квартире», — объясняют специалисты.\\n',\n",
       " 'Однако большая часть пород, попавших в список популярности, относится все же к крупным.\\n',\n",
       " 'Следом за немецкими шпицами в рейтинге идут сибирский хаски, йоркширский терьер, акита-ину, среднеазиатская овчарка, немецкая овчарка, такса, сиба-ину, американский стаффордширский терьер и тибетский мастиф.\\n',\n",
       " 'Немецкие шпицы пользовались любовью у россиян и в прошлом году. Тогда всю тройку лидеров рейтинга, составленного РКФ, составили псы маленьких размеров — на втором и третьем местах оказались йоркширские терьеры и чихуахуа. В перечне, опубликованном «Известиями», вслед за небольшими породами следовали крупные — на четвертом месте оказались немецкие овчарки, а следом шли лабрадоры. Места с шестого по десятое заняли среднеазиатская овчарка, сибирский хаски, джек-рассел-терьер, мопс и французский бульдог — в том, что касается размеров любимых собак россиян, оказалось соблюдено полное равновесие.\\n',\n",
       " 'Йоркширских терьеров, немецких шпицев и чихуахуа любили и в 2017-м. Тогда в преддверии наступления года собаки онлайн-магазин Avito опубликовал рейтинг, который позволял оценить популярность той или иной породы в разных городах России — он основывался на количестве покупок собак. Как оказалось, в целом России наибольшим спросом пользовались щенки йоркширских терьеров (9,72%) и немецких шпицев, отставшие от лидеров всего на 0,01. Щенками чихуахуа интересовались 8% россиян, а четвертую и пятую позиции заняли немецкие овчарки (7,5%) и той-терьеры (6,3%).\\n',\n",
       " 'При этом жители Казани, как оказалось, больше всего любят именно немецких овчарок — там эти большие, умные и преданные собаки оказались в лидерах. А в Москве, Санкт-Петербурге, Нижнем Новгороде и Самаре в рейтинг вошли энергичные и шумные псы породы джек-рассел-терьер.\\n',\n",
       " 'Удивительно, что в списках последних лет отсутствуют лабрадоры и золотые ретриверы — умные, нежные, добрые и уравновешенные псы, пользовавшиеся безусловной любовью россиян с начала XXI века. В последний раз названия этих пород можно было увидеть в рейтинге в 2016-м — тогда агентство «Москва» со ссылкой на РКФ сообщало, что они оказались на четвертом месте списка пород, популярных в столице.\\n',\n",
       " 'В нынешнем перечне нет и любимых собак английской королевы Елизаветы II, корги: бум популярности этой породы, как рассказывала «Афиша», Москва пережила в 2014-м.\\n',\n",
       " 'В целом за последние 10 лет список самых популярных в России пород собак претерпел незначительные изменения: россияне демонстрируют завидное постоянство.\\n',\n",
       " 'В июле 2019-го портал News.Ru опубликовал данные, предоставленные президентом Российской кинологической федерации Владимиром Голубевым – в распоряжении редакции оказались списки за 2008-2009 и за 2018-2019 годы.\\n',\n",
       " 'Как оказалось, популярность немецких шпицев резко возросла — за десять лет они скакнули с восьмого на первое место, остались в лидерах чихуахуа и йоркширские терьеры (третье и первое места соответственно — десять лет назад, второе и третье — сегодня). По оценке РКФ, по сравнению с прошлым десятилетием резко возросло число корги — в 2005 году в РКФ были зарегистрированы 104 пса этой породы, а в период с апреля 2018-го по апрель 2019-го — почти 7500.\\n',\n",
       " 'Полюбили россияне, помимо корги, еще и сибирских хаски, джек-рассл-терьеров, французских бульдогов. А вот шарпеев и мопсов заводят сейчас все реже и реже — они из рейтинга совсем исчезли.\\n',\n",
       " 'По каким причинам россияне резко проникаются любовью к тем или иным породам собак, попытался объяснить News.Ru ректор Первого профессионального кинологического института Константин Карапетьянц. Он предположил, что моду диктуют знаменитости. «Я думаю, скачок цен на вельш-корги связан с популярностью в России британской королевской семьи. У королевы Елизаветы есть несколько собак этой породы. А моду на шпицев диктуют наши знаменитости. Они появляются на мероприятиях с ними на руках. За ними все повторяют» , — рассказал Карапетьянц.\\n',\n",
       " 'Правда, он немного ошибся — последняя корги Елизаветы II умерла в октябре 2018 года, и с тех пор она решила собак больше не заводить. Однако это действительно любимая порода главы британской королевской семьи: с 1952 года, когда королева взошла на трон, она успела воспитать и проводить в последний путь более тридцати корги и дорги.']"
      ]
     },
     "execution_count": 7,
     "metadata": {},
     "output_type": "execute_result"
    }
   ],
   "source": [
    "real_paragraphs"
   ]
  },
  {
   "cell_type": "code",
   "execution_count": 5,
   "metadata": {},
   "outputs": [
    {
     "data": {
      "text/plain": [
       "[[0, 1, 2, 3],\n",
       " [4, 5, 6, 7],\n",
       " [8, 9, 10, 11],\n",
       " [12, 13, 14, 15],\n",
       " [16],\n",
       " [17, 18, 19],\n",
       " [20],\n",
       " [21, 22, 23, 24],\n",
       " [25, 26, 27, 28, 29],\n",
       " [30, 31, 32, 33],\n",
       " [34]]"
      ]
     },
     "execution_count": 5,
     "metadata": {},
     "output_type": "execute_result"
    }
   ],
   "source": [
    "segments"
   ]
  },
  {
   "cell_type": "code",
   "execution_count": 18,
   "metadata": {},
   "outputs": [],
   "source": [
    "l = [[\"a\", \"b\", \"gfhf\"],[\"c\", \"d\"]]"
   ]
  },
  {
   "cell_type": "code",
   "execution_count": 24,
   "metadata": {},
   "outputs": [],
   "source": [
    "from nltk.metrics.segmentation import pk, windowdiff"
   ]
  },
  {
   "cell_type": "code",
   "execution_count": 31,
   "metadata": {},
   "outputs": [
    {
     "data": {
      "text/plain": [
       "0.75"
      ]
     },
     "execution_count": 31,
     "metadata": {},
     "output_type": "execute_result"
    }
   ],
   "source": [
    "# 1 - gold, 2 - pred, boundary = 1\n",
    "pk\n",
    "pk(new_l, \"00000\", k = int(5/2))"
   ]
  },
  {
   "cell_type": "code",
   "execution_count": 30,
   "metadata": {},
   "outputs": [
    {
     "ename": "NameError",
     "evalue": "name 'sents' is not defined",
     "output_type": "error",
     "traceback": [
      "\u001b[0;31m---------------------------------------------------------------------------\u001b[0m",
      "\u001b[0;31mNameError\u001b[0m                                 Traceback (most recent call last)",
      "\u001b[0;32m<ipython-input-30-a0c8553f8d60>\u001b[0m in \u001b[0;36m<module>\u001b[0;34m\u001b[0m\n\u001b[0;32m----> 1\u001b[0;31m \u001b[0mlen\u001b[0m\u001b[0;34m(\u001b[0m\u001b[0msents\u001b[0m\u001b[0;34m)\u001b[0m\u001b[0;34m/\u001b[0m\u001b[0mlen\u001b[0m\u001b[0;34m(\u001b[0m\u001b[0mparagraphs\u001b[0m\u001b[0;34m)\u001b[0m\u001b[0;34m\u001b[0m\u001b[0;34m\u001b[0m\u001b[0m\n\u001b[0m",
      "\u001b[0;31mNameError\u001b[0m: name 'sents' is not defined"
     ]
    }
   ],
   "source": [
    "int(len(sents)/len(paragraphs))"
   ]
  },
  {
   "cell_type": "code",
   "execution_count": 32,
   "metadata": {},
   "outputs": [
    {
     "name": "stdout",
     "output_type": "stream",
     "text": [
      "[['0', '0', '0'], ['0', '0']]\n",
      "00101\n"
     ]
    }
   ],
   "source": [
    "l = [[\"a\", \"b\", \"gfhf\"],[\"c\", \"d\"]]\n",
    "\n",
    "l = [[str(0) for i in j] for j in l]\n",
    "print(l)\n",
    "new_l = []\n",
    "for i in l:\n",
    "    i[-1] = \"1\"\n",
    "    new_l.extend(i)\n",
    "new_l = \"\".join(new_l)\n",
    "print(new_l)"
   ]
  },
  {
   "cell_type": "code",
   "execution_count": 11,
   "metadata": {},
   "outputs": [
    {
     "ename": "TypeError",
     "evalue": "list indices must be integers or slices, not list",
     "output_type": "error",
     "traceback": [
      "\u001b[0;31m---------------------------------------------------------------------------\u001b[0m",
      "\u001b[0;31mTypeError\u001b[0m                                 Traceback (most recent call last)",
      "\u001b[0;32m<ipython-input-11-5eadddd3ee3b>\u001b[0m in \u001b[0;36m<module>\u001b[0;34m\u001b[0m\n\u001b[1;32m      3\u001b[0m \u001b[0;32mfor\u001b[0m \u001b[0mi\u001b[0m \u001b[0;32min\u001b[0m \u001b[0ml\u001b[0m\u001b[0;34m:\u001b[0m\u001b[0;34m\u001b[0m\u001b[0;34m\u001b[0m\u001b[0m\n\u001b[1;32m      4\u001b[0m     \u001b[0mcur_index\u001b[0m \u001b[0;34m=\u001b[0m \u001b[0;36m0\u001b[0m\u001b[0;34m\u001b[0m\u001b[0;34m\u001b[0m\u001b[0m\n\u001b[0;32m----> 5\u001b[0;31m     \u001b[0mind\u001b[0m \u001b[0;34m=\u001b[0m \u001b[0;34m[\u001b[0m\u001b[0;36m0\u001b[0m \u001b[0;32mfor\u001b[0m \u001b[0mi\u001b[0m \u001b[0;32min\u001b[0m \u001b[0mlen\u001b[0m\u001b[0;34m(\u001b[0m\u001b[0ml\u001b[0m\u001b[0;34m[\u001b[0m\u001b[0mi\u001b[0m\u001b[0;34m]\u001b[0m\u001b[0;34m)\u001b[0m\u001b[0;34m]\u001b[0m\u001b[0;34m\u001b[0m\u001b[0;34m\u001b[0m\u001b[0m\n\u001b[0m\u001b[1;32m      6\u001b[0m     \u001b[0mprint\u001b[0m\u001b[0;34m(\u001b[0m\u001b[0mind\u001b[0m\u001b[0;34m)\u001b[0m\u001b[0;34m\u001b[0m\u001b[0;34m\u001b[0m\u001b[0m\n",
      "\u001b[0;31mTypeError\u001b[0m: list indices must be integers or slices, not list"
     ]
    }
   ],
   "source": [
    "cur_index = 0\n",
    "indices = []\n",
    "for i in l:\n",
    "    cur_index = 0\n",
    "    ind = [0 for i in len(l[i])]\n",
    "    print(ind)"
   ]
  },
  {
   "cell_type": "code",
   "execution_count": 9,
   "metadata": {},
   "outputs": [],
   "source": [
    "l_indices = [len(i) for i in l]"
   ]
  },
  {
   "cell_type": "code",
   "execution_count": 10,
   "metadata": {},
   "outputs": [
    {
     "data": {
      "text/plain": [
       "[2, 2]"
      ]
     },
     "execution_count": 10,
     "metadata": {},
     "output_type": "execute_result"
    }
   ],
   "source": [
    "l_indices"
   ]
  },
  {
   "cell_type": "code",
   "execution_count": null,
   "metadata": {},
   "outputs": [],
   "source": []
  },
  {
   "cell_type": "code",
   "execution_count": null,
   "metadata": {},
   "outputs": [],
   "source": []
  }
 ],
 "metadata": {
  "kernelspec": {
   "display_name": "Python 3",
   "language": "python",
   "name": "python3"
  },
  "language_info": {
   "codemirror_mode": {
    "name": "ipython",
    "version": 3
   },
   "file_extension": ".py",
   "mimetype": "text/x-python",
   "name": "python",
   "nbconvert_exporter": "python",
   "pygments_lexer": "ipython3",
   "version": "3.7.3"
  }
 },
 "nbformat": 4,
 "nbformat_minor": 2
}
