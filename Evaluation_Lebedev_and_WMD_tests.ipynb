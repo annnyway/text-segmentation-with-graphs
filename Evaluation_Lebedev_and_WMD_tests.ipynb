{
 "cells": [
  {
   "cell_type": "markdown",
   "metadata": {},
   "source": [
    "## Evaluation (Lebedev dataset), tests on WMD similarity"
   ]
  },
  {
   "cell_type": "code",
   "execution_count": 1,
   "metadata": {},
   "outputs": [],
   "source": [
    "from gensim.models import KeyedVectors\n",
    "import numpy as np\n",
    "import os\n",
    "from tqdm.auto import tqdm\n",
    "import pandas as pd\n",
    "\n",
    "import functions as f "
   ]
  },
  {
   "cell_type": "code",
   "execution_count": 2,
   "metadata": {},
   "outputs": [],
   "source": [
    "model = KeyedVectors.load('/Users/nikolaevaanna/Downloads/187/model.model')\n",
    "# model.init_sims(replace=True)"
   ]
  },
  {
   "cell_type": "markdown",
   "metadata": {},
   "source": [
    "# Лебедев texts"
   ]
  },
  {
   "cell_type": "markdown",
   "metadata": {},
   "source": [
    "## 1.1 Bipartite + Subgraphs"
   ]
  },
  {
   "cell_type": "code",
   "execution_count": 65,
   "metadata": {},
   "outputs": [
    {
     "data": {
      "text/plain": [
       "[1.0, 1.2, 1.4, 1.6, 1.8, 2.0, 2.2, 2.4, 2.6]"
      ]
     },
     "execution_count": 65,
     "metadata": {},
     "output_type": "execute_result"
    }
   ],
   "source": [
    "tau_candidates = [round(i,2) for i in list(0.01 * np.arange(100, 270, 20))]\n",
    "tau_candidates"
   ]
  },
  {
   "cell_type": "code",
   "execution_count": 66,
   "metadata": {},
   "outputs": [],
   "source": [
    "tau_dict_pk = {i:[] for i in tau_candidates}\n",
    "tau_dict_windowdiff = {i:[] for i in tau_candidates}"
   ]
  },
  {
   "cell_type": "code",
   "execution_count": 3,
   "metadata": {},
   "outputs": [],
   "source": [
    "text_paths = sorted([\"texts/lebedev/\" + i for i in os.listdir(\"texts/lebedev\")])"
   ]
  },
  {
   "cell_type": "code",
   "execution_count": 4,
   "metadata": {},
   "outputs": [
    {
     "data": {
      "text/plain": [
       "['texts/lebedev/01.txt',\n",
       " 'texts/lebedev/02.txt',\n",
       " 'texts/lebedev/03.txt',\n",
       " 'texts/lebedev/04.txt',\n",
       " 'texts/lebedev/05.txt',\n",
       " 'texts/lebedev/06.txt',\n",
       " 'texts/lebedev/07.txt']"
      ]
     },
     "execution_count": 4,
     "metadata": {},
     "output_type": "execute_result"
    }
   ],
   "source": [
    "text_paths"
   ]
  },
  {
   "cell_type": "markdown",
   "metadata": {},
   "source": [
    "Finding optimal tau"
   ]
  },
  {
   "cell_type": "code",
   "execution_count": 69,
   "metadata": {
    "scrolled": false
   },
   "outputs": [
    {
     "data": {
      "application/vnd.jupyter.widget-view+json": {
       "model_id": "347ed427eb6745b6b516cd82d75d4204",
       "version_major": 2,
       "version_minor": 0
      },
      "text/plain": [
       "HBox(children=(IntProgress(value=0, max=4), HTML(value='')))"
      ]
     },
     "metadata": {},
     "output_type": "display_data"
    },
    {
     "name": "stdout",
     "output_type": "stream",
     "text": [
      "Lemmatizing sentences\n",
      "10 7\n",
      "Lemmatizing sentences\n",
      "10 8\n",
      "Lemmatizing sentences\n",
      "10 12\n",
      "Lemmatizing sentences\n",
      "10 15\n",
      "Lemmatizing sentences\n",
      "10 18\n",
      "Lemmatizing sentences\n",
      "10 18\n",
      "Lemmatizing sentences\n",
      "10 25\n",
      "Lemmatizing sentences\n",
      "10 26\n",
      "Lemmatizing sentences\n",
      "10 28\n",
      "Lemmatizing sentences\n",
      "7 5\n",
      "Lemmatizing sentences\n",
      "7 6\n",
      "Lemmatizing sentences\n",
      "7 7\n",
      "Lemmatizing sentences\n",
      "7 9\n",
      "Lemmatizing sentences\n",
      "7 10\n",
      "Lemmatizing sentences\n",
      "7 13\n",
      "Lemmatizing sentences\n",
      "7 15\n",
      "Lemmatizing sentences\n",
      "7 16\n",
      "Lemmatizing sentences\n",
      "7 16\n",
      "Lemmatizing sentences\n",
      "7 2\n",
      "Lemmatizing sentences\n",
      "7 3\n",
      "Lemmatizing sentences\n",
      "7 3\n",
      "Lemmatizing sentences\n",
      "7 5\n",
      "Lemmatizing sentences\n",
      "7 7\n",
      "Lemmatizing sentences\n",
      "7 9\n",
      "Lemmatizing sentences\n",
      "7 12\n",
      "Lemmatizing sentences\n",
      "7 17\n",
      "Lemmatizing sentences\n",
      "7 19\n",
      "Lemmatizing sentences\n",
      "7 4\n",
      "Lemmatizing sentences\n",
      "7 4\n",
      "Lemmatizing sentences\n",
      "7 4\n",
      "Lemmatizing sentences\n",
      "7 5\n",
      "Lemmatizing sentences\n",
      "7 6\n",
      "Lemmatizing sentences\n",
      "7 9\n",
      "Lemmatizing sentences\n",
      "7 12\n",
      "Lemmatizing sentences\n",
      "7 13\n",
      "Lemmatizing sentences\n",
      "7 15\n"
     ]
    }
   ],
   "source": [
    "for path in tqdm(text_paths[:-3]):\n",
    "        \n",
    "    for tau in tau_candidates:\n",
    "        \n",
    "        (sents, \n",
    "         real_paragraphs, \n",
    "         pred_segment_indices, \n",
    "         pred_paragraphs) = f.segmentize_bipartite_subgraphs(path, \n",
    "                                                    model=model,\n",
    "                                                    tau=tau,\n",
    "                                                    wmd=False)\n",
    "        \n",
    "        print(len(real_paragraphs), len(pred_segment_indices))\n",
    "        if len(pred_segment_indices) < len(real_paragraphs)/2 or len(pred_segment_indices) > len(real_paragraphs)*2:\n",
    "            continue\n",
    "        \n",
    "        k = round(0.5*len(sents)/len(real_paragraphs))\n",
    "        scores = f.evaluate(f.gold_segment_indices(real_paragraphs), pred_segment_indices, k=k)\n",
    "            \n",
    "        \n",
    "        tau_dict_pk[tau].append(scores[\"pk\"])\n",
    "        tau_dict_windowdiff[tau].append(scores[\"windowdiff\"])"
   ]
  },
  {
   "cell_type": "code",
   "execution_count": 71,
   "metadata": {},
   "outputs": [
    {
     "data": {
      "text/plain": [
       "{1.6: [0.32038834951456313,\n",
       "  0.37254901960784315,\n",
       "  0.42592592592592593,\n",
       "  0.6086956521739131],\n",
       " 1.8: [0.39805825242718446,\n",
       "  0.35294117647058826,\n",
       "  0.5370370370370371,\n",
       "  0.5434782608695652],\n",
       " 2.0: [0.4174757281553398,\n",
       "  0.29411764705882354,\n",
       "  0.46296296296296297,\n",
       "  0.43478260869565216]}"
      ]
     },
     "execution_count": 71,
     "metadata": {},
     "output_type": "execute_result"
    }
   ],
   "source": [
    "tau_dict_pk_short = {k:v for k,v in tau_dict_pk.items() if len(v) == 4}\n",
    "tau_dict_pk_short"
   ]
  },
  {
   "cell_type": "code",
   "execution_count": 72,
   "metadata": {},
   "outputs": [
    {
     "data": {
      "text/html": [
       "<div>\n",
       "<style scoped>\n",
       "    .dataframe tbody tr th:only-of-type {\n",
       "        vertical-align: middle;\n",
       "    }\n",
       "\n",
       "    .dataframe tbody tr th {\n",
       "        vertical-align: top;\n",
       "    }\n",
       "\n",
       "    .dataframe thead th {\n",
       "        text-align: right;\n",
       "    }\n",
       "</style>\n",
       "<table border=\"1\" class=\"dataframe\">\n",
       "  <thead>\n",
       "    <tr style=\"text-align: right;\">\n",
       "      <th></th>\n",
       "      <th>1.6</th>\n",
       "      <th>1.8</th>\n",
       "      <th>2.0</th>\n",
       "    </tr>\n",
       "  </thead>\n",
       "  <tbody>\n",
       "    <tr>\n",
       "      <th>0</th>\n",
       "      <td>0.320388</td>\n",
       "      <td>0.398058</td>\n",
       "      <td>0.417476</td>\n",
       "    </tr>\n",
       "    <tr>\n",
       "      <th>1</th>\n",
       "      <td>0.372549</td>\n",
       "      <td>0.352941</td>\n",
       "      <td>0.294118</td>\n",
       "    </tr>\n",
       "    <tr>\n",
       "      <th>2</th>\n",
       "      <td>0.425926</td>\n",
       "      <td>0.537037</td>\n",
       "      <td>0.462963</td>\n",
       "    </tr>\n",
       "    <tr>\n",
       "      <th>3</th>\n",
       "      <td>0.608696</td>\n",
       "      <td>0.543478</td>\n",
       "      <td>0.434783</td>\n",
       "    </tr>\n",
       "  </tbody>\n",
       "</table>\n",
       "</div>"
      ],
      "text/plain": [
       "        1.6       1.8       2.0\n",
       "0  0.320388  0.398058  0.417476\n",
       "1  0.372549  0.352941  0.294118\n",
       "2  0.425926  0.537037  0.462963\n",
       "3  0.608696  0.543478  0.434783"
      ]
     },
     "execution_count": 72,
     "metadata": {},
     "output_type": "execute_result"
    }
   ],
   "source": [
    "pd.DataFrame(tau_dict_pk_short)"
   ]
  },
  {
   "cell_type": "code",
   "execution_count": 73,
   "metadata": {},
   "outputs": [
    {
     "data": {
      "text/plain": [
       "{1.6: 0.4318897368055613, 1.8: 0.45787868170109375, 2.0: 0.4023347367181946}"
      ]
     },
     "execution_count": 73,
     "metadata": {},
     "output_type": "execute_result"
    }
   ],
   "source": [
    "tau_dict_pk_mean = {k:np.mean(v) for k,v in tau_dict_pk_short.items()}\n",
    "tau_dict_pk_mean"
   ]
  },
  {
   "cell_type": "code",
   "execution_count": null,
   "metadata": {},
   "outputs": [],
   "source": [
    "# for pk the best tau is 2"
   ]
  },
  {
   "cell_type": "code",
   "execution_count": 74,
   "metadata": {},
   "outputs": [
    {
     "data": {
      "text/html": [
       "<div>\n",
       "<style scoped>\n",
       "    .dataframe tbody tr th:only-of-type {\n",
       "        vertical-align: middle;\n",
       "    }\n",
       "\n",
       "    .dataframe tbody tr th {\n",
       "        vertical-align: top;\n",
       "    }\n",
       "\n",
       "    .dataframe thead th {\n",
       "        text-align: right;\n",
       "    }\n",
       "</style>\n",
       "<table border=\"1\" class=\"dataframe\">\n",
       "  <thead>\n",
       "    <tr style=\"text-align: right;\">\n",
       "      <th></th>\n",
       "      <th>1.6</th>\n",
       "      <th>1.8</th>\n",
       "      <th>2.0</th>\n",
       "    </tr>\n",
       "  </thead>\n",
       "  <tbody>\n",
       "    <tr>\n",
       "      <th>0</th>\n",
       "      <td>0.475728</td>\n",
       "      <td>0.563107</td>\n",
       "      <td>0.582524</td>\n",
       "    </tr>\n",
       "    <tr>\n",
       "      <th>1</th>\n",
       "      <td>0.431373</td>\n",
       "      <td>0.411765</td>\n",
       "      <td>0.431373</td>\n",
       "    </tr>\n",
       "    <tr>\n",
       "      <th>2</th>\n",
       "      <td>0.462963</td>\n",
       "      <td>0.574074</td>\n",
       "      <td>0.555556</td>\n",
       "    </tr>\n",
       "    <tr>\n",
       "      <th>3</th>\n",
       "      <td>0.652174</td>\n",
       "      <td>0.586957</td>\n",
       "      <td>0.543478</td>\n",
       "    </tr>\n",
       "  </tbody>\n",
       "</table>\n",
       "</div>"
      ],
      "text/plain": [
       "        1.6       1.8       2.0\n",
       "0  0.475728  0.563107  0.582524\n",
       "1  0.431373  0.411765  0.431373\n",
       "2  0.462963  0.574074  0.555556\n",
       "3  0.652174  0.586957  0.543478"
      ]
     },
     "execution_count": 74,
     "metadata": {},
     "output_type": "execute_result"
    }
   ],
   "source": [
    "tau_dict_windowdiff_short = {k:v for k,v in tau_dict_windowdiff.items() if len(v) == 4}\n",
    "pd.DataFrame(tau_dict_windowdiff_short)"
   ]
  },
  {
   "cell_type": "code",
   "execution_count": 75,
   "metadata": {
    "scrolled": false
   },
   "outputs": [
    {
     "data": {
      "text/plain": [
       "{1.6: 0.5055593950914637, 1.8: 0.5339755244530155, 2.0: 0.5282326593223472}"
      ]
     },
     "execution_count": 75,
     "metadata": {},
     "output_type": "execute_result"
    }
   ],
   "source": [
    "{k:np.mean(v) for k,v in tau_dict_windowdiff_short.items()}"
   ]
  },
  {
   "cell_type": "code",
   "execution_count": 93,
   "metadata": {},
   "outputs": [],
   "source": [
    "# for windowdiff the best tau is 1.6\n",
    "# let tau be 1.8 "
   ]
  },
  {
   "cell_type": "markdown",
   "metadata": {},
   "source": [
    "## Testing (3 texts)"
   ]
  },
  {
   "cell_type": "code",
   "execution_count": 113,
   "metadata": {},
   "outputs": [],
   "source": [
    "tau = 1.8"
   ]
  },
  {
   "cell_type": "code",
   "execution_count": 114,
   "metadata": {},
   "outputs": [
    {
     "data": {
      "application/vnd.jupyter.widget-view+json": {
       "model_id": "408a3c728f26453381a9ed3efc22f885",
       "version_major": 2,
       "version_minor": 0
      },
      "text/plain": [
       "HBox(children=(IntProgress(value=0, max=3), HTML(value='')))"
      ]
     },
     "metadata": {},
     "output_type": "display_data"
    },
    {
     "name": "stdout",
     "output_type": "stream",
     "text": [
      "Lemmatizing sentences\n",
      "12 12\n",
      "Lemmatizing sentences\n",
      "9 15\n",
      "Lemmatizing sentences\n",
      "8 5\n"
     ]
    }
   ],
   "source": [
    "all_scores = {\"pk\":[], \"windowdiff\":[]}\n",
    "real_pars = []\n",
    "pred_pars = []\n",
    "\n",
    "\n",
    "for path in tqdm(text_paths[-3:]):\n",
    "        \n",
    "    (sents, \n",
    "         real_paragraphs, \n",
    "         pred_segment_indices, \n",
    "         pred_paragraphs) = f.segmentize_bipartite_subgraphs(path, \n",
    "                                                    model=model,\n",
    "                                                    tau=tau,\n",
    "                                                    wmd=False)\n",
    "        \n",
    "    print(len(real_paragraphs), len(pred_segment_indices))\n",
    "        \n",
    "    k = round(0.5*len(sents)/len(real_paragraphs))\n",
    "    scores = f.evaluate(f.gold_segment_indices(real_paragraphs), pred_segment_indices, k=k)     \n",
    "    \n",
    "        \n",
    "    all_scores[\"pk\"].append(scores[\"pk\"])\n",
    "    all_scores[\"windowdiff\"].append(scores[\"windowdiff\"])\n",
    "    \n",
    "    real_pars.append(real_paragraphs)\n",
    "    pred_pars.append(pred_paragraphs)"
   ]
  },
  {
   "cell_type": "code",
   "execution_count": 115,
   "metadata": {},
   "outputs": [
    {
     "data": {
      "text/plain": [
       "{'pk': [0.5108695652173914, 0.6263736263736264, 0.35185185185185186],\n",
       " 'windowdiff': [0.5217391304347826, 0.7032967032967034, 0.37037037037037035]}"
      ]
     },
     "execution_count": 115,
     "metadata": {},
     "output_type": "execute_result"
    }
   ],
   "source": [
    "all_scores"
   ]
  },
  {
   "cell_type": "code",
   "execution_count": 116,
   "metadata": {},
   "outputs": [
    {
     "data": {
      "text/plain": [
       "0.49636501448095655"
      ]
     },
     "execution_count": 116,
     "metadata": {},
     "output_type": "execute_result"
    }
   ],
   "source": [
    "np.mean(all_scores[\"pk\"])"
   ]
  },
  {
   "cell_type": "code",
   "execution_count": 117,
   "metadata": {
    "scrolled": true
   },
   "outputs": [
    {
     "data": {
      "text/plain": [
       "0.5318020680339521"
      ]
     },
     "execution_count": 117,
     "metadata": {},
     "output_type": "execute_result"
    }
   ],
   "source": [
    "np.mean(all_scores[\"windowdiff\"])"
   ]
  },
  {
   "cell_type": "code",
   "execution_count": 118,
   "metadata": {
    "scrolled": true
   },
   "outputs": [
    {
     "data": {
      "text/plain": [
       "[['В Австрии есть прекрасный старинный замок на скале - Хохостервиц, про который существует не менее древняя легенда.',\n",
       "  'Войска под предводительством Маргариты Маульташ (типа самой уродливой женщины всех времен и народов) осадили замок.'],\n",
       " ['Решили брать измором, но стояли так долго, что начали голодать сами.',\n",
       "  'В последний момент комендант замка решил нафаршировать остатками зерна последнюю корову и катапультировать ее на врага.',\n",
       "  'Это была последняя еда оборонявшихся.',\n",
       "  'Голодные нападавшие решили, что раз у народа в осаде так много жратвы, то дальше стоять нет смысла и съебались.',\n",
       "  'Кажется, что это управленческий парадокс - выкинуть последнюю еду, когда пиздец нечего есть.',\n",
       "  'Но мораль простая: когда нечего терять - блефуй.',\n",
       "  'Очень интересно в языке устроено разделение на важное и ничтожное.',\n",
       "  'Важное - большое или высокое.',\n",
       "  'Ничтожное - маленькое или низкое.',\n",
       "  'Вершина власти.'],\n",
       " ['Унижаться.', 'С высоты положения.'],\n",
       " ['Низко упасть.', 'Возвеличивать правителя.', 'Принижать достоинства.'],\n",
       " ['Сидеть на Олимпе.'],\n",
       " ['Социальное дно.',\n",
       "  'Высший свет.',\n",
       "  'У нас в школе на стене кабинета литературы висели портреты великих писателей.',\n",
       "  'Пушкин был первым и на 20 сантиметров выше, чтобы обозначить свою особую важность.',\n",
       "  'Исторически правитель сидел на троне (штоб выше остальных), а просители кланялись или просто падали ниц, чтобы показать дополнительно, что они даже не пытаются претендовать на равенство.',\n",
       "  'Ваше высокоблагородие, мы люди маленькие.',\n",
       "  'Нижайше просим ваше высочество.',\n",
       "  'У людей очень плохой интерфейс между фантазиями и реальностью.',\n",
       "  'В этом главная проблема любого творца - как сделать так, чтобы фантазия перешла в реальность при помощи творческих приемов.',\n",
       "  'Потому что без помощи творческих приемов нихуя не получится, никакая фантазия ничего не будет значить для других людей.',\n",
       "  'Чтобы фантазия заработала, ее нужно понятно сформулировать.',\n",
       "  'Это относится совершенно ко всему - от эротической фантазии до идеи сценариста.',\n",
       "  'Как перенести мысль из головы автора к зрителям, слушателям и читателям?',\n",
       "  'Это и есть основная задача любого творчества.'],\n",
       " ['Кстати, именно на этом заваливаются все начинающие фотографы.',\n",
       "  'Они принимают свой кайф от сцены за картинку, которую увидит зритель.',\n",
       "  'А зритель не слышит звуков, не знает контекст, не чувствует температуры, не ценит обстановку, не видит движения.'],\n",
       " ['Поэтому ему похуй на самый лучший на свете закат, потому что на фотке какое-то унылое говно, а не самый лучший закат.'],\n",
       " ['А начинающий фотограф не понимает, что видит зритель, потому что он находится во власти своих фантазий и ощущений, но не умеет их передать.',\n",
       "  'Короче, любой творец ценен своим умением передавать мысли, а не самими мыслями.',\n",
       "  'В Америке страшно дико стали популярны подкасты.',\n",
       "  'Какие-то просто невероятные часы прослушиваний подкастов у среднего американца.',\n",
       "  'Казалось бы, есть радио, есть аудиокниги, есть ютюб на фоне, но американцы слушают подкасты.',\n",
       "  'А у нас не слушают подкасты.',\n",
       "  'Вы можете вспомнить хоть один известный русский подкаст?',\n",
       "  'Или хотя бы неизвестный, но интересный?',\n",
       "  'Когда кто-либо последний раз вам рекомендовал послушать какой-либо подкаст?',\n",
       "  'У меня есть набор базовых установок, которые не меняются уже много десятилетий.',\n",
       "  'Чтобы понять, какая в принципе у меня может быть точка зрения по поводу того или иного вопроса, можно свериться с приведенным ниже списком моих ценностей и позиций.',\n",
       "  'Моя принципы всегда просты: я против любого насилия, против любых убийств, против любых войн, за гармоничное и разностороннее развитие любой личности, за гетеросексуальность с легкими нотками толерантности, за космополитизм с легкими нотками патриотизма, за капитализм, но против корпоративного мудоебства, за просвещенную монархию, за работу с утра до вечера, против пенсий, льгот, нахлебников и бездельников, против популизма.',\n",
       "  'У меня замые замечательные принципы на свете.',\n",
       "  'Если бы все были как я, жизнь была бы еще лучше.',\n",
       "  'Вкус еды и напитков очень сильно зависит от формы посуды.',\n",
       "  'Одна и та же котлета с разных тарелок будет восприниматься по-разному.',\n",
       "  'Еда с деревянной или с фарфоровой тарелки будет иметь разный вкус.',\n",
       "  'Напитки из разных емкостей будут иметь принципиально разный вкус.',\n",
       "  'Если выпить кефир из водочного мерзавчика, он будет одного вкуса, а если из сапога, то совершенно другого.',\n",
       "  'Одно и то же вино из бокалов разной формы будет иметь разный вкус и даже запах (проверьте).',\n",
       "  'Ширина, высота, диаметр, вес, материал посуды - все это имеет огромное влияние на вкус еды и напитков.',\n",
       "  'Мы в школе пили водку из полиэтиленовой обертки от сигаретной пачки, это было омерзительно.',\n",
       "  'Хотя казалось бы - что может испортить водку?',\n",
       "  'Кладбища стремительно теряют свою актуальность.',\n",
       "  'В детстве меня пару раз возили родственники на могилы к предкам.',\n",
       "  'В среднем возрасте я был пару раз на кладбищах, хороня бабушек-дедушек, а так же некоторых друзей и знакомых.',\n",
       "  'Но абсолютно ни разу я не был на какой-либо могиле второй раз.'],\n",
       " ['И не потому что я такая бездушная свинья, а потому что в этом нет никакого смысла.',\n",
       "  'Я помню тех, кто оставил след в моей жизни.',\n",
       "  'Я не помню тех, кто следа не оставил.',\n",
       "  'Поездка к надгробной плите не даст мне ничего, что может дать пересмотр видоса или фоток с ушедшим на тот свет.',\n",
       "  'Думаю, что в будущем никаких кладбищ не будет.',\n",
       "  'Встреча с геометкой места погребения не имеет никакого смысла.',\n",
       "  'Могила - это какой-то лютый архаизм.',\n",
       "  'Раньше я придумывал для себя дизайн могилы, хотел сделать ее интерактивной.',\n",
       "  'Но потом я понял, что лучшая концепция - это развеивание праха на максимально широкой и абстрактной территории.',\n",
       "  'Или я не буду против, если пепел от меня будет использован в качестве удобрения в горшке герани на рандомном подоконнике.'],\n",
       " ['По старой памяти людей еще хоронят на кладбищах или в колумбариях, но смысла в этом больше нет никакого.',\n",
       "  'Что биоразложение, что кремация - одинаково происходят в соответствии с законами физики.',\n",
       "  'Сравнение, как и пример, не являются доказательством в формальной логике.',\n",
       "  'Но разве это ебет обычных людей?',\n",
       "  'Конечно нет.',\n",
       "  'Поэтому сравнение - мощнейший аргумент для доказательства.',\n",
       "  'Например, какая-то жируха скинула балласт, и вешает новые стройные фотки в стиле \"было - стало\".',\n",
       "  'Так вот, очень важно не просто приукрасить \"стало\", но и специально ухудшить \"было\".',\n",
       "  'Добавить в прошлом лишних кило, кожу состарить, добавить еще чего-нибудь неприятного.',\n",
       "  'Тогда сравнение со \"стало\" будет особо убедительным!',\n",
       "  'Это мне чика одна рассказала.'],\n",
       " ['Из серии секретов, которые знает все телки, а мужики не догадываются.',\n",
       "  'Мужики додумываются только \"стало\" улучшить, а \"было\" испортить не догадываются.',\n",
       "  'Что такое ксенофобия?'],\n",
       " ['Это боязнь незнакомого.'],\n",
       " ['Как бороться с ксенофобией?',\n",
       "  'Делать незнакомое знакомым.',\n",
       "  'Дизайн проще всего воспринимать как борьбу с ксенофобией.',\n",
       "  'Чем узнаваемее, тем менее опасно.',\n",
       "  'Задача большинства брендов - примелькаться и тем самым обозначить неопасность.'],\n",
       " ['Знакомые бренды становятся безопасными, потом различимыми в толпе, а потом даже любимыми.',\n",
       "  'Незнакомые бренды - \"китайское говно\".']]"
      ]
     },
     "execution_count": 118,
     "metadata": {},
     "output_type": "execute_result"
    }
   ],
   "source": [
    "pred_pars[1]"
   ]
  },
  {
   "cell_type": "markdown",
   "metadata": {},
   "source": [
    "## Testing (all texts)"
   ]
  },
  {
   "cell_type": "code",
   "execution_count": 6,
   "metadata": {},
   "outputs": [
    {
     "data": {
      "application/vnd.jupyter.widget-view+json": {
       "model_id": "2c723dc47b454414a67cbf63a671afa0",
       "version_major": 2,
       "version_minor": 0
      },
      "text/plain": [
       "HBox(children=(IntProgress(value=0, max=7), HTML(value='')))"
      ]
     },
     "metadata": {},
     "output_type": "display_data"
    },
    {
     "name": "stdout",
     "output_type": "stream",
     "text": [
      "Lemmatizing sentences\n",
      "10 18\n",
      "Lemmatizing sentences\n",
      "7 10\n",
      "Lemmatizing sentences\n",
      "7 7\n",
      "Lemmatizing sentences\n",
      "7 6\n",
      "Lemmatizing sentences\n",
      "12 12\n",
      "Lemmatizing sentences\n",
      "9 15\n",
      "Lemmatizing sentences\n",
      "8 5\n"
     ]
    }
   ],
   "source": [
    "all_scores = {\"pk\":[], \"windowdiff\":[]}\n",
    "real_pars = []\n",
    "pred_pars = []\n",
    "tau = 1.8\n",
    "\n",
    "for path in tqdm(text_paths):\n",
    "        \n",
    "    (sents, \n",
    "         real_paragraphs, \n",
    "         pred_segment_indices, \n",
    "         pred_paragraphs) = f.segmentize_bipartite_subgraphs(path, \n",
    "                                                    model=model,\n",
    "                                                    tau=tau,\n",
    "                                                    wmd=False)\n",
    "        \n",
    "    print(len(real_paragraphs), len(pred_segment_indices))\n",
    "        \n",
    "    k = round(0.5*len(sents)/len(real_paragraphs))\n",
    "    scores = f.evaluate(f.gold_segment_indices(real_paragraphs), pred_segment_indices, k=k)     \n",
    "    \n",
    "        \n",
    "    all_scores[\"pk\"].append(scores[\"pk\"])\n",
    "    all_scores[\"windowdiff\"].append(scores[\"windowdiff\"])\n",
    "    \n",
    "    real_pars.append(real_paragraphs)\n",
    "    pred_pars.append(pred_paragraphs)"
   ]
  },
  {
   "cell_type": "code",
   "execution_count": 7,
   "metadata": {},
   "outputs": [
    {
     "data": {
      "text/plain": [
       "{'pk': [0.39805825242718446,\n",
       "  0.35294117647058826,\n",
       "  0.5370370370370371,\n",
       "  0.5434782608695652,\n",
       "  0.5108695652173914,\n",
       "  0.6263736263736264,\n",
       "  0.35185185185185186],\n",
       " 'windowdiff': [0.5631067961165048,\n",
       "  0.4117647058823529,\n",
       "  0.5740740740740741,\n",
       "  0.5869565217391305,\n",
       "  0.5217391304347826,\n",
       "  0.7032967032967034,\n",
       "  0.37037037037037035]}"
      ]
     },
     "execution_count": 7,
     "metadata": {},
     "output_type": "execute_result"
    }
   ],
   "source": [
    "all_scores"
   ]
  },
  {
   "cell_type": "code",
   "execution_count": 8,
   "metadata": {},
   "outputs": [
    {
     "data": {
      "text/plain": [
       "0.47437282432103495"
      ]
     },
     "execution_count": 8,
     "metadata": {},
     "output_type": "execute_result"
    }
   ],
   "source": [
    "np.mean(all_scores[\"pk\"])"
   ]
  },
  {
   "cell_type": "code",
   "execution_count": 9,
   "metadata": {},
   "outputs": [
    {
     "data": {
      "text/plain": [
       "0.5330440431305598"
      ]
     },
     "execution_count": 9,
     "metadata": {},
     "output_type": "execute_result"
    }
   ],
   "source": [
    "np.mean(all_scores[\"windowdiff\"])"
   ]
  },
  {
   "cell_type": "markdown",
   "metadata": {},
   "source": [
    "# 1.2 Clustering"
   ]
  },
  {
   "cell_type": "markdown",
   "metadata": {},
   "source": [
    "## Test"
   ]
  },
  {
   "cell_type": "code",
   "execution_count": 120,
   "metadata": {},
   "outputs": [],
   "source": [
    "# we don't have hyperparameters, so just cluster words in texts\n",
    "all_scores = {\"pk\":[], \"windowdiff\":[]}\n",
    "real_pars = []\n",
    "pred_pars = []"
   ]
  },
  {
   "cell_type": "code",
   "execution_count": 121,
   "metadata": {},
   "outputs": [
    {
     "data": {
      "application/vnd.jupyter.widget-view+json": {
       "model_id": "bb8c987a2f604f18a7426ec0bb8a16be",
       "version_major": 2,
       "version_minor": 0
      },
      "text/plain": [
       "HBox(children=(IntProgress(value=0, max=3), HTML(value='')))"
      ]
     },
     "metadata": {},
     "output_type": "display_data"
    },
    {
     "name": "stdout",
     "output_type": "stream",
     "text": [
      "Lemmatizing sentences\n",
      "12 15\n",
      "Lemmatizing sentences\n",
      "9 13\n",
      "Lemmatizing sentences\n",
      "8 10\n"
     ]
    }
   ],
   "source": [
    "for path in tqdm(text_paths[-3:]):\n",
    "        \n",
    "    (sents, \n",
    "         real_paragraphs, \n",
    "         pred_segment_indices, \n",
    "         pred_paragraphs) = f.segmentize_by_clustering(path, \n",
    "                                                    model=model)\n",
    "        \n",
    "    print(len(real_paragraphs), len(pred_segment_indices))\n",
    "        \n",
    "    k = round(0.5*len(sents)/len(real_paragraphs))\n",
    "    scores = f.evaluate(f.gold_segment_indices(real_paragraphs), pred_segment_indices, k=k)     \n",
    "    \n",
    "        \n",
    "    all_scores[\"pk\"].append(scores[\"pk\"])\n",
    "    all_scores[\"windowdiff\"].append(scores[\"windowdiff\"])\n",
    "    \n",
    "    real_pars.append(real_paragraphs)\n",
    "    pred_pars.append(pred_paragraphs)"
   ]
  },
  {
   "cell_type": "code",
   "execution_count": 122,
   "metadata": {},
   "outputs": [
    {
     "data": {
      "text/plain": [
       "{'pk': [0.41304347826086957, 0.5274725274725275, 0.2777777777777778],\n",
       " 'windowdiff': [0.42391304347826086, 0.5494505494505495, 0.2962962962962963]}"
      ]
     },
     "execution_count": 122,
     "metadata": {},
     "output_type": "execute_result"
    }
   ],
   "source": [
    "all_scores"
   ]
  },
  {
   "cell_type": "code",
   "execution_count": 123,
   "metadata": {},
   "outputs": [
    {
     "data": {
      "text/plain": [
       "0.4060979278370582"
      ]
     },
     "execution_count": 123,
     "metadata": {},
     "output_type": "execute_result"
    }
   ],
   "source": [
    "np.mean(all_scores[\"pk\"])"
   ]
  },
  {
   "cell_type": "code",
   "execution_count": 124,
   "metadata": {},
   "outputs": [
    {
     "data": {
      "text/plain": [
       "0.42321996307503557"
      ]
     },
     "execution_count": 124,
     "metadata": {},
     "output_type": "execute_result"
    }
   ],
   "source": [
    "np.mean(all_scores[\"windowdiff\"])"
   ]
  },
  {
   "cell_type": "code",
   "execution_count": 125,
   "metadata": {
    "scrolled": false
   },
   "outputs": [
    {
     "data": {
      "text/plain": [
       "[['Пиздец, больше всего на свете меня бесит, что в кино продают треульные начос и круглые банки с сыром.',\n",
       "  'И начос в эту банку залезает только одним уголочком.',\n",
       "  'И ты должен каждый раз откусывать уголок, чтобы начос приобрел более прямоугольную форму и начал в банку с сыром залезать.',\n",
       "  'Вот почему не сделать банки с сыром такой формы, чтобы начос в них сразу было удобно макать?',\n",
       "  'Пиздец, самая большая тупость на свете - это концепция \"здоровой еды\".',\n",
       "  'Епта, если не пить серную кислоту и не заедать ее асбестом, любая еда - здоровая.',\n",
       "  'Когда человек поел, он живет.'],\n",
       " ['Ну а если не будет есть, то в какой-то момент помрет.У каждого поколения есть свои пищевые стереотипы - то надо есть жир, то не надо, то слова надо.',\n",
       "  'Единственное, что точно известно: надо срать на все мнения и есть любую еду.',\n",
       "  'Чем разнообразнее, тем лучше.',\n",
       "  'Нет какого-то одного невероятно полезного продукта.',\n",
       "  'Ягоды годжи не спасут никого, а если их есть каждый день, то еще и заебут.',\n",
       "  'Чипсари с колой вредны только тогда, когда человек не ест ничего другого.',\n",
       "  'Но с таким же успехом можно подорвать здоровье поедая только апельсины с укропом.',\n",
       "  'Поэтому: ешьте что хотите и когда хотите.',\n",
       "  'Главное - разнообразие.'],\n",
       " ['Ну а если пучит от панакоты, то просто не надо ее есть, ок?',\n",
       "  'Интересно изучать административную и политическую карту мира.',\n",
       "  'Скажем, в США почте все штаты тупо разграничены по широтам и долготам.',\n",
       "  'Особенно я люблю штат Колорадо, у которого площадь строго прямоугольная.',\n",
       "  'В Африке половина стран на севере делили пустыню шедрой линейкой, потому что там все равно никогда ничего ценного не будет.',\n",
       "  'В России только граница республики Коми и Ненецкого АО похожа на прямую линию.'],\n",
       " ['О чем нам это говорит?',\n",
       "  'Там, где нихуя нет, границы проведены по линейке.',\n",
       "  'Там, где есть что-то интересное и ценное, границы проведены по рельефу - по горам, по рекам, по каким-то еще ориентирам.',\n",
       "  'Сегодня голосовая связь в мессенджерах лучше, чем в телефоне.',\n",
       "  'Сотовые операторы проебали голос.',\n",
       "  'Пока мировые сотовые компании были заняты рубкой бабла, они забыли, что надо заниматься своей основной услугой.'],\n",
       " ['Ирония в том, что они в какой-то момент поняли, что их основная услуга - это передача данных, а не голоса.',\n",
       "  'И начали улучшать передачу данных.',\n",
       "  'И начали запихивать в ускоренные данные свой старый голос, радуясь прибыли.',\n",
       "  'А мессенджеры научились передавать по каналу данных голос прекрасного качества.',\n",
       "  'И выебали сотовых операторов на их же инфраструктуре.'],\n",
       " ['Одни люди пьют воду с газом.',\n",
       "  'Другие люди пьют воду без газа.',\n",
       "  'А есть третьи люди, которые просят смешать воду с газом и без, чтобы получилась слабогазированная вода.',\n",
       "  'Впрочем, бывает в продаже слабогазированная вода, но я никогда не видел ее ни в одном кафе или ресторане.'],\n",
       " ['Сегодня в мире самая распространенная профессия - водитель.',\n",
       "  'При этом нет никаких сомнений, что в ближайшем будущем водителей практически полностью заменят беспилотные автомобили.',\n",
       "  'А это значит, что всем водителям придется находить себе новые занятия.',\n",
       "  'Конечно, какое-то количество водителей останется, так же как и сегодня в больничных лифтах работают лифтеры, а в жилых домах лифтеров больше не осталось.',\n",
       "  'Так что водителям есть смысл задуматься о том, чем они будут заниматься лет через десять.'],\n",
       " ['Сегодня мобильный телефон - источник невероятного количества личной информации про своего владельца.',\n",
       "  'И это, конечно, прекрасно известно любому ревнивому партнеру.',\n",
       "  'Девочки палят нотификейшены у мальчиков, мальчики подсматривают за алертами у девочек.',\n",
       "  'Все хотят краем глаза увидеть, кто там тебе прислал сообщение в телеге, кто лайкнул фотку в инсте, кто отсыпал сердечек в зенли.'],\n",
       " ['Как узнать - палит ли тебя партнер?',\n",
       "  'Для начала выключаешь телефон.',\n",
       "  'Включаешь его, но не по отпечатку и не рожей, чтобы не залогиниться под собой.',\n",
       "  'Включаешь камеру, выбираешь видео, ставишь фронталку, нажимаешь на запись, кладешь телефон экраном на стол и уходишь в толчок.',\n",
       "  'В этот момент на телефон приходит очередной нотификейшн, вибрация, блямк или любой другой сигнал.',\n",
       "  'Или не приходит, это не принципиально.',\n",
       "  'Ревнивый партнер не выдерживает и хватает аппарат.',\n",
       "  'Смотрит на экран - а там идет запись его подлого подглядывания!',\n",
       "  'Отвертеться не удастся.'],\n",
       " ['Даже если партнер сообразительный и сотрет видос, чтобы поставить на запись новый, в удаленных файлах все сохранится.',\n",
       "  'Сейчас большую популярность приобретает западная теория, что после сранья нужно перед спусканием воды закрывать крышку унитаза.',\n",
       "  'Теория в том, что если крышку не закрыть, то микробы от говна поднимутся в воздух и заразят пространство вокруг.',\n",
       "  'А если закрыть крышку, то микробы ударятся в нее и не полетят дальше.',\n",
       "  'Просто пиздец, как это тупо.'],\n",
       " ['Даже если не закрыть крышку, микробы (согласно научному исследованию) поднимутся на 20 сантиметров над очком.',\n",
       "  'Ну как поднимутся, как и опустятся.',\n",
       "  'А если их задержать крышкой, то они точно осядут на крышке.',\n",
       "  'И каждый, кто сядет потом на унитаз, своей майкой с крышки соберет весь этот урожай.',\n",
       "  'Так что я продолжаю утверждать, что крышка на унитазе примерно так же полезна и нужна, как и на газовой плите.'],\n",
       " ['То есть - абсолютно вообще нахуй не нужна.',\n",
       "  'Я тут узнал, что, оказывается, в мире существует дефицит садистов, но совершенно нет никакого дефицита мазохистов.',\n",
       "  'Проблема везде, даже на соответствующих вечеринках.',\n",
       "  'Все готовы страдать, но мало кто готов мучить.В принципе, это соответствует моему представлению об устройстве мира.',\n",
       "  'Некоторые процессы надо делать иррационально, медленно, вручную, неэффективно, устаревшими способами, немодно, незрелищно и пр. Скажем, для часто повторяющихся операций можно написать скрипт.',\n",
       "  'Но иногда ручной копи-пейст помогает лишний раз подумать, оценить и отловить косяк.'],\n",
       " ['Хотя с точки зрения прогресса делать что-либо руками - неправильно.',\n",
       "  'Можно поставить камеру с распознаванием лиц и поз, но иногда эффективнее посадить бабулю, которая вяжет свой носок и поглядывает на проходящих.',\n",
       "  'Один раз на тыщу случаев бабуля окажется нужной, а камера проебет инцидент.',\n",
       "  'Кстати, именно поэтому я терпеть не могу электрические чайники, микроволновки и кондиционеры - они отбирают у меня последнюю радость получения физического удовольствия от чайника на огне, сковородки и вентилятора.',\n",
       "  'Эффективность не всегда нужна.'],\n",
       " ['Кстати, если бы я был американцем, я бы из этой мысли накатал бы книгу на 400 страниц.',\n",
       "  'Но в этом конкретном случае я как раз за эффективность - мысль понятна и в виде этого небольшого постеца.',\n",
       "  'Прикольно, что в СССР в любом учреждении и магазине был перерыв на обед.'],\n",
       " ['Где с часу до двух, где с двух до трех.',\n",
       "  'А после перестройки перерыв на обед исчез как класс навсегда.',\n",
       "  'Никто не готов прийти к двери учреждения и узнать, что там у работников обед.',\n",
       "  'И эта традиция исчезла безо всяких демонстраций, митингов и протестов.',\n",
       "  'Она просто растворилась, хотя все советские люди были уверены, что ничего более незыблемого на свете нет.',\n",
       "  'Заметил, что когда люди спрашивают друг у друга посоветовать специалиста, всегда прибавляют эпитет \"хороший\".',\n",
       "  'У тебя есть знакомый хороший дантист?',\n",
       "  'Знаешь хорошего автомеханика?',\n",
       "  'Можешь посоветовать хорошего дизайнера?',\n",
       "  'Спрашивается, зачем такое уточнение?',\n",
       "  'Если я прошу посоветовать мне сантехника, разве мне нужен плохой?',\n",
       "  'Или я ищу плохого водителя?',\n",
       "  'Или плохого строителя?',\n",
       "  'Любой человек всегда ищет хороших специалистов.',\n",
       "  'Но зачем уточнять?',\n",
       "  'Попробуйте в следующий раз, когда просите помощи в поиске специалистов у друзей, обойтись без слова \"хороший\".']]"
      ]
     },
     "execution_count": 125,
     "metadata": {},
     "output_type": "execute_result"
    }
   ],
   "source": [
    "pred_pars[0]"
   ]
  },
  {
   "cell_type": "markdown",
   "metadata": {},
   "source": [
    "## Test (all data)"
   ]
  },
  {
   "cell_type": "code",
   "execution_count": 11,
   "metadata": {},
   "outputs": [],
   "source": [
    "all_scores = {\"pk\":[], \"windowdiff\":[]}\n",
    "real_pars = []\n",
    "pred_pars = []"
   ]
  },
  {
   "cell_type": "code",
   "execution_count": 12,
   "metadata": {},
   "outputs": [
    {
     "data": {
      "application/vnd.jupyter.widget-view+json": {
       "model_id": "78012e184f0744799d1db3b4952afd1e",
       "version_major": 2,
       "version_minor": 0
      },
      "text/plain": [
       "HBox(children=(IntProgress(value=0, max=7), HTML(value='')))"
      ]
     },
     "metadata": {},
     "output_type": "display_data"
    },
    {
     "name": "stdout",
     "output_type": "stream",
     "text": [
      "Lemmatizing sentences\n",
      "10 17\n",
      "Lemmatizing sentences\n",
      "7 11\n",
      "Lemmatizing sentences\n",
      "7 11\n",
      "Lemmatizing sentences\n",
      "7 10\n",
      "Lemmatizing sentences\n",
      "12 16\n",
      "Lemmatizing sentences\n",
      "9 13\n",
      "Lemmatizing sentences\n",
      "8 10\n"
     ]
    }
   ],
   "source": [
    "for path in tqdm(text_paths):\n",
    "        \n",
    "    (sents, \n",
    "         real_paragraphs, \n",
    "         pred_segment_indices, \n",
    "         pred_paragraphs) = f.segmentize_by_clustering(path, \n",
    "                                                    model=model)\n",
    "        \n",
    "    print(len(real_paragraphs), len(pred_segment_indices))\n",
    "        \n",
    "    k = round(0.5*len(sents)/len(real_paragraphs))\n",
    "    scores = f.evaluate(f.gold_segment_indices(real_paragraphs), pred_segment_indices, k=k)     \n",
    "    \n",
    "        \n",
    "    all_scores[\"pk\"].append(scores[\"pk\"])\n",
    "    all_scores[\"windowdiff\"].append(scores[\"windowdiff\"])\n",
    "    \n",
    "    real_pars.append(real_paragraphs)\n",
    "    pred_pars.append(pred_paragraphs)"
   ]
  },
  {
   "cell_type": "code",
   "execution_count": 17,
   "metadata": {},
   "outputs": [
    {
     "data": {
      "text/plain": [
       "[[['Дорожные знаки распространяются на пространство слева от них (если смотреть на знаки).',\n",
       "   'Это довольно простое правило, которое не изложено понятным образом в ПДД, его не проходят в автошколах, не запоминают ученики.',\n",
       "   'Скажем, мы едем по бульвару, в центре которого стоит кирпич.',\n",
       "   'Почему нельзя ехать по левой стороне дороги?',\n",
       "   'Потому что на левую часть дороги распространяется действие знака.',\n",
       "   'Если бы знак стоял с самого права, то нельзя было бы ехать по правой дороге, а по левой как раз можно было бы.',\n",
       "   'Потому что знак действует на всю ширину дороги, но не распространяется на то, что будет после обочины.'],\n",
       "  ['Простое знание этого правила невероятно помогает во время езды.',\n",
       "   'Потому что в реальной жизни не нужно решать шахматные задачки из билетов, а нужно просто ехать не сильно думая, но опираться на нерушимые и простые правила.',\n",
       "   'В кабине пилота они различаются очень сильно - в Боингах стоят штурвалы, их натягивают на себя, а в Аэробусах стоят джойстики, их дрочат.',\n",
       "   'В пассажирском салоне разницы нет.'],\n",
       "  ['Они одинаковые как близнецы.',\n",
       "   'И по какой-то причине все подряд не завешено логотипами.',\n",
       "   'Способов понять, в каком ты самолете - два.',\n",
       "   'Можно посмотеть на карточку безопасности во впереди стоящем кресле.',\n",
       "   'Там всегда указано, что за самолет.',\n",
       "   'Но представим, что карточку я уже спиздил (а я всегда пизжу эти карточки).',\n",
       "   'Поэтому можно просто посмотреть за окно.'],\n",
       "  ['Если двигатель крепится аккуратно, красиво и ровно, то это Боинг.',\n",
       "   'А если двигатель держится на пилоне из заплаток, то это Аэробус.',\n",
       "   'Я консультировался с профессиональными пилотами.',\n",
       "   'Они все говорили, что двигатель нагревается до 800 градусов, там пиздец, никто не может подобрать или покрасить держалку.',\n",
       "   'Тем не менее, Боингу это как-то удается.',\n",
       "   'Шлифует, пидарасит, красит - не приебешься.',\n",
       "   'А у Аэробуса всегда лоскутное одеяло.',\n",
       "   'Единственный смысл профессии стюардессы заключается в перевозке контрабанды.'],\n",
       "  ['В этом нет ничего плохого!',\n",
       "   'Контрабанда - это естественное и неизбежное явление, потому что в истории человечества никогда не было стопроцентно белых транзакций в любом процессе.',\n",
       "   'Любая стюардесса везет с собой чемодан чего-нибудь, что ее попросили перевезти.',\n",
       "   'Икра, айфоны, документы - не имеет значения.',\n",
       "   'Главное, что минимум долларов сто с каждого рейса стюардесса кладет себе в карман с каждого рейса.',\n",
       "   'Тыр-пыр, за месяц набегает что-то осмысленное.',\n",
       "   'Стюардесса на рейсе Москва - Когалым ничего не кладет в карман, скорее всего, но она живет надеждой попасть на рейс Москва - Токио.',\n",
       "   'Потому что нет на свете ни одной причины красивой молодой бабе разносить томатный сок, драить толчки и давить вежливость с толпами пассажиров.'],\n",
       "  ['Точно не зарплата стюардессы соблазняет стюардессу.',\n",
       "   'Пилоты тоже берут контрабасик, но для них это бонус, а не смысл профессии.',\n",
       "   'Любопытно, что наше обычное европейское время - 15:00, 19:15, 23:55 - в Америке называется \"военное время\".',\n",
       "   'Потому что обычный американец делит циферблат на \"до полудня\" и \"после полудня\".',\n",
       "   'А точное время используют только военные.',\n",
       "   'Причем, они используют время без двоеточия и называют часы сотнями, а слово \"минуты\" не произносят.'],\n",
       "  ['Пятнадцать сотен.',\n",
       "   'Девятнадцать сотен пятнадцать.',\n",
       "   'Двадцать три сотни пятьдесят пять.',\n",
       "   'Прикольно, что мы все понимаем секретный язык американских военных.',\n",
       "   'Вообще не понимаю, почему люди боятся замороженных продуктов.',\n",
       "   'Замороженные рыба, мясо и овощи - это лучшее, что случалось с человечеством.',\n",
       "   'Заморозка - это добро.',\n",
       "   'Заморозка - это цивилизация.'],\n",
       "  ['Заморозка - это дезинфекция и безопасность.',\n",
       "   'А северные народы вообще едят только размороженное мясо и рыбу.',\n",
       "   'А в США вообще запрещено продавать рыбу, если она не была глубоко заморожена (даже в суши-барах).',\n",
       "   'Холод - это не особо циничный способ изменить состав продуктов и вещей.',\n",
       "   'Холод - это просто замедленное движение молекул.',\n",
       "   'Каждый, у кого есть дача, знает, что не страшно оставить все вещи на зиму.',\n",
       "   'И диваны, и книги, и посуда, и даже сама дача за зиму совершенно не портятся.',\n",
       "   'Замерзли, а потом отмерзли.'],\n",
       "  ['Так и с едой.',\n",
       "   'Сложная система хороша тем, что ее невозможно до конца понять.',\n",
       "   'Первая сложная система, которая мне досталась в жизни, - это мой мозг.',\n",
       "   'Сначала я все полностью понимал про свой мозг, знал все свои мысли, ничему не удивлялся и жил спокойно.',\n",
       "   'А потом начал развиваться и обучаться, мозг все усложнялся и усложнялся, пока не дошел до такого состояния, когда начал меня самого удивлять.',\n",
       "   'И я оказался владельцем мозга, который во много раз умнее и сложнее меня.'],\n",
       "  ['Вторая сложная система, которая мне досталась в жизни, - это моя компания.',\n",
       "   'Сначала я все полностью понимал про нее, сам верстал все сайты и рисовал все логотипы, ничему не удивлялся и жил спокойно.',\n",
       "   'А потом начал развиваться и обучаться, компания все усложнялась и усложнялась, пока не дошла до такого состояния, когда начала меня самого удивлять.',\n",
       "   'И я оказался владельцем компании, которая во много раз умнее и сложнее меня.',\n",
       "   'У меня есть какие-то предположения о том, как устроен мой мозг и моя компания, но на самом деле я очень мало о них знаю, потому что это сложные системы.',\n",
       "   'У всех людей разные привычки и возможности общения.',\n",
       "   'Я для себя открыл наиболее эффективный способ общения: одно дело в одном сообщении.',\n",
       "   'Чтобы максимально быстро получить ответ от меня, нужно прислать ровно одно письмо ровно с одним вопросом или ровно с одной картинкой.',\n",
       "   'Если в письме два вопроса, у меня может быть ответ на первый, а на второй еще нет.'],\n",
       "  ['Так что такое письмо надолго застрянет в моем инбоксе.',\n",
       "   'То же и с картинкой - ответ будет максимально быстрый: да или нет.',\n",
       "   'А две, пять, десять картинок могут потребовать обстоятельности, которая может отсутствовать на данный момент.',\n",
       "   'Люди, которые задают в одном письме четыре вопроса, обречены на неответ с моей стороны.',\n",
       "   '(Люди, которые присылают четыре письма подряд, тоже обречены на неответ, если я их не приглашал писать мне.)',\n",
       "   'Таким образом я успеваю сделать больше, чем те, кто пытаются быть универсальными отвечателями на произвольный формат инфозагруза.',\n",
       "   '- Это поэтому ты так много успеваешь?'],\n",
       "  ['А ты сам придумал этот лайфхак?',\n",
       "   'А как мне научиться делать как ты?',\n",
       "   'Больше всего на свете ненавижу деревянные палочки в Эскимо.',\n",
       "   'Ешь мороженое, наслаждаешься, время от времени аккуратно снимаешь с футболки пластинки упавшего шоколада, откусываешь сливочную вкусноту, а потом вдруг под конец наталкиваешься на мерзкий вкус и запах фанерного листа.',\n",
       "   'Как будно спичек поел.',\n",
       "   'Омерзительно.'],\n",
       "  ['Я бы решил проблему так: каждую палочку окунал бы в шоколад, перед тем, как насадить на нее мороженое.',\n",
       "   'Тогда мерзкий вкус стружек останется запертым в глазури.',\n",
       "   'А вообще, палочки у мороженого должны быть пластмассовыми.',\n",
       "   'Пластмасса сделана из динозавров, не стоит переживать, что она триста лет в помойке пролежит.',\n",
       "   'Триста лет - не время.'],\n",
       "  ['А мороженое вкусным должно быть сейчас.',\n",
       "   'Во время встречи с клиентом главная проблема, о которой забывает презентующая сторона, - это, собственно, показ того, что хотят показать.',\n",
       "   'С одной стороны сидят представители подрядчика.',\n",
       "   'А с другой - представители заказчика.',\n",
       "   'И в какой-то момент менеджер со стороны исполнителя достает ноут, открывает экран и показывает его себе.',\n",
       "   'Потом своим коллегам со своей стороны.',\n",
       "   'А только в третью очередь, если ее пнуть ногой под столом, разворачивает экран в сторону представителей клиента, для которых, собственно, презентация и предназначалась.',\n",
       "   'И это не было бы так смешно, если бы я не был заказчиком в 2019 году.'],\n",
       "  ['Что может быть лучше, чем неожиданная аналогия с утреца?',\n",
       "   'Руководитель компании - это как молочнокислая бактерия в молоке.',\n",
       "   'Вот есть молоко.',\n",
       "   'Само по себе оно может быть выпито теленком или ребенком.'],\n",
       "  ['А может быть сквашено в какой-либо продукт - простоквашу, ряженку, кефир, йогурт, и пр. Само по себе молоко довольно однозадачно.',\n",
       "   'А с правильной бактерией - очень даже изобретательно.',\n",
       "   'Руководитель может направлять коллектив в ту или иную сторону (демократия, монархия, анархия, меритократия, аристократия, олигархия, пиздец и пр.), а коллектив сам себя никуда направить не в состоянии.',\n",
       "   'При этом роль руководителя без коллектива тоже не особо завидная - ему просто ничего не светит вобще.'],\n",
       "  ['Руководители без коллективов - как бактерии без молока.',\n",
       "   'Они нужны друг другу, короче.']],\n",
       " [['Легкие курильщика ничем не отличаются от легких некурящего.',\n",
       "   'Все картинки, которые показывает пропаганда, - пиздеж и фальсификация.',\n",
       "   'Патологоанатом не может отличить курильщика от некурящего на вскрытии по легким, он смотрит на зубы, пальцы, бороду и пр. Это не значит, что курить вредно, это значит, что вредно верить в пиздеж.',\n",
       "   'Интересно, что у нас мотоциклисты ездят между рядами и считают, что это нормально.'],\n",
       "  ['Обсуждают, между какими рядами безопаснее ехать, возмущаются, что водители их не замечают.',\n",
       "   'Мрут как мухи по собственной, преимущественно, глупости.',\n",
       "   'А в Европе мотоциклисты не выебываются и ездят как и положено - в потоке.',\n",
       "   'Да, это чуть медленнее, чем протискиваться между фурой и легковушкой.',\n",
       "   'Зато тебя видно.'],\n",
       "  ['На дороге все равны.',\n",
       "   'Вот и не выебывайся, дорогой мотоциклист!',\n",
       "   'Во время встречи с клиентом главная проблема, о которой забывает презентующая сторона, - это, собственно, показ того, что хотят показать.',\n",
       "   'С одной стороны сидят представители подрядчика.',\n",
       "   'А с другой - представители заказчика.',\n",
       "   'И в какой-то момент менеджер со стороны исполнителя достает ноут, открывает экран и показывает его себе.',\n",
       "   'Потом своим коллегам со своей стороны.',\n",
       "   'А только в третью очередь, если ее пнуть ногой под столом, разворачивает экран в сторону представителей клиента, для которых, собственно, презентация и предназначалась.',\n",
       "   'И это не было бы так смешно, если бы я не был заказчиком в 2019 году.'],\n",
       "  ['В разных странах встречаются разные шкалы твердостей карандашных грифелей, но наиболее распространенная - шкала HB.',\n",
       "   'H - значит hard, то есть, твердый грифель.',\n",
       "   'B - значит black, то есть мягкий грифель (\"черный\").'],\n",
       "  ['HB, самый распространенный, значит средний (\"твердо-мягкий\", ТМ).',\n",
       "   'А еще бывает F, среднее между H и HB, означает fine - тонкий.',\n",
       "   'Кстати, слово \"карандаш\" тюркское, означает \"черный камень\".',\n",
       "   'В XIX веке русский художник Эммануил Яковлевич Пуаре переехал во Францию и взял творческий псевдоним \"Каран д’Аш\".',\n",
       "   'Он был автором популярных карикатур.'],\n",
       "  ['И в честь него свою карандашную фабрику в Женеве в 1924 году назвал Арнольд Швейцер.',\n",
       "   'Так что это бренд Caran d’Ache назван в честь русского слова, а не наоборот.',\n",
       "   'Сегодня Caran d’Ache выпускает авторучки по тыще евро, типа круто.',\n",
       "   'Я всегда думал, что в выражении \"бить литавры\" речь идет о том, как в конце произведения торжественно бьют в тарелки.',\n",
       "   'А оказалось, что литавры - это барабаны.'],\n",
       "  ['В них тоже бьют, но по-другому.',\n",
       "   'Что может быть лучше, чем неожиданная аналогия с утреца?',\n",
       "   'Руководитель компании - это как молочнокислая бактерия в молоке.',\n",
       "   'Вот есть молоко.',\n",
       "   'Само по себе оно может быть выпито теленком или ребенком.'],\n",
       "  ['А может быть сквашено в какой-либо продукт - простоквашу, ряженку, кефир, йогурт, и пр. Само по себе молоко довольно однозадачно.',\n",
       "   'А с правильной бактерией - очень даже изобретательно.',\n",
       "   'Руководитель может направлять коллектив в ту или иную сторону (демократия, монархия, анархия, меритократия, аристократия, олигархия, пиздец и пр.), а коллектив сам себя никуда направить не в состоянии.',\n",
       "   'При этом роль руководителя без коллектива тоже не особо завидная - ему просто ничего не светит вобще.',\n",
       "   'Руководители без коллективов - как бактерии без молока.'],\n",
       "  ['Они нужны друг другу, короче.',\n",
       "   'Если я иду по улице, температура -30, на тротуаре лежит приличного вида пожилая женщина, а рядом есть други люди - я не буду подходить к этой женщине.',\n",
       "   'Не потому, что я бездушная скотина, а потому, что я не знаю, как я могу этой женщине помочь.',\n",
       "   'Я даже пульс не умею нащупывать.',\n",
       "   'Что уж говорить о непрямом массаже сердца или искуственном дыхании.'],\n",
       "  ['А если я еду на машине, я рядом со мной другая машина въебалась в столб, я тоже не буду останавливаться, если на дороге есть другие машины.',\n",
       "   'Потому что там есть специалисты по первой помощи, а я даже не знаю, где у меня аптечка.',\n",
       "   'Она где-то есть, но я никогда в жизни ее не доставал.',\n",
       "   'И если я остановлюсь у разбившейся машины, я смогу побыть только тупой массовкой, от меня никакой пользы не будет.'],\n",
       "  ['А вот если в лесу случайного грибника задерет медведь, а до ближайшего населенного пункта два дня пути, то я буду помогать грибнику всем, что вспомню из кино, слайдов МЧС, роликов на ютюбе и своей фантазии.',\n",
       "   'И буду тащить грибника на себе до победного конца.',\n",
       "   'Потому что кроме меня никого лучше не будет в этот момент.',\n",
       "   'Я прекрасно понимаю свои возможности и использую их ровно в соответствии с ситуацией.']],\n",
       " [['Некоторые виды спорта хорошо смотреть только по телевизору.',\n",
       "   'Например, штангистов.',\n",
       "   'Прикол (ну или не совсем прикол) в том, что все штангисты - пердят, когда поднимают штангу.',\n",
       "   'Потому что они и так на пределе возможностей, а тут еще думать о приличиях вообще никому в голову не придет.',\n",
       "   'И даже, наверное, вредно переключать внимание с пресса на сфинктер.',\n",
       "   'Так что если соберетесь когда-нибудь на соревнования штангистов смотреть, то уж точно никогда не садитесь как минимум в первых пяти рядах.',\n",
       "   'Пиздец, самая большая тупость на свете - это \"умные дома\".',\n",
       "   'Пока что ни одна компания не предложила ничего хотя бы отдаленно разумного в области автоматизации дома.',\n",
       "   'Цены за решения бывают любыми, итог всегда один - либо уебищные непонятные интерфейсы, которыми никто не пользуется, либо огромная панель с кнопками и надписями шариковой авторучкой по лейкопластырю.',\n",
       "   'Все умные приборы, лампы, автоматические сценарии, открыватели гаражных ворот при приближении хозяина - все полная, тупая, отсталая лажа.',\n",
       "   'Задумка хорошая, а исполнение - просто пиздец какое хуевое.',\n",
       "   'Жду героя на белом коне в этой области.',\n",
       "   'И это точно будет не Эппл, потому что Эппл даже со своим музыкальным плеером не может уже 10 лет справиться.',\n",
       "   'Хуже умных домов только Айтюнс.',\n",
       "   'Как трогательно - написать, что мороженое изготовлено по ГОСТу.',\n",
       "   'Сразу людей пробирает ностальгия, ведь все самое лучшее в СССР делалось по ГОСТу, а всякая хуйня делалась подпольно (т. е., в подвале, где антисанитария).',\n",
       "   'Так вот, согласно ГОСТу, слово ГОСТ не склоняется и используется только с его номером.',\n",
       "   'Во всех остальных случаях необходимо писать слово \"стандарт\".',\n",
       "   'То есть, если выебываться до конца, то мороженое либо \"изготовлено по стандарту\", либо \"изготовлено по ГОСТ 31457-2012\".',\n",
       "   'P. S. Понятно, что \"по ГОСТу\" можно делать любое говнище, стандарт не может иметь ничего против существования продуктов второго сорта.',\n",
       "   'И верят, что ГОСТ - это синоним вкуса и качества только те, кто не понимают, что и вкус, и качество могут быть любыми, в том числе говеный вкус и говеное качество.',\n",
       "   'А в тексте стандарта, по которому произведено сфотканное выше мороженое, в качестве сырья разрешается брать \"сыворотку подсырную сухую деминерализованную, полученную методом электродиализа (СД-ЭД).\"',\n",
       "   'И кто б отказался?',\n",
       "   'Эта сыворотка повышает взбиваемость мороженого на 20%.',\n",
       "   'Нямка!',\n",
       "   'Совершенно никакого понимания у меня не находят люди, которые топят за разницу в пару букв в каком-либо слове.',\n",
       "   'Скажем, русские геи обижаются, когда их называют гомосексуалистами.',\n",
       "   '- Нет, так нельзя!'],\n",
       "  ['Пока что ни одна компания не предложила ничего хотя бы отдаленно разумного в области автоматизации дома.',\n",
       "   'Цены за решения бывают любыми, итог всегда один - либо уебищные непонятные интерфейсы, которыми никто не пользуется, либо огромная панель с кнопками и надписями шариковой авторучкой по лейкопластырю.',\n",
       "   'Все умные приборы, лампы, автоматические сценарии, открыватели гаражных ворот при приближении хозяина - все полная, тупая, отсталая лажа.',\n",
       "   'Задумка хорошая, а исполнение - просто пиздец какое хуевое.'],\n",
       "  ['Жду героя на белом коне в этой области.',\n",
       "   'И это точно будет не Эппл, потому что Эппл даже со своим музыкальным плеером не может уже 10 лет справиться.',\n",
       "   'Хуже умных домов только Айтюнс.',\n",
       "   'Как трогательно - написать, что мороженое изготовлено по ГОСТу.',\n",
       "   'Сразу людей пробирает ностальгия, ведь все самое лучшее в СССР делалось по ГОСТу, а всякая хуйня делалась подпольно (т. е., в подвале, где антисанитария).',\n",
       "   'Так вот, согласно ГОСТу, слово ГОСТ не склоняется и используется только с его номером.',\n",
       "   'Во всех остальных случаях необходимо писать слово \"стандарт\".'],\n",
       "  ['То есть, если выебываться до конца, то мороженое либо \"изготовлено по стандарту\", либо \"изготовлено по ГОСТ 31457-2012\".',\n",
       "   'P. S. Понятно, что \"по ГОСТу\" можно делать любое говнище, стандарт не может иметь ничего против существования продуктов второго сорта.',\n",
       "   'И верят, что ГОСТ - это синоним вкуса и качества только те, кто не понимают, что и вкус, и качество могут быть любыми, в том числе говеный вкус и говеное качество.',\n",
       "   'А в тексте стандарта, по которому произведено сфотканное выше мороженое, в качестве сырья разрешается брать \"сыворотку подсырную сухую деминерализованную, полученную методом электродиализа (СД-ЭД).\"',\n",
       "   'И кто б отказался?'],\n",
       "  ['Эта сыворотка повышает взбиваемость мороженого на 20%.',\n",
       "   'Нямка!',\n",
       "   'Совершенно никакого понимания у меня не находят люди, которые топят за разницу в пару букв в каком-либо слове.',\n",
       "   'Скажем, русские геи обижаются, когда их называют гомосексуалистами.'],\n",
       "  ['Гомосексуалист - это ругательное слово из карательной советской психиатрии!',\n",
       "   'Нас правильно называть гомосексуалами!',\n",
       "   'Пиздец, это настолько же глупо, насколько и безграмотно.',\n",
       "   'Не дадут соврать народные арты, великие пианы, французские экспрессионы, ленинские коммуны, жадные капиталы.',\n",
       "   'К тому же в русском языке давно есть короткая версия слова гомосексуалист - гомосек, а кому недостаточно коротко, еще есть - гомик.',\n",
       "   'Простое и очевидное правило: не должно быть никаких препятствий на пути приема денег.'],\n",
       "  ['Что угодно может быть через жопу, но получение денег должно происходить идеально гладко и быстро.',\n",
       "   'Любой интернет-магазин, любая касса, любой вендомат, любой терминал должны максимально быстро принимать любые деньги.',\n",
       "   'Если этого не происходит, то мы имеем дело либо с идиотами, либо с идиотами.'],\n",
       "  ['Любой платящий должен ожидать, что его деньги легко и быстро примут.',\n",
       "   'Любой получающий платежи должен сделать все, чтобы принимать деньги с минимальными задержками и геморроями.',\n",
       "   'Я этим принципом пользуюсь всегда.',\n",
       "   'Если передо мной торговый автомат, который отказывается прянять мою старую пожеванную купюру, то пусть он идет нахуй.',\n",
       "   'В Лас-Вегасе никакой автомат не откажется ни от какой купюры.',\n",
       "   'Если я попал в гостиницу, где первым делом не мечтают зачарджить мою кредитку, то такая гостиница идет нахуй, я найду ту, где мои деньги примут с удовольствием.',\n",
       "   'Запах вокзала с детства знаком всем, кто ездил на поездах.'],\n",
       "  ['Это приятный, сложный, густой запах, которые некоторые еще слышат в метро, а почти все ассоциируют с разогретым \"Титаном\" для кипятка.',\n",
       "   'Поэтому у большинства этот запах связан с железнодорожным чаем.',\n",
       "   'Кстати, это тоже любопытно - в СССР было так хуево с кофе, что все стереотипы о горячих напитках ограничивались именно чаем.',\n",
       "   'Кофе в советских поездах никому никогда не предлагали.'],\n",
       "  ['А за растворимым стояли в очереди три часа.',\n",
       "   'Так вот, тот самый запах - это запах креозота, хуйни, которой пропитывают деревянные шпалы и столбы от гниения.',\n",
       "   'Креозот делают из древесного или каменноугольного дегтя, именно он и пахнет.',\n",
       "   'А на вокзалах, где шпалы бетонные, уже нет никакого приятного запаха из детства.',\n",
       "   'Пиздец как меня бесят розовые мужские рубашки.'],\n",
       "  ['Они меня бесят гораздо больше, чем те мудозвоны, которые называют рубашки сорочками.',\n",
       "   'В розовой рубашке любой мужчина выглядит как полный дебил, но при этом всегда сидит с таким видом, как будто совершает поступок невероятной душевной тонкости.',\n",
       "   'Не могу понять настойчивость, с которой розовые рубашки производятся и носятся.',\n",
       "   'Даже брошь в виде какашки смотрелась бы на мужчине более изысканно и уместно, чем розовая рубашка.']],\n",
       " [['Аудиокниги не имеют никакого отношения к книгам.',\n",
       "   'Аудиокниги - это самостоятельный развлекательный продукт.',\n",
       "   'Чтобы понять, чем отличается аудиокнига от бумажной книги, достаточно их сравнить.',\n",
       "   'Берешь рассказ Чехова на бумаге, читаешь его.',\n",
       "   'А потом берешь ровно тот же рассказ Чехова в виде аудиокниги.',\n",
       "   'И слушаешь его.',\n",
       "   'И понимаешь, что это два совершенно разных продукта.',\n",
       "   'Чтение слов глазами - это совершенно уникальный и ни на что не похожий процесс.',\n",
       "   'Вполне может быть, что он при нашей жизни почти зачахнет, но это не отменяет его отдельной ценности.',\n",
       "   'Чтение развивает мозг, прослушивание - не особо.',\n",
       "   'За всю историю цивилизации человечество не смогло придумать удобной хуйни для надевания на голову в целях утепления.',\n",
       "   'Придумали кучу разного говна, которое настолько неуместно и смехотворно, что его называют словосочетанием \"головной убор\".',\n",
       "   'Я не хочу носить головной убор!',\n",
       "   'Дайте мне что-нибудь нормальное и непозорное для башки!',\n",
       "   'Чтоб ухи не мерзли и чтоб я не выглядел как мудак.',\n",
       "   'Ну ладно, со вторым пунктом я еще готов смириться.',\n",
       "   'Готов выглядеть как мудак.',\n",
       "   'Но не хочу чувствовать себя мудаком.',\n",
       "   'А в любом головном уборе это неизбежно.',\n",
       "   'Кстати, если уж вы решили побыть джентльменом, и подать даме пальто, то дама тоже должна не быть колхозницей.',\n",
       "   'В пальто первой должна быть продета левая рука.',\n",
       "   'Не правая, блять.',\n",
       "   'А левая.',\n",
       "   'Почему?'],\n",
       "  ['За всю историю цивилизации человечество не смогло придумать удобной хуйни для надевания на голову в целях утепления.',\n",
       "   'Придумали кучу разного говна, которое настолько неуместно и смехотворно, что его называют словосочетанием \"головной убор\".',\n",
       "   'Я не хочу носить головной убор!',\n",
       "   'Дайте мне что-нибудь нормальное и непозорное для башки!',\n",
       "   'Чтоб ухи не мерзли и чтоб я не выглядел как мудак.'],\n",
       "  ['Ну ладно, со вторым пунктом я еще готов смириться.',\n",
       "   'Готов выглядеть как мудак.',\n",
       "   'Но не хочу чувствовать себя мудаком.'],\n",
       "  ['А в любом головном уборе это неизбежно.',\n",
       "   'Кстати, если уж вы решили побыть джентльменом, и подать даме пальто, то дама тоже должна не быть колхозницей.',\n",
       "   'В пальто первой должна быть продета левая рука.',\n",
       "   'Не правая, блять.',\n",
       "   'А левая.'],\n",
       "  ['А хуй его знает.',\n",
       "   'Это ж этикет.',\n",
       "   'Мне глубоко похуй, где проходят границы государств, до тех пор, пока люди не умирают.',\n",
       "   'Граница - это всего лишь территория налогового ведомства.',\n",
       "   'Жизнь не стоит того, чтобы терять ее ради права платить налоги в другое ведомство.'],\n",
       "  ['Удивительно, что в советское время были полностью неизвестны: свежевыжатые соки, салаты цезарь и капрезе, трава руккола, сыр моцарела, пицца, суши, том-ям, фо-бо, эспрессо, капучино, латте.',\n",
       "   'Маффины были, назывались кексами.',\n",
       "   'Настолько не существовало стейков из мяса, что слово \"стейк\" добавили в словарь русского языка по моей просьбе всего пару лет назад.'],\n",
       "  ['А чего еще не было из того, что сегодня является практически национальной кухней?',\n",
       "   'Любопытно, что люди слово \"отходы\" всегда понимают как \"вонючие токсичные помои, которые нужно срочно выкинуть, пока никто не отравился и не помер\".',\n",
       "   'Например, при производстве масла, творога, сметаны, сливок отходами является обезжиренное молоко.'],\n",
       "  ['Раньше никто не знал, что с ним делать (выливали нахуй), а сечас продают хипстерам и любителям стройных фигур.',\n",
       "   'Или, скажем, при производстве апельсинового сока отходами являются корки апельсина.'],\n",
       "  ['А из них получаются цукаты.',\n",
       "   'Но ведь можно и наоборот посмотреть - при производстве цукатов отходами является мякоть плодов.',\n",
       "   'Словом, когда вы видите слово \"отходы\", не нужно делать быстрых выводов.',\n",
       "   'Иногда речь идет о сырье для нового технологического процесса.',\n",
       "   'Я водил во многих странах мира, включая страны с левосторонним движением.',\n",
       "   'Я проехал много тысяч километров по Великобритании, Австралии, Новой Зеландии, Сейшелам и США (да, на Американских Виргинских островах ездят слева).',\n",
       "   'И никаких неудобств не испытал.'],\n",
       "  ['Ну едешь и едешь.',\n",
       "   'Потоки так хорошо разделены, что в 99% случаев ты даже не замечаешь, что едешь по другой стороне.',\n",
       "   'Единственный стремный момент - это когда разворачиваешься на проселочной дороге.',\n",
       "   'Тут у меня всегда включается автопилот, и после разворота я всегда начинаю ехать по правой стороне.',\n",
       "   'И понимаю это только когда вижу встречку на своей полосе.']],\n",
       " [['Пиздец, больше всего на свете меня бесит, что в кино продают треульные начос и круглые банки с сыром.',\n",
       "   'И начос в эту банку залезает только одним уголочком.',\n",
       "   'И ты должен каждый раз откусывать уголок, чтобы начос приобрел более прямоугольную форму и начал в банку с сыром залезать.',\n",
       "   'Вот почему не сделать банки с сыром такой формы, чтобы начос в них сразу было удобно макать?',\n",
       "   'Пиздец, самая большая тупость на свете - это концепция \"здоровой еды\".',\n",
       "   'Епта, если не пить серную кислоту и не заедать ее асбестом, любая еда - здоровая.',\n",
       "   'Когда человек поел, он живет.'],\n",
       "  ['Ну а если не будет есть, то в какой-то момент помрет.У каждого поколения есть свои пищевые стереотипы - то надо есть жир, то не надо, то слова надо.',\n",
       "   'Единственное, что точно известно: надо срать на все мнения и есть любую еду.',\n",
       "   'Чем разнообразнее, тем лучше.',\n",
       "   'Нет какого-то одного невероятно полезного продукта.',\n",
       "   'Ягоды годжи не спасут никого, а если их есть каждый день, то еще и заебут.',\n",
       "   'Чипсари с колой вредны только тогда, когда человек не ест ничего другого.',\n",
       "   'Но с таким же успехом можно подорвать здоровье поедая только апельсины с укропом.',\n",
       "   'Поэтому: ешьте что хотите и когда хотите.',\n",
       "   'Главное - разнообразие.'],\n",
       "  ['Ну а если пучит от панакоты, то просто не надо ее есть, ок?',\n",
       "   'Интересно изучать административную и политическую карту мира.',\n",
       "   'Скажем, в США почте все штаты тупо разграничены по широтам и долготам.',\n",
       "   'Особенно я люблю штат Колорадо, у которого площадь строго прямоугольная.',\n",
       "   'В Африке половина стран на севере делили пустыню шедрой линейкой, потому что там все равно никогда ничего ценного не будет.',\n",
       "   'В России только граница республики Коми и Ненецкого АО похожа на прямую линию.'],\n",
       "  ['О чем нам это говорит?',\n",
       "   'Там, где нихуя нет, границы проведены по линейке.',\n",
       "   'Там, где есть что-то интересное и ценное, границы проведены по рельефу - по горам, по рекам, по каким-то еще ориентирам.',\n",
       "   'Сегодня голосовая связь в мессенджерах лучше, чем в телефоне.',\n",
       "   'Сотовые операторы проебали голос.',\n",
       "   'Пока мировые сотовые компании были заняты рубкой бабла, они забыли, что надо заниматься своей основной услугой.'],\n",
       "  ['Ирония в том, что они в какой-то момент поняли, что их основная услуга - это передача данных, а не голоса.',\n",
       "   'И начали улучшать передачу данных.',\n",
       "   'И начали запихивать в ускоренные данные свой старый голос, радуясь прибыли.',\n",
       "   'А мессенджеры научились передавать по каналу данных голос прекрасного качества.',\n",
       "   'И выебали сотовых операторов на их же инфраструктуре.'],\n",
       "  ['Одни люди пьют воду с газом.',\n",
       "   'Другие люди пьют воду без газа.',\n",
       "   'А есть третьи люди, которые просят смешать воду с газом и без, чтобы получилась слабогазированная вода.',\n",
       "   'Впрочем, бывает в продаже слабогазированная вода, но я никогда не видел ее ни в одном кафе или ресторане.'],\n",
       "  ['Сегодня в мире самая распространенная профессия - водитель.',\n",
       "   'При этом нет никаких сомнений, что в ближайшем будущем водителей практически полностью заменят беспилотные автомобили.',\n",
       "   'А это значит, что всем водителям придется находить себе новые занятия.',\n",
       "   'Конечно, какое-то количество водителей останется, так же как и сегодня в больничных лифтах работают лифтеры, а в жилых домах лифтеров больше не осталось.',\n",
       "   'Так что водителям есть смысл задуматься о том, чем они будут заниматься лет через десять.',\n",
       "   'Сегодня мобильный телефон - источник невероятного количества личной информации про своего владельца.',\n",
       "   'И это, конечно, прекрасно известно любому ревнивому партнеру.'],\n",
       "  ['Девочки палят нотификейшены у мальчиков, мальчики подсматривают за алертами у девочек.',\n",
       "   'Все хотят краем глаза увидеть, кто там тебе прислал сообщение в телеге, кто лайкнул фотку в инсте, кто отсыпал сердечек в зенли.',\n",
       "   'Как узнать - палит ли тебя партнер?',\n",
       "   'Для начала выключаешь телефон.'],\n",
       "  ['Включаешь его, но не по отпечатку и не рожей, чтобы не залогиниться под собой.',\n",
       "   'Включаешь камеру, выбираешь видео, ставишь фронталку, нажимаешь на запись, кладешь телефон экраном на стол и уходишь в толчок.',\n",
       "   'В этот момент на телефон приходит очередной нотификейшн, вибрация, блямк или любой другой сигнал.'],\n",
       "  ['Или не приходит, это не принципиально.',\n",
       "   'Ревнивый партнер не выдерживает и хватает аппарат.',\n",
       "   'Смотрит на экран - а там идет запись его подлого подглядывания!',\n",
       "   'Отвертеться не удастся.'],\n",
       "  ['Даже если партнер сообразительный и сотрет видос, чтобы поставить на запись новый, в удаленных файлах все сохранится.',\n",
       "   'Сейчас большую популярность приобретает западная теория, что после сранья нужно перед спусканием воды закрывать крышку унитаза.',\n",
       "   'Теория в том, что если крышку не закрыть, то микробы от говна поднимутся в воздух и заразят пространство вокруг.',\n",
       "   'А если закрыть крышку, то микробы ударятся в нее и не полетят дальше.',\n",
       "   'Просто пиздец, как это тупо.'],\n",
       "  ['Даже если не закрыть крышку, микробы (согласно научному исследованию) поднимутся на 20 сантиметров над очком.',\n",
       "   'Ну как поднимутся, как и опустятся.',\n",
       "   'А если их задержать крышкой, то они точно осядут на крышке.',\n",
       "   'И каждый, кто сядет потом на унитаз, своей майкой с крышки соберет весь этот урожай.',\n",
       "   'Так что я продолжаю утверждать, что крышка на унитазе примерно так же полезна и нужна, как и на газовой плите.'],\n",
       "  ['То есть - абсолютно вообще нахуй не нужна.',\n",
       "   'Я тут узнал, что, оказывается, в мире существует дефицит садистов, но совершенно нет никакого дефицита мазохистов.',\n",
       "   'Проблема везде, даже на соответствующих вечеринках.',\n",
       "   'Все готовы страдать, но мало кто готов мучить.В принципе, это соответствует моему представлению об устройстве мира.',\n",
       "   'Некоторые процессы надо делать иррационально, медленно, вручную, неэффективно, устаревшими способами, немодно, незрелищно и пр. Скажем, для часто повторяющихся операций можно написать скрипт.',\n",
       "   'Но иногда ручной копи-пейст помогает лишний раз подумать, оценить и отловить косяк.'],\n",
       "  ['Хотя с точки зрения прогресса делать что-либо руками - неправильно.',\n",
       "   'Можно поставить камеру с распознаванием лиц и поз, но иногда эффективнее посадить бабулю, которая вяжет свой носок и поглядывает на проходящих.',\n",
       "   'Один раз на тыщу случаев бабуля окажется нужной, а камера проебет инцидент.',\n",
       "   'Кстати, именно поэтому я терпеть не могу электрические чайники, микроволновки и кондиционеры - они отбирают у меня последнюю радость получения физического удовольствия от чайника на огне, сковородки и вентилятора.',\n",
       "   'Эффективность не всегда нужна.'],\n",
       "  ['Кстати, если бы я был американцем, я бы из этой мысли накатал бы книгу на 400 страниц.',\n",
       "   'Но в этом конкретном случае я как раз за эффективность - мысль понятна и в виде этого небольшого постеца.',\n",
       "   'Прикольно, что в СССР в любом учреждении и магазине был перерыв на обед.'],\n",
       "  ['Где с часу до двух, где с двух до трех.',\n",
       "   'А после перестройки перерыв на обед исчез как класс навсегда.',\n",
       "   'Никто не готов прийти к двери учреждения и узнать, что там у работников обед.',\n",
       "   'И эта традиция исчезла безо всяких демонстраций, митингов и протестов.',\n",
       "   'Она просто растворилась, хотя все советские люди были уверены, что ничего более незыблемого на свете нет.',\n",
       "   'Заметил, что когда люди спрашивают друг у друга посоветовать специалиста, всегда прибавляют эпитет \"хороший\".',\n",
       "   'У тебя есть знакомый хороший дантист?',\n",
       "   'Знаешь хорошего автомеханика?',\n",
       "   'Можешь посоветовать хорошего дизайнера?',\n",
       "   'Спрашивается, зачем такое уточнение?',\n",
       "   'Если я прошу посоветовать мне сантехника, разве мне нужен плохой?',\n",
       "   'Или я ищу плохого водителя?',\n",
       "   'Или плохого строителя?',\n",
       "   'Любой человек всегда ищет хороших специалистов.',\n",
       "   'Но зачем уточнять?',\n",
       "   'Попробуйте в следующий раз, когда просите помощи в поиске специалистов у друзей, обойтись без слова \"хороший\".']],\n",
       " [['В Австрии есть прекрасный старинный замок на скале - Хохостервиц, про который существует не менее древняя легенда.',\n",
       "   'Войска под предводительством Маргариты Маульташ (типа самой уродливой женщины всех времен и народов) осадили замок.',\n",
       "   'Решили брать измором, но стояли так долго, что начали голодать сами.',\n",
       "   'В последний момент комендант замка решил нафаршировать остатками зерна последнюю корову и катапультировать ее на врага.',\n",
       "   'Это была последняя еда оборонявшихся.',\n",
       "   'Голодные нападавшие решили, что раз у народа в осаде так много жратвы, то дальше стоять нет смысла и съебались.',\n",
       "   'Кажется, что это управленческий парадокс - выкинуть последнюю еду, когда пиздец нечего есть.',\n",
       "   'Но мораль простая: когда нечего терять - блефуй.',\n",
       "   'Очень интересно в языке устроено разделение на важное и ничтожное.',\n",
       "   'Важное - большое или высокое.',\n",
       "   'Ничтожное - маленькое или низкое.',\n",
       "   'Вершина власти.',\n",
       "   'Унижаться.',\n",
       "   'С высоты положения.',\n",
       "   'Низко упасть.',\n",
       "   'Возвеличивать правителя.',\n",
       "   'Принижать достоинства.',\n",
       "   'Сидеть на Олимпе.',\n",
       "   'Социальное дно.',\n",
       "   'Высший свет.',\n",
       "   'У нас в школе на стене кабинета литературы висели портреты великих писателей.',\n",
       "   'Пушкин был первым и на 20 сантиметров выше, чтобы обозначить свою особую важность.',\n",
       "   'Исторически правитель сидел на троне (штоб выше остальных), а просители кланялись или просто падали ниц, чтобы показать дополнительно, что они даже не пытаются претендовать на равенство.',\n",
       "   'Ваше высокоблагородие, мы люди маленькие.',\n",
       "   'Нижайше просим ваше высочество.',\n",
       "   'У людей очень плохой интерфейс между фантазиями и реальностью.',\n",
       "   'В этом главная проблема любого творца - как сделать так, чтобы фантазия перешла в реальность при помощи творческих приемов.',\n",
       "   'Потому что без помощи творческих приемов нихуя не получится, никакая фантазия ничего не будет значить для других людей.',\n",
       "   'Чтобы фантазия заработала, ее нужно понятно сформулировать.',\n",
       "   'Это относится совершенно ко всему - от эротической фантазии до идеи сценариста.',\n",
       "   'Как перенести мысль из головы автора к зрителям, слушателям и читателям?',\n",
       "   'Это и есть основная задача любого творчества.',\n",
       "   'Кстати, именно на этом заваливаются все начинающие фотографы.',\n",
       "   'Они принимают свой кайф от сцены за картинку, которую увидит зритель.',\n",
       "   'А зритель не слышит звуков, не знает контекст, не чувствует температуры, не ценит обстановку, не видит движения.',\n",
       "   'Поэтому ему похуй на самый лучший на свете закат, потому что на фотке какое-то унылое говно, а не самый лучший закат.',\n",
       "   'А начинающий фотограф не понимает, что видит зритель, потому что он находится во власти своих фантазий и ощущений, но не умеет их передать.',\n",
       "   'Короче, любой творец ценен своим умением передавать мысли, а не самими мыслями.',\n",
       "   'В Америке страшно дико стали популярны подкасты.',\n",
       "   'Какие-то просто невероятные часы прослушиваний подкастов у среднего американца.',\n",
       "   'Казалось бы, есть радио, есть аудиокниги, есть ютюб на фоне, но американцы слушают подкасты.',\n",
       "   'А у нас не слушают подкасты.',\n",
       "   'Вы можете вспомнить хоть один известный русский подкаст?',\n",
       "   'Или хотя бы неизвестный, но интересный?',\n",
       "   'Когда кто-либо последний раз вам рекомендовал послушать какой-либо подкаст?',\n",
       "   'У меня есть набор базовых установок, которые не меняются уже много десятилетий.',\n",
       "   'Чтобы понять, какая в принципе у меня может быть точка зрения по поводу того или иного вопроса, можно свериться с приведенным ниже списком моих ценностей и позиций.',\n",
       "   'Моя принципы всегда просты: я против любого насилия, против любых убийств, против любых войн, за гармоничное и разностороннее развитие любой личности, за гетеросексуальность с легкими нотками толерантности, за космополитизм с легкими нотками патриотизма, за капитализм, но против корпоративного мудоебства, за просвещенную монархию, за работу с утра до вечера, против пенсий, льгот, нахлебников и бездельников, против популизма.',\n",
       "   'У меня замые замечательные принципы на свете.',\n",
       "   'Если бы все были как я, жизнь была бы еще лучше.',\n",
       "   'Вкус еды и напитков очень сильно зависит от формы посуды.',\n",
       "   'Одна и та же котлета с разных тарелок будет восприниматься по-разному.',\n",
       "   'Еда с деревянной или с фарфоровой тарелки будет иметь разный вкус.',\n",
       "   'Напитки из разных емкостей будут иметь принципиально разный вкус.',\n",
       "   'Если выпить кефир из водочного мерзавчика, он будет одного вкуса, а если из сапога, то совершенно другого.',\n",
       "   'Одно и то же вино из бокалов разной формы будет иметь разный вкус и даже запах (проверьте).',\n",
       "   'Ширина, высота, диаметр, вес, материал посуды - все это имеет огромное влияние на вкус еды и напитков.',\n",
       "   'Мы в школе пили водку из полиэтиленовой обертки от сигаретной пачки, это было омерзительно.',\n",
       "   'Хотя казалось бы - что может испортить водку?',\n",
       "   'Кладбища стремительно теряют свою актуальность.',\n",
       "   'В детстве меня пару раз возили родственники на могилы к предкам.',\n",
       "   'В среднем возрасте я был пару раз на кладбищах, хороня бабушек-дедушек, а так же некоторых друзей и знакомых.',\n",
       "   'Но абсолютно ни разу я не был на какой-либо могиле второй раз.',\n",
       "   'И не потому что я такая бездушная свинья, а потому что в этом нет никакого смысла.',\n",
       "   'Я помню тех, кто оставил след в моей жизни.',\n",
       "   'Я не помню тех, кто следа не оставил.',\n",
       "   'Поездка к надгробной плите не даст мне ничего, что может дать пересмотр видоса или фоток с ушедшим на тот свет.',\n",
       "   'Думаю, что в будущем никаких кладбищ не будет.',\n",
       "   'Встреча с геометкой места погребения не имеет никакого смысла.',\n",
       "   'Могила - это какой-то лютый архаизм.',\n",
       "   'Раньше я придумывал для себя дизайн могилы, хотел сделать ее интерактивной.',\n",
       "   'Но потом я понял, что лучшая концепция - это развеивание праха на максимально широкой и абстрактной территории.',\n",
       "   'Или я не буду против, если пепел от меня будет использован в качестве удобрения в горшке герани на рандомном подоконнике.',\n",
       "   'По старой памяти людей еще хоронят на кладбищах или в колумбариях, но смысла в этом больше нет никакого.',\n",
       "   'Что биоразложение, что кремация - одинаково происходят в соответствии с законами физики.',\n",
       "   'Сравнение, как и пример, не являются доказательством в формальной логике.',\n",
       "   'Но разве это ебет обычных людей?',\n",
       "   'Конечно нет.'],\n",
       "  ['С высоты положения.',\n",
       "   'Низко упасть.',\n",
       "   'Возвеличивать правителя.',\n",
       "   'Принижать достоинства.',\n",
       "   'Сидеть на Олимпе.'],\n",
       "  ['Социальное дно.',\n",
       "   'Высший свет.',\n",
       "   'У нас в школе на стене кабинета литературы висели портреты великих писателей.',\n",
       "   'Пушкин был первым и на 20 сантиметров выше, чтобы обозначить свою особую важность.',\n",
       "   'Исторически правитель сидел на троне (штоб выше остальных), а просители кланялись или просто падали ниц, чтобы показать дополнительно, что они даже не пытаются претендовать на равенство.',\n",
       "   'Ваше высокоблагородие, мы люди маленькие.',\n",
       "   'Нижайше просим ваше высочество.'],\n",
       "  ['У людей очень плохой интерфейс между фантазиями и реальностью.',\n",
       "   'В этом главная проблема любого творца - как сделать так, чтобы фантазия перешла в реальность при помощи творческих приемов.',\n",
       "   'Потому что без помощи творческих приемов нихуя не получится, никакая фантазия ничего не будет значить для других людей.',\n",
       "   'Чтобы фантазия заработала, ее нужно понятно сформулировать.',\n",
       "   'Это относится совершенно ко всему - от эротической фантазии до идеи сценариста.',\n",
       "   'Как перенести мысль из головы автора к зрителям, слушателям и читателям?',\n",
       "   'Это и есть основная задача любого творчества.',\n",
       "   'Кстати, именно на этом заваливаются все начинающие фотографы.'],\n",
       "  ['Они принимают свой кайф от сцены за картинку, которую увидит зритель.',\n",
       "   'А зритель не слышит звуков, не знает контекст, не чувствует температуры, не ценит обстановку, не видит движения.',\n",
       "   'Поэтому ему похуй на самый лучший на свете закат, потому что на фотке какое-то унылое говно, а не самый лучший закат.',\n",
       "   'А начинающий фотограф не понимает, что видит зритель, потому что он находится во власти своих фантазий и ощущений, но не умеет их передать.',\n",
       "   'Короче, любой творец ценен своим умением передавать мысли, а не самими мыслями.',\n",
       "   'В Америке страшно дико стали популярны подкасты.',\n",
       "   'Какие-то просто невероятные часы прослушиваний подкастов у среднего американца.',\n",
       "   'Казалось бы, есть радио, есть аудиокниги, есть ютюб на фоне, но американцы слушают подкасты.',\n",
       "   'А у нас не слушают подкасты.'],\n",
       "  ['Вы можете вспомнить хоть один известный русский подкаст?',\n",
       "   'Или хотя бы неизвестный, но интересный?',\n",
       "   'Когда кто-либо последний раз вам рекомендовал послушать какой-либо подкаст?',\n",
       "   'У меня есть набор базовых установок, которые не меняются уже много десятилетий.',\n",
       "   'Чтобы понять, какая в принципе у меня может быть точка зрения по поводу того или иного вопроса, можно свериться с приведенным ниже списком моих ценностей и позиций.',\n",
       "   'Моя принципы всегда просты: я против любого насилия, против любых убийств, против любых войн, за гармоничное и разностороннее развитие любой личности, за гетеросексуальность с легкими нотками толерантности, за космополитизм с легкими нотками патриотизма, за капитализм, но против корпоративного мудоебства, за просвещенную монархию, за работу с утра до вечера, против пенсий, льгот, нахлебников и бездельников, против популизма.',\n",
       "   'У меня замые замечательные принципы на свете.'],\n",
       "  ['Вкус еды и напитков очень сильно зависит от формы посуды.',\n",
       "   'Одна и та же котлета с разных тарелок будет восприниматься по-разному.',\n",
       "   'Еда с деревянной или с фарфоровой тарелки будет иметь разный вкус.',\n",
       "   'Напитки из разных емкостей будут иметь принципиально разный вкус.',\n",
       "   'Если выпить кефир из водочного мерзавчика, он будет одного вкуса, а если из сапога, то совершенно другого.',\n",
       "   'Одно и то же вино из бокалов разной формы будет иметь разный вкус и даже запах (проверьте).',\n",
       "   'Ширина, высота, диаметр, вес, материал посуды - все это имеет огромное влияние на вкус еды и напитков.',\n",
       "   'Мы в школе пили водку из полиэтиленовой обертки от сигаретной пачки, это было омерзительно.',\n",
       "   'Хотя казалось бы - что может испортить водку?'],\n",
       "  ['Кладбища стремительно теряют свою актуальность.',\n",
       "   'В детстве меня пару раз возили родственники на могилы к предкам.',\n",
       "   'В среднем возрасте я был пару раз на кладбищах, хороня бабушек-дедушек, а так же некоторых друзей и знакомых.',\n",
       "   'Но абсолютно ни разу я не был на какой-либо могиле второй раз.',\n",
       "   'И не потому что я такая бездушная свинья, а потому что в этом нет никакого смысла.'],\n",
       "  ['Я помню тех, кто оставил след в моей жизни.',\n",
       "   'Я не помню тех, кто следа не оставил.',\n",
       "   'Поездка к надгробной плите не даст мне ничего, что может дать пересмотр видоса или фоток с ушедшим на тот свет.',\n",
       "   'Думаю, что в будущем никаких кладбищ не будет.',\n",
       "   'Встреча с геометкой места погребения не имеет никакого смысла.',\n",
       "   'Могила - это какой-то лютый архаизм.'],\n",
       "  ['Раньше я придумывал для себя дизайн могилы, хотел сделать ее интерактивной.',\n",
       "   'Но потом я понял, что лучшая концепция - это развеивание праха на максимально широкой и абстрактной территории.',\n",
       "   'Или я не буду против, если пепел от меня будет использован в качестве удобрения в горшке герани на рандомном подоконнике.',\n",
       "   'По старой памяти людей еще хоронят на кладбищах или в колумбариях, но смысла в этом больше нет никакого.',\n",
       "   'Что биоразложение, что кремация - одинаково происходят в соответствии с законами физики.',\n",
       "   'Сравнение, как и пример, не являются доказательством в формальной логике.',\n",
       "   'Но разве это ебет обычных людей?'],\n",
       "  ['Поэтому сравнение - мощнейший аргумент для доказательства.',\n",
       "   'Например, какая-то жируха скинула балласт, и вешает новые стройные фотки в стиле \"было - стало\".',\n",
       "   'Так вот, очень важно не просто приукрасить \"стало\", но и специально ухудшить \"было\".',\n",
       "   'Добавить в прошлом лишних кило, кожу состарить, добавить еще чего-нибудь неприятного.',\n",
       "   'Тогда сравнение со \"стало\" будет особо убедительным!'],\n",
       "  ['Это мне чика одна рассказала.',\n",
       "   'Из серии секретов, которые знает все телки, а мужики не догадываются.',\n",
       "   'Мужики додумываются только \"стало\" улучшить, а \"было\" испортить не догадываются.'],\n",
       "  ['Что такое ксенофобия?',\n",
       "   'Это боязнь незнакомого.',\n",
       "   'Как бороться с ксенофобией?',\n",
       "   'Делать незнакомое знакомым.',\n",
       "   'Дизайн проще всего воспринимать как борьбу с ксенофобией.',\n",
       "   'Чем узнаваемее, тем менее опасно.',\n",
       "   'Задача большинства брендов - примелькаться и тем самым обозначить неопасность.',\n",
       "   'Знакомые бренды становятся безопасными, потом различимыми в толпе, а потом даже любимыми.',\n",
       "   'Незнакомые бренды - \"китайское говно\".']],\n",
       " [['Красота людей обманчива.',\n",
       "   'Особенно женская красота.',\n",
       "   'Хотя мужская тоже очень сильно обманчива.',\n",
       "   'Красота скрывает очень многие другие важные для жизни качества - умение жить и чувствовать, способность получать удовольствие и быть умным, стремление к познанию и отзывчивость.',\n",
       "   'Одним словом, за красотой вообще нихуя не видно, что перед нами за человек.',\n",
       "   'Красота не равна качеству жизни.',\n",
       "   'Красота вообще ничего не говорит о человеке.',\n",
       "   'За красотой может скрываться что угодно.'],\n",
       "  ['Поэтому лайфхак такой: ищем красивых, а среди них уже выбираем нормальных.',\n",
       "   'Как правило, их там одна на тысячу.',\n",
       "   'Многие современные ребята перестают готовить дома, а начинают покупать готовые салаты, ходить в кафешки, выписывать наборы для разогрева на неделю и пр. Что я думаю на эту тему?'],\n",
       "  ['Это все хуйня.',\n",
       "   'Конечно, в большом городе у таксиста есть время только на перекус на бегу, а у офисного работника только время на бизнес-ланч.',\n",
       "   'Приготовление еды - важнейшая часть семейных отношений.',\n",
       "   'Готовка - как поэзия.',\n",
       "   'Еда - это не напряг, а важнейшая часть общения.'],\n",
       "  ['Иногда через свекольник можно получить больше любви, чем через самую нежную беседу.',\n",
       "   'В кабинете современного стомалотога меня больше всего напрягает самый нежный, безболезненный и нестрашный момент - первичный осмотр.',\n",
       "   'Почему-то врач берез в руки металлические инструменты, напоминающие инвентарь скульптора, а начинает смотреть на челюсти.',\n",
       "   'Малейшее постукивание об зубы металлической кюретажной ложки или зеркальца вызывает у меня нескрываемое омерзение.',\n",
       "   'Спрашивается, почему бы не сделать инструмент первичного осмотра вообще резиновым или силиконовым?',\n",
       "   'Какая доктору разница, чем он отодвинет щеку?'],\n",
       "  ['Почему зеркало не может быть мягким и розовым?',\n",
       "   'Вот когда сделают анестезию, тогда пусть ковыряются чем хотят, я все равно не почувствую.',\n",
       "   'Я очень люблю пить воду.',\n",
       "   'И всегда пил ледяную.',\n",
       "   'Помню в детстве прибегал после прогулки, мчался в ванную, включал кран и долго наслаждался самой ледяной из возможных вод.',\n",
       "   'И во взрослом возрасте, когда перешел уже на воду в бутылках, всегда заказывал \"из холодильника\".'],\n",
       "  ['А в какой-то момент я задумался о вкусе воды.',\n",
       "   'И в результате экспериментов установил, что холодная вода - не такая вкусная.',\n",
       "   'И вода комнатной температуры - буэээ.',\n",
       "   'А самая вкусная - прохладная вода.',\n",
       "   'Вот если смешать воду из холодильника с водой комнатной температуры, получится то, что нужно.',\n",
       "   'И вкус будет наиболее охуенным.'],\n",
       "  ['Про зубную щетку нужно знать самое важное: что ее надо хотя бы раз в три месяца менять.',\n",
       "   'Куча ребят меняют щетку, только когда она становится похожей на паклю.',\n",
       "   'Это совершенно неправильно.',\n",
       "   'Во-первых, потому что такая щетка хуево чистит, во-вторых, потому что такая щетка является источником бактерий, которые за прошедший год на ней многократно перееблись и растят правнуков.',\n",
       "   'Не будь жадиной и посмешищем, поменяй свою щетку прямо сегодня!'],\n",
       "  ['Дети знают мат.',\n",
       "   'Дети матерятся.',\n",
       "   'Я научил своего брата всем матерным словам, когда ему было 4 года, а мне - 6 (он до сих пор мне за это предъявляет).',\n",
       "   'Сегодня все дети с утра до вечера тупят в ютюб, где нет ни одного геймерского стримера, который бы не матерился.',\n",
       "   'Как правильно родителям договориться с детьми по этому вопросу?',\n",
       "   'Я договорился так: можно знать любые слова, но произносить можно не любые.'],\n",
       "  ['Поэтому материться у меня в семье разрешается только с двенадцати лет и только в присутствии тех, кому больше двенадцати.',\n",
       "   'Как известно, Германия - самая ебанутая страна в вопросах соблюдения авторских прав.',\n",
       "   'Если не дай бог вставить в ролик фрагмент какой-нибудь песни, права на которую не куплены, то на территории Германии этот ролик проигрываться не будет.',\n",
       "   'А если в Германии скачать какой-нибудь фильмец через торрент, то можно будет вечером его посмотреть.',\n",
       "   'А через пару дней к тебе на почту придет штрафец евро на 800.',\n",
       "   'И тебе навсегда расхочется качать кино с торрента, а ты тупо подпишишься за десять евро на какой-нибудь стриминговый сервис.',\n",
       "   'Потому что в Германии антипиратское будущее уже наступило.'],\n",
       "  ['Когда я говорю по телефону, у меня правое ухо слышит в два раза лучше, чем левое.',\n",
       "   'Поэтому я всегда держу телефон у правого уха.',\n",
       "   'А левым ухом я слышу в два раза меньше информации.',\n",
       "   'Поэтому когда у меня правая рука устает держать трубку, я переключаюсь на левую руку.',\n",
       "   'Но ухо продолжает слышать правое.']]]"
      ]
     },
     "execution_count": 17,
     "metadata": {},
     "output_type": "execute_result"
    }
   ],
   "source": [
    "pred_pars"
   ]
  },
  {
   "cell_type": "code",
   "execution_count": 13,
   "metadata": {},
   "outputs": [
    {
     "data": {
      "text/plain": [
       "{'pk': [0.5145631067961165,\n",
       "  0.5294117647058824,\n",
       "  0.5370370370370371,\n",
       "  0.391304347826087,\n",
       "  0.4891304347826087,\n",
       "  0.5274725274725275,\n",
       "  0.2777777777777778],\n",
       " 'windowdiff': [0.5436893203883495,\n",
       "  0.5686274509803921,\n",
       "  0.5370370370370371,\n",
       "  0.4782608695652174,\n",
       "  0.5,\n",
       "  0.5494505494505495,\n",
       "  0.2962962962962963]}"
      ]
     },
     "execution_count": 13,
     "metadata": {},
     "output_type": "execute_result"
    }
   ],
   "source": [
    "all_scores"
   ]
  },
  {
   "cell_type": "code",
   "execution_count": 14,
   "metadata": {},
   "outputs": [
    {
     "data": {
      "text/plain": [
       "0.46667099948543384"
      ]
     },
     "execution_count": 14,
     "metadata": {},
     "output_type": "execute_result"
    }
   ],
   "source": [
    "np.mean(all_scores[\"pk\"])"
   ]
  },
  {
   "cell_type": "code",
   "execution_count": 15,
   "metadata": {},
   "outputs": [
    {
     "data": {
      "text/plain": [
       "0.4961945033882631"
      ]
     },
     "execution_count": 15,
     "metadata": {},
     "output_type": "execute_result"
    }
   ],
   "source": [
    "np.mean(all_scores[\"windowdiff\"])"
   ]
  },
  {
   "cell_type": "markdown",
   "metadata": {},
   "source": [
    "# WMD (Lebedev)"
   ]
  },
  {
   "cell_type": "code",
   "execution_count": 146,
   "metadata": {},
   "outputs": [
    {
     "data": {
      "text/plain": [
       "[0.9,\n",
       " 0.93,\n",
       " 0.96,\n",
       " 0.99,\n",
       " 1.02,\n",
       " 1.05,\n",
       " 1.08,\n",
       " 1.11,\n",
       " 1.14,\n",
       " 1.17,\n",
       " 1.2,\n",
       " 1.23,\n",
       " 1.26,\n",
       " 1.29,\n",
       " 1.32,\n",
       " 1.35,\n",
       " 1.38,\n",
       " 1.41,\n",
       " 1.44,\n",
       " 1.47,\n",
       " 1.5,\n",
       " 1.53,\n",
       " 1.56,\n",
       " 1.59,\n",
       " 1.62,\n",
       " 1.65,\n",
       " 1.68,\n",
       " 1.71,\n",
       " 1.74,\n",
       " 1.77,\n",
       " 1.8,\n",
       " 1.83,\n",
       " 1.86,\n",
       " 1.89,\n",
       " 1.92,\n",
       " 1.95,\n",
       " 1.98]"
      ]
     },
     "execution_count": 146,
     "metadata": {},
     "output_type": "execute_result"
    }
   ],
   "source": [
    "tau_candidates = [round(i,2) for i in list(0.01 * np.arange(90, 200, 3))]\n",
    "tau_candidates"
   ]
  },
  {
   "cell_type": "code",
   "execution_count": 147,
   "metadata": {},
   "outputs": [],
   "source": [
    "tau_dict_pk = {i:[] for i in tau_candidates}\n",
    "tau_dict_windowdiff = {i:[] for i in tau_candidates}"
   ]
  },
  {
   "cell_type": "code",
   "execution_count": 148,
   "metadata": {
    "scrolled": true
   },
   "outputs": [
    {
     "data": {
      "application/vnd.jupyter.widget-view+json": {
       "model_id": "70a6d107ab07455090bf1d3664c7987e",
       "version_major": 2,
       "version_minor": 0
      },
      "text/plain": [
       "HBox(children=(IntProgress(value=0, max=4), HTML(value='')))"
      ]
     },
     "metadata": {},
     "output_type": "display_data"
    },
    {
     "name": "stdout",
     "output_type": "stream",
     "text": [
      "Lemmatizing sentences\n",
      "10 20\n",
      "Lemmatizing sentences\n",
      "10 22\n",
      "Lemmatizing sentences\n",
      "10 22\n",
      "Lemmatizing sentences\n",
      "10 29\n",
      "Lemmatizing sentences\n",
      "10 30\n",
      "Lemmatizing sentences\n",
      "10 30\n",
      "Lemmatizing sentences\n",
      "10 31\n",
      "Lemmatizing sentences\n",
      "10 28\n",
      "Lemmatizing sentences\n",
      "10 30\n",
      "Lemmatizing sentences\n",
      "10 38\n",
      "Lemmatizing sentences\n",
      "10 33\n",
      "Lemmatizing sentences\n",
      "10 28\n",
      "Lemmatizing sentences\n",
      "10 23\n",
      "Lemmatizing sentences\n",
      "10 18\n",
      "Lemmatizing sentences\n",
      "10 15\n",
      "Lemmatizing sentences\n",
      "10 13\n",
      "Lemmatizing sentences\n",
      "10 10\n",
      "Lemmatizing sentences\n",
      "10 4\n",
      "Lemmatizing sentences\n",
      "10 1\n",
      "Lemmatizing sentences\n",
      "10 1\n",
      "Lemmatizing sentences\n",
      "10 1\n",
      "Lemmatizing sentences\n",
      "10 1\n",
      "Lemmatizing sentences\n",
      "10 1\n",
      "Lemmatizing sentences\n",
      "10 1\n",
      "Lemmatizing sentences\n",
      "10 1\n",
      "Lemmatizing sentences\n",
      "10 1\n",
      "Lemmatizing sentences\n",
      "10 1\n",
      "Lemmatizing sentences\n",
      "10 1\n",
      "Lemmatizing sentences\n",
      "10 1\n",
      "Lemmatizing sentences\n",
      "10 1\n",
      "Lemmatizing sentences\n",
      "10 1\n",
      "Lemmatizing sentences\n",
      "10 1\n",
      "Lemmatizing sentences\n",
      "10 1\n",
      "Lemmatizing sentences\n",
      "10 1\n",
      "Lemmatizing sentences\n",
      "10 1\n",
      "Lemmatizing sentences\n",
      "10 1\n",
      "Lemmatizing sentences\n",
      "10 1\n",
      "Lemmatizing sentences\n",
      "7 7\n",
      "Lemmatizing sentences\n",
      "7 9\n",
      "Lemmatizing sentences\n",
      "7 9\n",
      "Lemmatizing sentences\n",
      "7 11\n",
      "Lemmatizing sentences\n",
      "7 12\n",
      "Lemmatizing sentences\n",
      "7 12\n",
      "Lemmatizing sentences\n",
      "7 16\n",
      "Lemmatizing sentences\n",
      "7 19\n",
      "Lemmatizing sentences\n",
      "7 23\n",
      "Lemmatizing sentences\n",
      "7 25\n",
      "Lemmatizing sentences\n",
      "7 21\n",
      "Lemmatizing sentences\n",
      "7 19\n",
      "Lemmatizing sentences\n",
      "7 13\n",
      "Lemmatizing sentences\n",
      "7 13\n",
      "Lemmatizing sentences\n",
      "7 8\n",
      "Lemmatizing sentences\n",
      "7 6\n",
      "Lemmatizing sentences\n",
      "7 4\n",
      "Lemmatizing sentences\n",
      "7 2\n",
      "Lemmatizing sentences\n",
      "7 1\n",
      "Lemmatizing sentences\n",
      "7 1\n",
      "Lemmatizing sentences\n",
      "7 1\n",
      "Lemmatizing sentences\n",
      "7 1\n",
      "Lemmatizing sentences\n",
      "7 1\n",
      "Lemmatizing sentences\n",
      "7 1\n",
      "Lemmatizing sentences\n",
      "7 1\n",
      "Lemmatizing sentences\n",
      "7 1\n",
      "Lemmatizing sentences\n",
      "7 1\n",
      "Lemmatizing sentences\n",
      "7 1\n",
      "Lemmatizing sentences\n",
      "7 1\n",
      "Lemmatizing sentences\n",
      "7 1\n",
      "Lemmatizing sentences\n",
      "7 1\n",
      "Lemmatizing sentences\n",
      "7 1\n",
      "Lemmatizing sentences\n",
      "7 1\n",
      "Lemmatizing sentences\n",
      "7 1\n",
      "Lemmatizing sentences\n",
      "7 1\n",
      "Lemmatizing sentences\n",
      "7 1\n",
      "Lemmatizing sentences\n",
      "7 1\n",
      "Lemmatizing sentences\n",
      "7 9\n",
      "Lemmatizing sentences\n",
      "7 13\n",
      "Lemmatizing sentences\n",
      "7 15\n",
      "Lemmatizing sentences\n",
      "7 17\n",
      "Lemmatizing sentences\n",
      "7 19\n",
      "Lemmatizing sentences\n",
      "7 21\n",
      "Lemmatizing sentences\n",
      "7 24\n",
      "Lemmatizing sentences\n",
      "7 24\n",
      "Lemmatizing sentences\n",
      "7 20\n",
      "Lemmatizing sentences\n",
      "7 20\n",
      "Lemmatizing sentences\n",
      "7 19\n",
      "Lemmatizing sentences\n",
      "7 13\n",
      "Lemmatizing sentences\n",
      "7 10\n",
      "Lemmatizing sentences\n",
      "7 5\n",
      "Lemmatizing sentences\n",
      "7 4\n",
      "Lemmatizing sentences\n",
      "7 3\n",
      "Lemmatizing sentences\n",
      "7 2\n",
      "Lemmatizing sentences\n",
      "7 2\n",
      "Lemmatizing sentences\n",
      "7 2\n",
      "Lemmatizing sentences\n",
      "7 2\n",
      "Lemmatizing sentences\n",
      "7 2\n",
      "Lemmatizing sentences\n",
      "7 2\n",
      "Lemmatizing sentences\n",
      "7 2\n",
      "Lemmatizing sentences\n",
      "7 2\n",
      "Lemmatizing sentences\n",
      "7 2\n",
      "Lemmatizing sentences\n",
      "7 2\n",
      "Lemmatizing sentences\n",
      "7 2\n",
      "Lemmatizing sentences\n",
      "7 2\n",
      "Lemmatizing sentences\n",
      "7 2\n",
      "Lemmatizing sentences\n",
      "7 2\n",
      "Lemmatizing sentences\n",
      "7 2\n",
      "Lemmatizing sentences\n",
      "7 2\n",
      "Lemmatizing sentences\n",
      "7 2\n",
      "Lemmatizing sentences\n",
      "7 2\n",
      "Lemmatizing sentences\n",
      "7 2\n",
      "Lemmatizing sentences\n",
      "7 2\n",
      "Lemmatizing sentences\n",
      "7 2\n",
      "Lemmatizing sentences\n",
      "7 8\n",
      "Lemmatizing sentences\n",
      "7 8\n",
      "Lemmatizing sentences\n",
      "7 8\n",
      "Lemmatizing sentences\n",
      "7 7\n",
      "Lemmatizing sentences\n",
      "7 10\n",
      "Lemmatizing sentences\n",
      "7 12\n",
      "Lemmatizing sentences\n",
      "7 15\n",
      "Lemmatizing sentences\n",
      "7 19\n",
      "Lemmatizing sentences\n",
      "7 18\n",
      "Lemmatizing sentences\n",
      "7 19\n",
      "Lemmatizing sentences\n",
      "7 15\n",
      "Lemmatizing sentences\n",
      "7 14\n",
      "Lemmatizing sentences\n",
      "7 12\n",
      "Lemmatizing sentences\n",
      "7 11\n",
      "Lemmatizing sentences\n",
      "7 8\n",
      "Lemmatizing sentences\n",
      "7 6\n",
      "Lemmatizing sentences\n",
      "7 5\n",
      "Lemmatizing sentences\n",
      "7 4\n",
      "Lemmatizing sentences\n",
      "7 3\n",
      "Lemmatizing sentences\n",
      "7 3\n",
      "Lemmatizing sentences\n",
      "7 2\n",
      "Lemmatizing sentences\n",
      "7 2\n",
      "Lemmatizing sentences\n",
      "7 2\n",
      "Lemmatizing sentences\n",
      "7 2\n",
      "Lemmatizing sentences\n",
      "7 2\n",
      "Lemmatizing sentences\n",
      "7 2\n",
      "Lemmatizing sentences\n",
      "7 2\n",
      "Lemmatizing sentences\n",
      "7 2\n",
      "Lemmatizing sentences\n",
      "7 2\n",
      "Lemmatizing sentences\n",
      "7 2\n",
      "Lemmatizing sentences\n",
      "7 2\n",
      "Lemmatizing sentences\n",
      "7 2\n",
      "Lemmatizing sentences\n",
      "7 2\n",
      "Lemmatizing sentences\n",
      "7 2\n",
      "Lemmatizing sentences\n",
      "7 2\n",
      "Lemmatizing sentences\n",
      "7 2\n",
      "Lemmatizing sentences\n",
      "7 2\n"
     ]
    }
   ],
   "source": [
    "for path in tqdm(text_paths[:-3]):\n",
    "        \n",
    "    for tau in tau_candidates:\n",
    "        \n",
    "        (dists, sents, \n",
    "         real_paragraphs, \n",
    "         pred_segment_indices, \n",
    "         pred_paragraphs) = f.segmentize_bipartite_subgraphs(path, \n",
    "                                                    model=model,\n",
    "                                                    tau=tau,\n",
    "                                                    wmd=True)\n",
    "        \n",
    "        print(len(real_paragraphs), len(pred_segment_indices))\n",
    "        if len(pred_segment_indices) < len(real_paragraphs)/2 or len(pred_segment_indices) > len(real_paragraphs)*2:\n",
    "            continue\n",
    "        \n",
    "        k = round(0.5*len(sents)/len(real_paragraphs))\n",
    "        scores = f.evaluate(f.gold_segment_indices(real_paragraphs), pred_segment_indices, k=k)\n",
    "            \n",
    "        \n",
    "        tau_dict_pk[tau].append(scores[\"pk\"])\n",
    "        tau_dict_windowdiff[tau].append(scores[\"windowdiff\"])"
   ]
  },
  {
   "cell_type": "code",
   "execution_count": 149,
   "metadata": {},
   "outputs": [
    {
     "data": {
      "text/plain": [
       "{0.9: [0.5825242718446602,\n",
       "  0.43137254901960786,\n",
       "  0.42592592592592593,\n",
       "  0.6304347826086957],\n",
       " 1.29: [0.3883495145631068,\n",
       "  0.43137254901960786,\n",
       "  0.42592592592592593,\n",
       "  0.6086956521739131],\n",
       " 1.32: [0.32038834951456313,\n",
       "  0.39215686274509803,\n",
       "  0.42592592592592593,\n",
       "  0.6086956521739131]}"
      ]
     },
     "execution_count": 149,
     "metadata": {},
     "output_type": "execute_result"
    }
   ],
   "source": [
    "tau_dict_pk_short = {k:v for k,v in tau_dict_pk.items() if len(v) == 4}\n",
    "tau_dict_pk_short"
   ]
  },
  {
   "cell_type": "code",
   "execution_count": 150,
   "metadata": {},
   "outputs": [
    {
     "data": {
      "text/plain": [
       "{0.9: 0.5175643823497225, 1.29: 0.46358591042063846, 1.32: 0.436791697589875}"
      ]
     },
     "execution_count": 150,
     "metadata": {},
     "output_type": "execute_result"
    }
   ],
   "source": [
    "{k:np.mean(v) for k,v in tau_dict_pk_short.items()}"
   ]
  },
  {
   "cell_type": "code",
   "execution_count": 151,
   "metadata": {},
   "outputs": [
    {
     "data": {
      "text/plain": [
       "{0.9: [0.6893203883495146, 0.49019607843137253, 0.5, 0.6739130434782609],\n",
       " 1.29: [0.5436893203883495,\n",
       "  0.5490196078431373,\n",
       "  0.46296296296296297,\n",
       "  0.7608695652173914],\n",
       " 1.32: [0.46601941747572817,\n",
       "  0.47058823529411764,\n",
       "  0.46296296296296297,\n",
       "  0.6956521739130435]}"
      ]
     },
     "execution_count": 151,
     "metadata": {},
     "output_type": "execute_result"
    }
   ],
   "source": [
    "tau_dict_windowdiff_short = {k:v for k,v in tau_dict_windowdiff.items() if len(v) == 4}\n",
    "tau_dict_windowdiff_short"
   ]
  },
  {
   "cell_type": "code",
   "execution_count": 170,
   "metadata": {},
   "outputs": [
    {
     "data": {
      "text/plain": [
       "{0.9: 0.588357377564787, 1.29: 0.5791353641029603, 1.32: 0.5238056974114631}"
      ]
     },
     "execution_count": 170,
     "metadata": {},
     "output_type": "execute_result"
    }
   ],
   "source": [
    "{k:np.mean(v) for k,v in tau_dict_windowdiff_short.items()}"
   ]
  },
  {
   "cell_type": "code",
   "execution_count": null,
   "metadata": {},
   "outputs": [],
   "source": [
    "# tau = 1.32"
   ]
  },
  {
   "cell_type": "markdown",
   "metadata": {},
   "source": [
    "# Testing"
   ]
  },
  {
   "cell_type": "code",
   "execution_count": 179,
   "metadata": {},
   "outputs": [
    {
     "data": {
      "application/vnd.jupyter.widget-view+json": {
       "model_id": "cdffe9f20de34277838e370b108e886e",
       "version_major": 2,
       "version_minor": 0
      },
      "text/plain": [
       "HBox(children=(IntProgress(value=0, max=3), HTML(value='')))"
      ]
     },
     "metadata": {},
     "output_type": "display_data"
    },
    {
     "name": "stdout",
     "output_type": "stream",
     "text": [
      "texts/lebedev/05.txt\n",
      "Lemmatizing sentences\n",
      "12 10\n",
      "texts/lebedev/06.txt\n",
      "Lemmatizing sentences\n",
      "9 8\n",
      "texts/lebedev/07.txt\n",
      "Lemmatizing sentences\n",
      "8 6\n"
     ]
    }
   ],
   "source": [
    "all_scores = {\"pk\":[], \"windowdiff\":[]}\n",
    "real_pars = []\n",
    "pred_pars = []\n",
    "tau=1.32\n",
    "\n",
    "for path in tqdm(text_paths[-3:]):\n",
    "        \n",
    "    print(path)\n",
    "    (wmd_distances, sents, real_paragraphs, pred_segment_indices, pred_paragraphs) = f.segmentize_bipartite_subgraphs(path, \n",
    "                                                                                                       model=model,\n",
    "                                                                                                        tau=tau,\n",
    "                                                                                                        wmd=True)\n",
    "        \n",
    "    print(len(real_paragraphs), len(pred_segment_indices))\n",
    "        \n",
    "    k = round(0.5*len(sents)/len(real_paragraphs))\n",
    "    scores = f.evaluate(f.gold_segment_indices(real_paragraphs), pred_segment_indices, k=k)     \n",
    "    \n",
    "        \n",
    "    all_scores[\"pk\"].append(scores[\"pk\"])\n",
    "    all_scores[\"windowdiff\"].append(scores[\"windowdiff\"])\n",
    "    \n",
    "    real_pars.append(real_paragraphs)\n",
    "    pred_pars.append(pred_paragraphs)"
   ]
  },
  {
   "cell_type": "code",
   "execution_count": 180,
   "metadata": {},
   "outputs": [
    {
     "data": {
      "text/plain": [
       "{'pk': [0.5543478260869565, 0.6043956043956044, 0.35185185185185186],\n",
       " 'windowdiff': [0.5978260869565217, 0.6153846153846154, 0.4074074074074074]}"
      ]
     },
     "execution_count": 180,
     "metadata": {},
     "output_type": "execute_result"
    }
   ],
   "source": [
    "all_scores"
   ]
  },
  {
   "cell_type": "code",
   "execution_count": 181,
   "metadata": {},
   "outputs": [
    {
     "data": {
      "text/plain": [
       "0.5035317607781377"
      ]
     },
     "execution_count": 181,
     "metadata": {},
     "output_type": "execute_result"
    }
   ],
   "source": [
    "np.mean(all_scores[\"pk\"])"
   ]
  },
  {
   "cell_type": "code",
   "execution_count": 182,
   "metadata": {},
   "outputs": [
    {
     "data": {
      "text/plain": [
       "0.5402060365828482"
      ]
     },
     "execution_count": 182,
     "metadata": {},
     "output_type": "execute_result"
    }
   ],
   "source": [
    "np.mean(all_scores[\"windowdiff\"])"
   ]
  },
  {
   "cell_type": "code",
   "execution_count": null,
   "metadata": {},
   "outputs": [],
   "source": []
  }
 ],
 "metadata": {
  "kernelspec": {
   "display_name": "Python 3",
   "language": "python",
   "name": "python3"
  },
  "language_info": {
   "codemirror_mode": {
    "name": "ipython",
    "version": 3
   },
   "file_extension": ".py",
   "mimetype": "text/x-python",
   "name": "python",
   "nbconvert_exporter": "python",
   "pygments_lexer": "ipython3",
   "version": "3.7.3"
  }
 },
 "nbformat": 4,
 "nbformat_minor": 2
}
